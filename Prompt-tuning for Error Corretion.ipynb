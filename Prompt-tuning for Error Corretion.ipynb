{
 "cells": [
  {
   "cell_type": "markdown",
   "id": "enhanced-sector",
   "metadata": {},
   "source": [
    "## Environment Setup"
   ]
  },
  {
   "cell_type": "code",
   "execution_count": 1,
   "id": "architectural-investing",
   "metadata": {
    "scrolled": true
   },
   "outputs": [
    {
     "name": "stderr",
     "output_type": "stream",
     "text": [
      "[nltk_data] Downloading package wordnet to /h/omidv/nltk_data...\n",
      "[nltk_data]   Package wordnet is already up-to-date!\n",
      "[nltk_data] Downloading package omw-1.4 to /h/omidv/nltk_data...\n",
      "[nltk_data]   Package omw-1.4 is already up-to-date!\n"
     ]
    },
    {
     "data": {
      "text/plain": [
       "True"
      ]
     },
     "execution_count": 1,
     "metadata": {},
     "output_type": "execute_result"
    }
   ],
   "source": [
    "from codes.evaluation import *\n",
    "from codes.configs import *\n",
    "load_dotenv() # Load the environment variables"
   ]
  },
  {
   "cell_type": "code",
   "execution_count": 2,
   "id": "nonprofit-spiritual",
   "metadata": {},
   "outputs": [],
   "source": [
    "df = pd.read_json(\"/fs01/home/omidv/ASR-Error-Correction/data/test_cv.json\")\n",
    "cv_results_path = \"/fs01/home/omidv/ASR-Error-Correction/results/test_cv.json\"\n",
    "cv_dataset = Dataset.from_pandas(df)\n",
    "df = pd.read_json(\"/fs01/home/omidv/ASR-Error-Correction/data/test_lrs2.json\")\n",
    "lrs_results_path = \"/fs01/home/omidv/ASR-Error-Correction/results/test_lrs2.json\"\n",
    "lrs_dataset = Dataset.from_pandas(df)\n",
    "df = pd.read_json(\"/fs01/home/omidv/ASR-Error-Correction/data/test_chime4.json\")\n",
    "chime_results_path = \"/fs01/home/omidv/ASR-Error-Correction/results/test_chime4.json\"\n",
    "chime_dataset = Dataset.from_pandas(df)"
   ]
  },
  {
   "cell_type": "markdown",
   "id": "limiting-utility",
   "metadata": {},
   "source": [
    "## GPT models"
   ]
  },
  {
   "cell_type": "code",
   "execution_count": 3,
   "id": "fourth-blond",
   "metadata": {},
   "outputs": [],
   "source": [
    "api_key = os.environ.get(\"OPENAI_API_KEY\")\n",
    "client = openai.AsyncOpenAI(api_key=api_key)"
   ]
  },
  {
   "cell_type": "code",
   "execution_count": 4,
   "id": "political-precipitation",
   "metadata": {},
   "outputs": [
    {
     "name": "stdout",
     "output_type": "stream",
     "text": [
      "Hello! I'm an AI language model created by OpenAI. My purpose is to assist you by providing information, answering questions, and engaging in conversation on a variety of topics. If there's anything specific you'd like to know or discuss, feel free to ask!\n"
     ]
    }
   ],
   "source": [
    "model = \"gpt-4o-mini\"\n",
    "await check_availability(client, model)"
   ]
  },
  {
   "cell_type": "code",
   "execution_count": 11,
   "id": "exclusive-overhead",
   "metadata": {
    "scrolled": true
   },
   "outputs": [
    {
     "name": "stdout",
     "output_type": "stream",
     "text": [
      "Progress: Batch of 256 tests completed!\n",
      "Progress: Batch of 256 tests completed!\n",
      "Progress: Batch of 256 tests completed!\n",
      "Progress: Batch of 256 tests completed!\n",
      "Progress: Batch of 256 tests completed!\n",
      "Progress: Batch of 256 tests completed!\n",
      "Progress: Batch of 256 tests completed!\n",
      "Progress: Batch of 208 tests completed!\n",
      "----------------------------------------------------------------------------------------------------\n",
      "Sample 530\n",
      "\n",
      "----------------------------------------------------------------------------------------------------\n",
      "Sample 243\n",
      "sentence 1\n",
      "REF: the saint george leagues club is located nearby on  princes highway\n",
      "HYP: the    st george leagues club is located nearby on princess highway\n",
      "             S                                                 S        \n",
      "\n",
      "----------------------------------------------------------------------------------------------------\n",
      "Sample 1447\n",
      "\n",
      "----------------------------------------------------------------------------------------------------\n",
      "Results saved to /fs01/home/omidv/ASR-Error-Correction/results/test_cv.json\n"
     ]
    },
    {
     "name": "stderr",
     "output_type": "stream",
     "text": [
      "Some weights of RobertaModel were not initialized from the model checkpoint at roberta-large and are newly initialized: ['roberta.pooler.dense.bias', 'roberta.pooler.dense.weight']\n",
      "You should probably TRAIN this model on a down-stream task to be able to use it for predictions and inference.\n"
     ]
    },
    {
     "name": "stdout",
     "output_type": "stream",
     "text": [
      "{'WER': 0.143, 'METEOR': 0.884, 'BERT Precision': 0.815, 'BERT Recall': 0.832, 'BERT F1': 0.823}\n"
     ]
    }
   ],
   "source": [
    "results_table = await evaluate_model_parallel(cv_dataset, model, client, zero_shot_instruct1, cv_generation_config, cv_results_path)\n",
    "print(results_table)"
   ]
  },
  {
   "cell_type": "code",
   "execution_count": 12,
   "id": "signal-relief",
   "metadata": {
    "scrolled": true
   },
   "outputs": [
    {
     "name": "stdout",
     "output_type": "stream",
     "text": [
      "Progress: Batch of 256 tests completed!\n",
      "Progress: Batch of 256 tests completed!\n",
      "Progress: Batch of 256 tests completed!\n",
      "Progress: Batch of 256 tests completed!\n",
      "Progress: Batch of 256 tests completed!\n",
      "Progress: Batch of 256 tests completed!\n",
      "Progress: Batch of 256 tests completed!\n",
      "Progress: Batch of 208 tests completed!\n",
      "----------------------------------------------------------------------------------------------------\n",
      "Sample 184\n",
      "\n",
      "----------------------------------------------------------------------------------------------------\n",
      "Sample 773\n",
      "\n",
      "----------------------------------------------------------------------------------------------------\n",
      "Sample 1401\n",
      "sentence 1\n",
      "REF: they have to develop the software and hardware\n",
      "HYP: they have to develop the software  in hardware\n",
      "                                         S         \n",
      "\n",
      "----------------------------------------------------------------------------------------------------\n",
      "Results saved to /fs01/home/omidv/ASR-Error-Correction/results/test_cv.json\n"
     ]
    },
    {
     "name": "stderr",
     "output_type": "stream",
     "text": [
      "Some weights of RobertaModel were not initialized from the model checkpoint at roberta-large and are newly initialized: ['roberta.pooler.dense.bias', 'roberta.pooler.dense.weight']\n",
      "You should probably TRAIN this model on a down-stream task to be able to use it for predictions and inference.\n"
     ]
    },
    {
     "name": "stdout",
     "output_type": "stream",
     "text": [
      "{'WER': 0.137, 'METEOR': 0.882, 'BERT Precision': 0.81, 'BERT Recall': 0.824, 'BERT F1': 0.817}\n"
     ]
    }
   ],
   "source": [
    "results_table = await evaluate_model_parallel(cv_dataset, model, client, zero_shot_instruct1_closest, cv_generation_config, cv_results_path)\n",
    "print(results_table)"
   ]
  },
  {
   "cell_type": "code",
   "execution_count": 13,
   "id": "pending-burst",
   "metadata": {
    "scrolled": true
   },
   "outputs": [
    {
     "name": "stdout",
     "output_type": "stream",
     "text": [
      "Progress: Batch of 256 tests completed!\n",
      "Progress: Batch of 256 tests completed!\n",
      "Progress: Batch of 256 tests completed!\n",
      "Progress: Batch of 256 tests completed!\n",
      "Progress: Batch of 256 tests completed!\n",
      "Progress: Batch of 256 tests completed!\n",
      "Progress: Batch of 256 tests completed!\n",
      "Progress: Batch of 208 tests completed!\n",
      "----------------------------------------------------------------------------------------------------\n",
      "Sample 320\n",
      "\n",
      "----------------------------------------------------------------------------------------------------\n",
      "Sample 806\n",
      "sentence 1\n",
      "REF: ** **** *** vincennes in uraga channel at the mouth to tokyo bay\n",
      "HYP: we will see      this in oraga channel at the mouth to tokyo bay\n",
      "      I    I   I         S        S                                  \n",
      "\n",
      "----------------------------------------------------------------------------------------------------\n",
      "Sample 1331\n",
      "sentence 1\n",
      "REF: it is effective against         gram positive and         gram negative bacteria yeast and fungi\n",
      "HYP: it is effective against grampositive ******** and gramnegative ******** bacteria yeast and fungi\n",
      "                                        S        D                S        D                         \n",
      "\n",
      "----------------------------------------------------------------------------------------------------\n",
      "Results saved to /fs01/home/omidv/ASR-Error-Correction/results/test_cv.json\n"
     ]
    },
    {
     "name": "stderr",
     "output_type": "stream",
     "text": [
      "Some weights of RobertaModel were not initialized from the model checkpoint at roberta-large and are newly initialized: ['roberta.pooler.dense.bias', 'roberta.pooler.dense.weight']\n",
      "You should probably TRAIN this model on a down-stream task to be able to use it for predictions and inference.\n"
     ]
    },
    {
     "name": "stdout",
     "output_type": "stream",
     "text": [
      "{'WER': 0.157, 'METEOR': 0.877, 'BERT Precision': 0.811, 'BERT Recall': 0.828, 'BERT F1': 0.82}\n"
     ]
    }
   ],
   "source": [
    "results_table = await evaluate_model_parallel(cv_dataset, model, client, zero_shot_instruct2, cv_generation_config, cv_results_path)\n",
    "print(results_table)"
   ]
  },
  {
   "cell_type": "code",
   "execution_count": 14,
   "id": "established-incidence",
   "metadata": {
    "scrolled": true
   },
   "outputs": [
    {
     "name": "stdout",
     "output_type": "stream",
     "text": [
      "Progress: Batch of 256 tests completed!\n",
      "Progress: Batch of 256 tests completed!\n",
      "Progress: Batch of 256 tests completed!\n",
      "Progress: Batch of 256 tests completed!\n",
      "Progress: Batch of 256 tests completed!\n",
      "Progress: Batch of 256 tests completed!\n",
      "Progress: Batch of 256 tests completed!\n",
      "Progress: Batch of 208 tests completed!\n",
      "----------------------------------------------------------------------------------------------------\n",
      "Sample 1589\n",
      "\n",
      "----------------------------------------------------------------------------------------------------\n",
      "Sample 1908\n",
      "sentence 1\n",
      "REF: fuel was carried in two tanks in the upper wings\n",
      "HYP: fall was carried in two times in the upper wings\n",
      "        S                        S                   \n",
      "\n",
      "----------------------------------------------------------------------------------------------------\n",
      "Sample 277\n",
      "sentence 1\n",
      "REF: others found    work       as peddlers jewelers launderers hebrew tutors and even shopkeepers\n",
      "HYP:  other found workers pedalers ******** jewelers  launchers hebrew tutors and even shopkeepers\n",
      "          S             S        S        D                   S                                   \n",
      "\n",
      "----------------------------------------------------------------------------------------------------\n",
      "Results saved to /fs01/home/omidv/ASR-Error-Correction/results/test_cv.json\n"
     ]
    },
    {
     "name": "stderr",
     "output_type": "stream",
     "text": [
      "Some weights of RobertaModel were not initialized from the model checkpoint at roberta-large and are newly initialized: ['roberta.pooler.dense.bias', 'roberta.pooler.dense.weight']\n",
      "You should probably TRAIN this model on a down-stream task to be able to use it for predictions and inference.\n"
     ]
    },
    {
     "name": "stdout",
     "output_type": "stream",
     "text": [
      "{'WER': 0.138, 'METEOR': 0.882, 'BERT Precision': 0.81, 'BERT Recall': 0.824, 'BERT F1': 0.817}\n"
     ]
    }
   ],
   "source": [
    "results_table = await evaluate_model_parallel(cv_dataset, model, client, zero_shot_instruct2_closest, cv_generation_config, cv_results_path)\n",
    "print(results_table)"
   ]
  },
  {
   "cell_type": "code",
   "execution_count": 15,
   "id": "casual-inspection",
   "metadata": {
    "scrolled": true
   },
   "outputs": [
    {
     "name": "stdout",
     "output_type": "stream",
     "text": [
      "Progress: Batch of 256 tests completed!\n",
      "Progress: Batch of 256 tests completed!\n",
      "Progress: Batch of 256 tests completed!\n",
      "Progress: Batch of 256 tests completed!\n",
      "Progress: Batch of 256 tests completed!\n",
      "Progress: Batch of 256 tests completed!\n",
      "Progress: Batch of 256 tests completed!\n",
      "Progress: Batch of 208 tests completed!\n",
      "----------------------------------------------------------------------------------------------------\n",
      "Sample 1472\n",
      "\n",
      "----------------------------------------------------------------------------------------------------\n",
      "Sample 364\n",
      "sentence 1\n",
      "REF: as a result ***** poglavnik is sometimes translated as fuhrer in english language sources\n",
      "HYP: as a result hogue   labniki is sometimes translated as  fewer in english language sources\n",
      "                     I         S                                 S                            \n",
      "\n",
      "----------------------------------------------------------------------------------------------------\n",
      "Sample 71\n",
      "\n",
      "----------------------------------------------------------------------------------------------------\n",
      "Results saved to /fs01/home/omidv/ASR-Error-Correction/results/test_cv.json\n"
     ]
    },
    {
     "name": "stderr",
     "output_type": "stream",
     "text": [
      "Some weights of RobertaModel were not initialized from the model checkpoint at roberta-large and are newly initialized: ['roberta.pooler.dense.bias', 'roberta.pooler.dense.weight']\n",
      "You should probably TRAIN this model on a down-stream task to be able to use it for predictions and inference.\n"
     ]
    },
    {
     "name": "stdout",
     "output_type": "stream",
     "text": [
      "{'WER': 0.156, 'METEOR': 0.878, 'BERT Precision': 0.811, 'BERT Recall': 0.828, 'BERT F1': 0.82}\n"
     ]
    }
   ],
   "source": [
    "results_table = await evaluate_model_parallel(cv_dataset, model, client, zero_shot_instruct3, cv_generation_config, cv_results_path)\n",
    "print(results_table)"
   ]
  },
  {
   "cell_type": "code",
   "execution_count": 16,
   "id": "convenient-cleaners",
   "metadata": {
    "scrolled": true
   },
   "outputs": [
    {
     "name": "stdout",
     "output_type": "stream",
     "text": [
      "Progress: Batch of 256 tests completed!\n",
      "Progress: Batch of 256 tests completed!\n",
      "Progress: Batch of 256 tests completed!\n",
      "Progress: Batch of 256 tests completed!\n",
      "Progress: Batch of 256 tests completed!\n",
      "Progress: Batch of 256 tests completed!\n",
      "Progress: Batch of 256 tests completed!\n",
      "Progress: Batch of 208 tests completed!\n",
      "----------------------------------------------------------------------------------------------------\n",
      "Sample 1736\n",
      "sentence 1\n",
      "REF: ** its county seat is blue earth\n",
      "HYP: it  is county seed is blue earth\n",
      "      I   S           S              \n",
      "\n",
      "----------------------------------------------------------------------------------------------------\n",
      "Sample 407\n",
      "\n",
      "----------------------------------------------------------------------------------------------------\n",
      "Sample 864\n",
      "sentence 1\n",
      "REF: queen elena granted ******* anatoly durov  jun\n",
      "HYP: queen elena granted anatoli    duro    of june\n",
      "                               I       S     S    S\n",
      "\n",
      "----------------------------------------------------------------------------------------------------\n",
      "Results saved to /fs01/home/omidv/ASR-Error-Correction/results/test_cv.json\n"
     ]
    },
    {
     "name": "stderr",
     "output_type": "stream",
     "text": [
      "Some weights of RobertaModel were not initialized from the model checkpoint at roberta-large and are newly initialized: ['roberta.pooler.dense.bias', 'roberta.pooler.dense.weight']\n",
      "You should probably TRAIN this model on a down-stream task to be able to use it for predictions and inference.\n"
     ]
    },
    {
     "name": "stdout",
     "output_type": "stream",
     "text": [
      "{'WER': 0.138, 'METEOR': 0.881, 'BERT Precision': 0.81, 'BERT Recall': 0.825, 'BERT F1': 0.818}\n"
     ]
    }
   ],
   "source": [
    "results_table = await evaluate_model_parallel(cv_dataset, model, client, zero_shot_instruct3_closest, cv_generation_config, cv_results_path)\n",
    "print(results_table)"
   ]
  },
  {
   "cell_type": "code",
   "execution_count": 17,
   "id": "broadband-disney",
   "metadata": {
    "scrolled": true
   },
   "outputs": [
    {
     "name": "stdout",
     "output_type": "stream",
     "text": [
      "Progress: Batch of 256 tests completed!\n",
      "Progress: Batch of 256 tests completed!\n",
      "Progress: Batch of 256 tests completed!\n",
      "Progress: Batch of 256 tests completed!\n",
      "Progress: Batch of 256 tests completed!\n",
      "Progress: Batch of 256 tests completed!\n",
      "Progress: Batch of 256 tests completed!\n",
      "Progress: Batch of 208 tests completed!\n",
      "----------------------------------------------------------------------------------------------------\n",
      "Sample 915\n",
      "\n",
      "----------------------------------------------------------------------------------------------------\n",
      "Sample 1987\n",
      "\n",
      "----------------------------------------------------------------------------------------------------\n",
      "Sample 278\n",
      "sentence 1\n",
      "REF: he hails from the lau islands\n",
      "HYP: he hails from the lao islands\n",
      "                         S        \n",
      "\n",
      "----------------------------------------------------------------------------------------------------\n",
      "Results saved to /fs01/home/omidv/ASR-Error-Correction/results/test_cv.json\n"
     ]
    },
    {
     "name": "stderr",
     "output_type": "stream",
     "text": [
      "Some weights of RobertaModel were not initialized from the model checkpoint at roberta-large and are newly initialized: ['roberta.pooler.dense.bias', 'roberta.pooler.dense.weight']\n",
      "You should probably TRAIN this model on a down-stream task to be able to use it for predictions and inference.\n"
     ]
    },
    {
     "name": "stdout",
     "output_type": "stream",
     "text": [
      "{'WER': 0.151, 'METEOR': 0.881, 'BERT Precision': 0.813, 'BERT Recall': 0.83, 'BERT F1': 0.821}\n"
     ]
    }
   ],
   "source": [
    "results_table = await evaluate_model_parallel(cv_dataset, model, client, zero_shot_instruct4, cv_generation_config, cv_results_path)\n",
    "print(results_table)"
   ]
  },
  {
   "cell_type": "code",
   "execution_count": 18,
   "id": "dominican-advocate",
   "metadata": {
    "scrolled": true
   },
   "outputs": [
    {
     "name": "stdout",
     "output_type": "stream",
     "text": [
      "Progress: Batch of 256 tests completed!\n",
      "Progress: Batch of 256 tests completed!\n",
      "Progress: Batch of 256 tests completed!\n",
      "Progress: Batch of 256 tests completed!\n",
      "Progress: Batch of 256 tests completed!\n",
      "Progress: Batch of 256 tests completed!\n",
      "Progress: Batch of 256 tests completed!\n",
      "Progress: Batch of 208 tests completed!\n",
      "----------------------------------------------------------------------------------------------------\n",
      "Sample 1760\n",
      "sentence 1\n",
      "REF: the recommendation was turned down initially but *** cooper key persevered\n",
      "HYP: the recommendation was turned down initially but cup     of tea  preserved\n",
      "                                                        I      S   S          S\n",
      "\n",
      "----------------------------------------------------------------------------------------------------\n",
      "Sample 677\n",
      "\n",
      "----------------------------------------------------------------------------------------------------\n",
      "Sample 1315\n",
      "sentence 1\n",
      "REF: i would like to stress **** nothing in ethiopia will change\n",
      "HYP: i would like to stress that nothing in ethiopia will change\n",
      "                               I                                \n",
      "\n",
      "----------------------------------------------------------------------------------------------------\n",
      "Results saved to /fs01/home/omidv/ASR-Error-Correction/results/test_cv.json\n"
     ]
    },
    {
     "name": "stderr",
     "output_type": "stream",
     "text": [
      "Some weights of RobertaModel were not initialized from the model checkpoint at roberta-large and are newly initialized: ['roberta.pooler.dense.bias', 'roberta.pooler.dense.weight']\n",
      "You should probably TRAIN this model on a down-stream task to be able to use it for predictions and inference.\n"
     ]
    },
    {
     "name": "stdout",
     "output_type": "stream",
     "text": [
      "{'WER': 0.137, 'METEOR': 0.882, 'BERT Precision': 0.811, 'BERT Recall': 0.826, 'BERT F1': 0.818}\n"
     ]
    }
   ],
   "source": [
    "results_table = await evaluate_model_parallel(cv_dataset, model, client, zero_shot_instruct4_closest, cv_generation_config, cv_results_path)\n",
    "print(results_table)"
   ]
  },
  {
   "cell_type": "code",
   "execution_count": 19,
   "id": "developed-indie",
   "metadata": {
    "scrolled": true
   },
   "outputs": [
    {
     "name": "stdout",
     "output_type": "stream",
     "text": [
      "Progress: Batch of 256 tests completed!\n",
      "Progress: Batch of 256 tests completed!\n",
      "Progress: Batch of 256 tests completed!\n",
      "Progress: Batch of 256 tests completed!\n",
      "Progress: Batch of 256 tests completed!\n",
      "Progress: Batch of 256 tests completed!\n",
      "Progress: Batch of 256 tests completed!\n",
      "Progress: Batch of 208 tests completed!\n",
      "----------------------------------------------------------------------------------------------------\n",
      "Sample 817\n",
      "sentence 1\n",
      "REF: as the  terms progress the restrictions are relaxed\n",
      "HYP: as the storms progress the restrictions are relaxed\n",
      "                 S                                      \n",
      "\n",
      "----------------------------------------------------------------------------------------------------\n",
      "Sample 72\n",
      "sentence 1\n",
      "REF:  leo mcleay was born in sydney and was a telephone technician before entering politics\n",
      "HYP: liam mcleay was born in sydney and was a telephone technician before entering politics\n",
      "        S                                                                                  \n",
      "\n",
      "----------------------------------------------------------------------------------------------------\n",
      "Sample 1122\n",
      "sentence 1\n",
      "REF: thereafter it became part of the kingdom of hungary within        austria hungary\n",
      "HYP: thereafter it became part of the kingdom of hungary within austriahungary *******\n",
      "                                                                             S       D\n",
      "\n",
      "----------------------------------------------------------------------------------------------------\n",
      "Results saved to /fs01/home/omidv/ASR-Error-Correction/results/test_cv.json\n"
     ]
    },
    {
     "name": "stderr",
     "output_type": "stream",
     "text": [
      "Some weights of RobertaModel were not initialized from the model checkpoint at roberta-large and are newly initialized: ['roberta.pooler.dense.bias', 'roberta.pooler.dense.weight']\n",
      "You should probably TRAIN this model on a down-stream task to be able to use it for predictions and inference.\n"
     ]
    },
    {
     "name": "stdout",
     "output_type": "stream",
     "text": [
      "{'WER': 0.223, 'METEOR': 0.841, 'BERT Precision': 0.777, 'BERT Recall': 0.785, 'BERT F1': 0.781}\n"
     ]
    }
   ],
   "source": [
    "results_table = await evaluate_model_parallel(cv_dataset, model, client, zero_shot_instruct5, cv_generation_config, cv_results_path)\n",
    "print(results_table)"
   ]
  },
  {
   "cell_type": "code",
   "execution_count": 20,
   "id": "fluid-northern",
   "metadata": {
    "scrolled": true
   },
   "outputs": [
    {
     "name": "stdout",
     "output_type": "stream",
     "text": [
      "Progress: Batch of 256 tests completed!\n",
      "Progress: Batch of 256 tests completed!\n",
      "Progress: Batch of 256 tests completed!\n",
      "Progress: Batch of 256 tests completed!\n",
      "Progress: Batch of 256 tests completed!\n",
      "Progress: Batch of 256 tests completed!\n",
      "Progress: Batch of 256 tests completed!\n",
      "Progress: Batch of 208 tests completed!\n",
      "----------------------------------------------------------------------------------------------------\n",
      "Sample 1494\n",
      "sentence 1\n",
      "REF: she is the middle of three daughters born to douglas and   angela chalke\n",
      "HYP: she is the middle of three daughters born to douglas and angelina  quack\n",
      "                                                                     S      S\n",
      "\n",
      "----------------------------------------------------------------------------------------------------\n",
      "Sample 407\n",
      "\n",
      "----------------------------------------------------------------------------------------------------\n",
      "Sample 1571\n",
      "\n",
      "----------------------------------------------------------------------------------------------------\n",
      "Results saved to /fs01/home/omidv/ASR-Error-Correction/results/test_cv.json\n"
     ]
    },
    {
     "name": "stderr",
     "output_type": "stream",
     "text": [
      "Some weights of RobertaModel were not initialized from the model checkpoint at roberta-large and are newly initialized: ['roberta.pooler.dense.bias', 'roberta.pooler.dense.weight']\n",
      "You should probably TRAIN this model on a down-stream task to be able to use it for predictions and inference.\n"
     ]
    },
    {
     "name": "stdout",
     "output_type": "stream",
     "text": [
      "{'WER': 0.135, 'METEOR': 0.884, 'BERT Precision': 0.813, 'BERT Recall': 0.826, 'BERT F1': 0.819}\n"
     ]
    }
   ],
   "source": [
    "results_table = await evaluate_model_parallel(cv_dataset, model, client, zero_shot_instruct5_closest, cv_generation_config, cv_results_path)\n",
    "print(results_table)"
   ]
  },
  {
   "cell_type": "code",
   "execution_count": 21,
   "id": "acoustic-greensboro",
   "metadata": {},
   "outputs": [
    {
     "name": "stdout",
     "output_type": "stream",
     "text": [
      "Progress: Batch of 256 tests completed!\n",
      "Progress: Batch of 256 tests completed!\n",
      "Progress: Batch of 256 tests completed!\n",
      "Progress: Batch of 256 tests completed!\n",
      "Progress: Batch of 256 tests completed!\n",
      "Progress: Batch of 256 tests completed!\n",
      "Progress: Batch of 256 tests completed!\n",
      "Progress: Batch of 208 tests completed!\n",
      "----------------------------------------------------------------------------------------------------\n",
      "Sample 873\n",
      "sentence 1\n",
      "REF: the controversy led to    drawn out protests between parents and authorities\n",
      "HYP: the controversy led to drawnout *** protests between parents and authorities\n",
      "                                   S   D                                         \n",
      "\n",
      "----------------------------------------------------------------------------------------------------\n",
      "Sample 1416\n",
      "sentence 1\n",
      "REF: this work is commonly referred to as     de orbe for short\n",
      "HYP: this work is commonly referred to as doctor **** for short\n",
      "                                               S    D          \n",
      "\n",
      "----------------------------------------------------------------------------------------------------\n",
      "Sample 142\n",
      "\n",
      "----------------------------------------------------------------------------------------------------\n",
      "Results saved to /fs01/home/omidv/ASR-Error-Correction/results/test_cv.json\n"
     ]
    },
    {
     "name": "stderr",
     "output_type": "stream",
     "text": [
      "Some weights of RobertaModel were not initialized from the model checkpoint at roberta-large and are newly initialized: ['roberta.pooler.dense.bias', 'roberta.pooler.dense.weight']\n",
      "You should probably TRAIN this model on a down-stream task to be able to use it for predictions and inference.\n"
     ]
    },
    {
     "name": "stdout",
     "output_type": "stream",
     "text": [
      "{'WER': 0.157, 'METEOR': 0.876, 'BERT Precision': 0.809, 'BERT Recall': 0.824, 'BERT F1': 0.816}\n"
     ]
    }
   ],
   "source": [
    "results_table = await evaluate_model_parallel(cv_dataset, model, client, zero_shot_instruct6, cv_generation_config, cv_results_path)\n",
    "print(results_table)"
   ]
  },
  {
   "cell_type": "code",
   "execution_count": 22,
   "id": "acting-homeless",
   "metadata": {
    "scrolled": true
   },
   "outputs": [
    {
     "name": "stdout",
     "output_type": "stream",
     "text": [
      "Progress: Batch of 256 tests completed!\n",
      "Progress: Batch of 256 tests completed!\n",
      "Progress: Batch of 256 tests completed!\n",
      "Progress: Batch of 256 tests completed!\n",
      "Progress: Batch of 256 tests completed!\n",
      "Progress: Batch of 256 tests completed!\n",
      "Progress: Batch of 256 tests completed!\n",
      "Progress: Batch of 208 tests completed!\n",
      "----------------------------------------------------------------------------------------------------\n",
      "Sample 258\n",
      "sentence 1\n",
      "REF: there are still three *** neonazis in the  town is parliament\n",
      "HYP: there are still three new    nazis in the towns ** parliament\n",
      "                             I        S            S  D           \n",
      "\n",
      "----------------------------------------------------------------------------------------------------\n",
      "Sample 1145\n",
      "sentence 1\n",
      "REF: this  cadre of educators went out into remote communities to teach rural blacks\n",
      "HYP:  the skater of educators went out into remote communities to teach rural blacks\n",
      "        S      S                                                                    \n",
      "\n",
      "----------------------------------------------------------------------------------------------------\n",
      "Sample 793\n",
      "\n",
      "----------------------------------------------------------------------------------------------------\n",
      "Results saved to /fs01/home/omidv/ASR-Error-Correction/results/test_cv.json\n"
     ]
    },
    {
     "name": "stderr",
     "output_type": "stream",
     "text": [
      "Some weights of RobertaModel were not initialized from the model checkpoint at roberta-large and are newly initialized: ['roberta.pooler.dense.bias', 'roberta.pooler.dense.weight']\n",
      "You should probably TRAIN this model on a down-stream task to be able to use it for predictions and inference.\n"
     ]
    },
    {
     "name": "stdout",
     "output_type": "stream",
     "text": [
      "{'WER': 0.14, 'METEOR': 0.88, 'BERT Precision': 0.808, 'BERT Recall': 0.822, 'BERT F1': 0.815}\n"
     ]
    }
   ],
   "source": [
    "results_table = await evaluate_model_parallel(cv_dataset, model, client, zero_shot_instruct6_closest, cv_generation_config, cv_results_path)\n",
    "print(results_table)"
   ]
  },
  {
   "cell_type": "code",
   "execution_count": 23,
   "id": "french-acceptance",
   "metadata": {
    "scrolled": true
   },
   "outputs": [
    {
     "name": "stdout",
     "output_type": "stream",
     "text": [
      "Progress: Batch of 256 tests completed!\n",
      "Progress: Batch of 256 tests completed!\n",
      "Progress: Batch of 256 tests completed!\n",
      "Progress: Batch of 256 tests completed!\n",
      "Progress: Batch of 256 tests completed!\n",
      "Progress: Batch of 256 tests completed!\n",
      "Progress: Batch of 256 tests completed!\n",
      "Progress: Batch of 208 tests completed!\n",
      "----------------------------------------------------------------------------------------------------\n",
      "Sample 1394\n",
      "\n",
      "----------------------------------------------------------------------------------------------------\n",
      "Sample 360\n",
      "sentence 1\n",
      "REF: the head is dark gray and the blackish tail is tipped with pale gray brown\n",
      "HYP: the  hat is dark gray and the blackish tail is tipped with pale gray brown\n",
      "            S                                                                  \n",
      "\n",
      "----------------------------------------------------------------------------------------------------\n",
      "Sample 31\n",
      "sentence 1\n",
      "REF: steller has participated in the  alaska mock trial competition for a number of years\n",
      "HYP: stellar has participated in the alaskan mock trial competition for a number of years\n",
      "           S                               S                                             \n",
      "\n",
      "----------------------------------------------------------------------------------------------------\n",
      "Results saved to /fs01/home/omidv/ASR-Error-Correction/results/test_cv.json\n"
     ]
    },
    {
     "name": "stderr",
     "output_type": "stream",
     "text": [
      "Some weights of RobertaModel were not initialized from the model checkpoint at roberta-large and are newly initialized: ['roberta.pooler.dense.bias', 'roberta.pooler.dense.weight']\n",
      "You should probably TRAIN this model on a down-stream task to be able to use it for predictions and inference.\n"
     ]
    },
    {
     "name": "stdout",
     "output_type": "stream",
     "text": [
      "{'WER': 0.141, 'METEOR': 0.885, 'BERT Precision': 0.815, 'BERT Recall': 0.834, 'BERT F1': 0.824}\n"
     ]
    }
   ],
   "source": [
    "results_table = await evaluate_model_parallel(cv_dataset, model, client, zero_shot_instruct7, cv_generation_config, cv_results_path)\n",
    "print(results_table)"
   ]
  },
  {
   "cell_type": "code",
   "execution_count": 5,
   "id": "powerful-anger",
   "metadata": {
    "scrolled": true
   },
   "outputs": [
    {
     "name": "stdout",
     "output_type": "stream",
     "text": [
      "Progress: Batch of 256 tests completed!\n",
      "Progress: Batch of 256 tests completed!\n",
      "Progress: Batch of 256 tests completed!\n",
      "Progress: Batch of 256 tests completed!\n",
      "Progress: Batch of 256 tests completed!\n",
      "Progress: Batch of 256 tests completed!\n",
      "Progress: Batch of 256 tests completed!\n",
      "Progress: Batch of 208 tests completed!\n",
      "----------------------------------------------------------------------------------------------------\n",
      "Sample 321\n",
      "\n",
      "----------------------------------------------------------------------------------------------------\n",
      "Sample 1526\n",
      "sentence 1\n",
      "REF: snorri sturluson writing a century later said that konghelle never completely recovered\n",
      "HYP:  stori sturluson writing a century later said that    gornal never completely recovered\n",
      "          S                                                     S                           \n",
      "\n",
      "----------------------------------------------------------------------------------------------------\n",
      "Sample 273\n",
      "\n",
      "----------------------------------------------------------------------------------------------------\n",
      "Results saved to /fs01/home/omidv/ASR-Error-Correction/results/test_cv.json\n"
     ]
    },
    {
     "name": "stderr",
     "output_type": "stream",
     "text": [
      "Some weights of RobertaModel were not initialized from the model checkpoint at roberta-large and are newly initialized: ['roberta.pooler.dense.bias', 'roberta.pooler.dense.weight']\n",
      "You should probably TRAIN this model on a down-stream task to be able to use it for predictions and inference.\n"
     ]
    },
    {
     "name": "stdout",
     "output_type": "stream",
     "text": [
      "{'WER': 0.138, 'METEOR': 0.882, 'BERT Precision': 0.81, 'BERT Recall': 0.824, 'BERT F1': 0.817}\n"
     ]
    }
   ],
   "source": [
    "results_table = await evaluate_model_parallel(cv_dataset, model, client, zero_shot_instruct7_closest, cv_generation_config, cv_results_path)\n",
    "print(results_table)"
   ]
  },
  {
   "cell_type": "code",
   "execution_count": 25,
   "id": "swiss-interval",
   "metadata": {
    "scrolled": true
   },
   "outputs": [
    {
     "name": "stdout",
     "output_type": "stream",
     "text": [
      "Progress: Batch of 256 tests completed!\n",
      "Progress: Batch of 256 tests completed!\n",
      "Progress: Batch of 256 tests completed!\n",
      "Progress: Batch of 256 tests completed!\n",
      "Progress: Batch of 256 tests completed!\n",
      "Progress: Batch of 256 tests completed!\n",
      "Progress: Batch of 256 tests completed!\n",
      "Progress: Batch of 208 tests completed!\n",
      "----------------------------------------------------------------------------------------------------\n",
      "Sample 894\n",
      "sentence 1\n",
      "REF: he has published works ** under several other names including grandma and i cactus\n",
      "HYP: he has published works on   the several other names including   raman and i cactus\n",
      "                             I     S                                     S             \n",
      "\n",
      "----------------------------------------------------------------------------------------------------\n",
      "Sample 546\n",
      "sentence 1\n",
      "REF: caramon wears a winged helmet and his face bears a look of grim determination\n",
      "HYP: karaman wears a winged helmet and his face bears a look of grim determination\n",
      "           S                                                                      \n",
      "\n",
      "----------------------------------------------------------------------------------------------------\n",
      "Sample 1759\n",
      "sentence 1\n",
      "REF: **** ** kingscliff is a beach community offering a variety of holiday accommodations\n",
      "HYP: king is       clif is a beach community offering a variety of holiday accommodations\n",
      "        I  I          S                                                                  \n",
      "\n",
      "----------------------------------------------------------------------------------------------------\n",
      "Results saved to /fs01/home/omidv/ASR-Error-Correction/results/test_cv.json\n"
     ]
    },
    {
     "name": "stderr",
     "output_type": "stream",
     "text": [
      "Some weights of RobertaModel were not initialized from the model checkpoint at roberta-large and are newly initialized: ['roberta.pooler.dense.bias', 'roberta.pooler.dense.weight']\n",
      "You should probably TRAIN this model on a down-stream task to be able to use it for predictions and inference.\n"
     ]
    },
    {
     "name": "stdout",
     "output_type": "stream",
     "text": [
      "{'WER': 0.16, 'METEOR': 0.865, 'BERT Precision': 0.783, 'BERT Recall': 0.795, 'BERT F1': 0.789}\n"
     ]
    }
   ],
   "source": [
    "results_table = await evaluate_model_parallel(cv_dataset, model, client, zero_shot_instruct8, cv_generation_config, cv_results_path)\n",
    "print(results_table)"
   ]
  },
  {
   "cell_type": "code",
   "execution_count": 26,
   "id": "lesbian-courage",
   "metadata": {
    "scrolled": true
   },
   "outputs": [
    {
     "name": "stdout",
     "output_type": "stream",
     "text": [
      "Progress: Batch of 256 tests completed!\n",
      "Progress: Batch of 256 tests completed!\n",
      "Progress: Batch of 256 tests completed!\n",
      "Progress: Batch of 256 tests completed!\n",
      "Progress: Batch of 256 tests completed!\n",
      "Progress: Batch of 256 tests completed!\n",
      "Progress: Batch of 256 tests completed!\n",
      "Progress: Batch of 208 tests completed!\n",
      "----------------------------------------------------------------------------------------------------\n",
      "Sample 1814\n",
      "sentence 1\n",
      "REF: blind with rage he darted in\n",
      "HYP: blind with rage he dotted in\n",
      "                             S   \n",
      "\n",
      "----------------------------------------------------------------------------------------------------\n",
      "Sample 200\n",
      "\n",
      "----------------------------------------------------------------------------------------------------\n",
      "Sample 921\n",
      "sentence 1\n",
      "REF: there are many temples mosques churches **** guruduwaras\n",
      "HYP: there are many temples mosques churches rudu       waras\n",
      "                                                I           S\n",
      "\n",
      "----------------------------------------------------------------------------------------------------\n",
      "Results saved to /fs01/home/omidv/ASR-Error-Correction/results/test_cv.json\n"
     ]
    },
    {
     "name": "stderr",
     "output_type": "stream",
     "text": [
      "Some weights of RobertaModel were not initialized from the model checkpoint at roberta-large and are newly initialized: ['roberta.pooler.dense.bias', 'roberta.pooler.dense.weight']\n",
      "You should probably TRAIN this model on a down-stream task to be able to use it for predictions and inference.\n"
     ]
    },
    {
     "name": "stdout",
     "output_type": "stream",
     "text": [
      "{'WER': 0.158, 'METEOR': 0.865, 'BERT Precision': 0.784, 'BERT Recall': 0.795, 'BERT F1': 0.79}\n"
     ]
    }
   ],
   "source": [
    "results_table = await evaluate_model_parallel(cv_dataset, model, client, zero_shot_instruct8_closest, cv_generation_config, cv_results_path)\n",
    "print(results_table)"
   ]
  },
  {
   "cell_type": "code",
   "execution_count": null,
   "id": "electronic-comfort",
   "metadata": {},
   "outputs": [],
   "source": [
    "model = \"gpt-4o\"\n",
    "await check_availability(client, model)"
   ]
  },
  {
   "cell_type": "code",
   "execution_count": null,
   "id": "aging-coffee",
   "metadata": {},
   "outputs": [],
   "source": []
  },
  {
   "cell_type": "code",
   "execution_count": null,
   "id": "activated-expense",
   "metadata": {},
   "outputs": [],
   "source": []
  },
  {
   "cell_type": "markdown",
   "id": "defensive-chart",
   "metadata": {},
   "source": [
    "## Playground of LLMs"
   ]
  },
  {
   "cell_type": "code",
   "execution_count": 3,
   "id": "departmental-partition",
   "metadata": {},
   "outputs": [],
   "source": [
    "base_url = \"https://kscope.vectorinstitute.ai/v1\"\n",
    "api_key = os.environ.get(\"CUSTOM_API_KEY\")\n",
    "client = openai.AsyncOpenAI(api_key=api_key, base_url=base_url)"
   ]
  },
  {
   "cell_type": "code",
   "execution_count": 4,
   "id": "artistic-ownership",
   "metadata": {
    "scrolled": true
   },
   "outputs": [
    {
     "name": "stdout",
     "output_type": "stream",
     "text": [
      "Hello! I am Gemma, an open-weights AI assistant. I'm a large language model, which means I've been trained on a massive amount of text data. This allows me to communicate and generate human-like text in response to a wide range of prompts and questions. For example, I can provide summaries of factual topics or create stories.\n",
      "\n",
      "Because I am open-weights, my weights are publicly available. This means anyone can access and study how I work, which promotes transparency and collaboration in the AI community.\n",
      "\n",
      "What can I do for you today?\n",
      "\n"
     ]
    }
   ],
   "source": [
    "model = \"gemma-2-9b-it\"\n",
    "await check_availability(client, model)"
   ]
  },
  {
   "cell_type": "code",
   "execution_count": 5,
   "id": "apparent-entity",
   "metadata": {
    "scrolled": true
   },
   "outputs": [
    {
     "name": "stdout",
     "output_type": "stream",
     "text": [
      "Progress: Batch of 256 tests completed!\n",
      "Progress: Batch of 256 tests completed!\n",
      "Progress: Batch of 256 tests completed!\n",
      "Progress: Batch of 256 tests completed!\n",
      "Progress: Batch of 256 tests completed!\n",
      "Progress: Batch of 256 tests completed!\n",
      "Progress: Batch of 256 tests completed!\n",
      "Progress: Batch of 208 tests completed!\n",
      "----------------------------------------------------------------------------------------------------\n",
      "Sample 1763\n",
      "sentence 1\n",
      "REF: today   most     of   the noongar live in the perth metropolitan region\n",
      "HYP: today mister nungal lived ******* **** in the perth metropolitan region\n",
      "                S      S     S       D    D                                 \n",
      "\n",
      "----------------------------------------------------------------------------------------------------\n",
      "Sample 1784\n",
      "\n",
      "----------------------------------------------------------------------------------------------------\n",
      "Sample 1569\n",
      "\n",
      "----------------------------------------------------------------------------------------------------\n",
      "Results saved to /fs01/home/omidv/ASR-Error-Correction/results/test_cv.json\n"
     ]
    },
    {
     "name": "stderr",
     "output_type": "stream",
     "text": [
      "Some weights of RobertaModel were not initialized from the model checkpoint at roberta-large and are newly initialized: ['roberta.pooler.dense.bias', 'roberta.pooler.dense.weight']\n",
      "You should probably TRAIN this model on a down-stream task to be able to use it for predictions and inference.\n"
     ]
    },
    {
     "name": "stdout",
     "output_type": "stream",
     "text": [
      "{'WER': 0.144, 'METEOR': 0.883, 'BERT Precision': 0.812, 'BERT Recall': 0.827, 'BERT F1': 0.819}\n"
     ]
    }
   ],
   "source": [
    "results_table = await evaluate_model_parallel(cv_dataset, model, client, zero_shot_instruct1, cv_generation_config, cv_results_path)\n",
    "print(results_table)"
   ]
  },
  {
   "cell_type": "code",
   "execution_count": 6,
   "id": "pleased-royal",
   "metadata": {
    "scrolled": true
   },
   "outputs": [
    {
     "name": "stdout",
     "output_type": "stream",
     "text": [
      "Progress: Batch of 256 tests completed!\n",
      "Progress: Batch of 256 tests completed!\n",
      "Progress: Batch of 256 tests completed!\n",
      "Progress: Batch of 256 tests completed!\n",
      "Progress: Batch of 256 tests completed!\n",
      "Progress: Batch of 256 tests completed!\n",
      "Progress: Batch of 256 tests completed!\n",
      "Progress: Batch of 208 tests completed!\n",
      "----------------------------------------------------------------------------------------------------\n",
      "Sample 985\n",
      "\n",
      "----------------------------------------------------------------------------------------------------\n",
      "Sample 761\n",
      "sentence 1\n",
      "REF: he exhibited a far going    syncretism\n",
      "HYP: he exhibited a far going synchronicity\n",
      "                                          S\n",
      "\n",
      "----------------------------------------------------------------------------------------------------\n",
      "Sample 860\n",
      "sentence 1\n",
      "REF: the crater interior is relatively flat and marked only by tiny craterlets\n",
      "HYP: the crater interior is relatively flat and mocked only by tiny  quagilets\n",
      "                                                     S                       S\n",
      "\n",
      "----------------------------------------------------------------------------------------------------\n",
      "Results saved to /fs01/home/omidv/ASR-Error-Correction/results/test_cv.json\n"
     ]
    },
    {
     "name": "stderr",
     "output_type": "stream",
     "text": [
      "Some weights of RobertaModel were not initialized from the model checkpoint at roberta-large and are newly initialized: ['roberta.pooler.dense.bias', 'roberta.pooler.dense.weight']\n",
      "You should probably TRAIN this model on a down-stream task to be able to use it for predictions and inference.\n"
     ]
    },
    {
     "name": "stdout",
     "output_type": "stream",
     "text": [
      "{'WER': 0.138, 'METEOR': 0.881, 'BERT Precision': 0.809, 'BERT Recall': 0.822, 'BERT F1': 0.816}\n"
     ]
    }
   ],
   "source": [
    "results_table = await evaluate_model_parallel(cv_dataset, model, client, zero_shot_instruct1_closest, cv_generation_config, cv_results_path)\n",
    "print(results_table)"
   ]
  },
  {
   "cell_type": "code",
   "execution_count": 7,
   "id": "efficient-training",
   "metadata": {
    "scrolled": true
   },
   "outputs": [
    {
     "name": "stdout",
     "output_type": "stream",
     "text": [
      "Progress: Batch of 256 tests completed!\n",
      "Progress: Batch of 256 tests completed!\n",
      "Progress: Batch of 256 tests completed!\n",
      "Progress: Batch of 256 tests completed!\n",
      "Progress: Batch of 256 tests completed!\n",
      "Progress: Batch of 256 tests completed!\n",
      "Progress: Batch of 256 tests completed!\n",
      "Progress: Batch of 208 tests completed!\n",
      "----------------------------------------------------------------------------------------------------\n",
      "Sample 980\n",
      "\n",
      "----------------------------------------------------------------------------------------------------\n",
      "Sample 16\n",
      "\n",
      "----------------------------------------------------------------------------------------------------\n",
      "Sample 387\n",
      "sentence 1\n",
      "REF: * modern monetary systems usually  consist of mints central banks and commercial banks\n",
      "HYP: a modern monetary  system usually consists of ***** central banks and commercial banks\n",
      "     I                       S                S        D                                   \n",
      "\n",
      "----------------------------------------------------------------------------------------------------\n",
      "Results saved to /fs01/home/omidv/ASR-Error-Correction/results/test_cv.json\n"
     ]
    },
    {
     "name": "stderr",
     "output_type": "stream",
     "text": [
      "Some weights of RobertaModel were not initialized from the model checkpoint at roberta-large and are newly initialized: ['roberta.pooler.dense.bias', 'roberta.pooler.dense.weight']\n",
      "You should probably TRAIN this model on a down-stream task to be able to use it for predictions and inference.\n"
     ]
    },
    {
     "name": "stdout",
     "output_type": "stream",
     "text": [
      "{'WER': 0.162, 'METEOR': 0.875, 'BERT Precision': 0.808, 'BERT Recall': 0.824, 'BERT F1': 0.816}\n"
     ]
    }
   ],
   "source": [
    "results_table = await evaluate_model_parallel(cv_dataset, model, client, zero_shot_instruct2, cv_generation_config, cv_results_path)\n",
    "print(results_table)"
   ]
  },
  {
   "cell_type": "code",
   "execution_count": 8,
   "id": "spare-manual",
   "metadata": {
    "scrolled": true
   },
   "outputs": [
    {
     "name": "stdout",
     "output_type": "stream",
     "text": [
      "Progress: Batch of 256 tests completed!\n",
      "Progress: Batch of 256 tests completed!\n",
      "Progress: Batch of 256 tests completed!\n",
      "Progress: Batch of 256 tests completed!\n",
      "Progress: Batch of 256 tests completed!\n",
      "Progress: Batch of 256 tests completed!\n",
      "Progress: Batch of 256 tests completed!\n",
      "Progress: Batch of 208 tests completed!\n",
      "----------------------------------------------------------------------------------------------------\n",
      "Sample 534\n",
      "\n",
      "----------------------------------------------------------------------------------------------------\n",
      "Sample 986\n",
      "sentence 1\n",
      "REF: the work was left incomplete at the author is death\n",
      "HYP: the work was left incomplete at the author is  desk\n",
      "                                                       S\n",
      "\n",
      "----------------------------------------------------------------------------------------------------\n",
      "Sample 861\n",
      "sentence 1\n",
      "REF: this layer is generally rich in nutrients  and weathers to form deep clay loams\n",
      "HYP: this layer is generally rich in nutrients that weathers to form deep clay loams\n",
      "                                                  S                                 \n",
      "\n",
      "----------------------------------------------------------------------------------------------------\n",
      "Results saved to /fs01/home/omidv/ASR-Error-Correction/results/test_cv.json\n"
     ]
    },
    {
     "name": "stderr",
     "output_type": "stream",
     "text": [
      "Some weights of RobertaModel were not initialized from the model checkpoint at roberta-large and are newly initialized: ['roberta.pooler.dense.bias', 'roberta.pooler.dense.weight']\n",
      "You should probably TRAIN this model on a down-stream task to be able to use it for predictions and inference.\n"
     ]
    },
    {
     "name": "stdout",
     "output_type": "stream",
     "text": [
      "{'WER': 0.137, 'METEOR': 0.882, 'BERT Precision': 0.811, 'BERT Recall': 0.824, 'BERT F1': 0.818}\n"
     ]
    }
   ],
   "source": [
    "results_table = await evaluate_model_parallel(cv_dataset, model, client, zero_shot_instruct2_closest, cv_generation_config, cv_results_path)\n",
    "print(results_table)"
   ]
  },
  {
   "cell_type": "code",
   "execution_count": 9,
   "id": "approximate-taxation",
   "metadata": {
    "scrolled": true
   },
   "outputs": [
    {
     "name": "stdout",
     "output_type": "stream",
     "text": [
      "Progress: Batch of 256 tests completed!\n",
      "Progress: Batch of 256 tests completed!\n",
      "Progress: Batch of 256 tests completed!\n",
      "Progress: Batch of 256 tests completed!\n",
      "Progress: Batch of 256 tests completed!\n",
      "Progress: Batch of 256 tests completed!\n",
      "Progress: Batch of 256 tests completed!\n",
      "Progress: Batch of 208 tests completed!\n",
      "----------------------------------------------------------------------------------------------------\n",
      "Sample 1879\n",
      "\n",
      "----------------------------------------------------------------------------------------------------\n",
      "Sample 1312\n",
      "sentence 1\n",
      "REF: he was also known for his meticulous research behind the books\n",
      "HYP: he was also known for his meticulous research behind the  book\n",
      "                                                                  S\n",
      "\n",
      "----------------------------------------------------------------------------------------------------\n",
      "Sample 1830\n",
      "sentence 1\n",
      "REF: * young girl wearing * gray and pink sweater and leather boots shields her    face from the camera\n",
      "HYP: a young girl wearing a gray and pink sweater and leather boots shields the surface from the camera\n",
      "     I                    I                                                   S       S                \n",
      "\n",
      "----------------------------------------------------------------------------------------------------\n",
      "Results saved to /fs01/home/omidv/ASR-Error-Correction/results/test_cv.json\n"
     ]
    },
    {
     "name": "stderr",
     "output_type": "stream",
     "text": [
      "Some weights of RobertaModel were not initialized from the model checkpoint at roberta-large and are newly initialized: ['roberta.pooler.dense.bias', 'roberta.pooler.dense.weight']\n",
      "You should probably TRAIN this model on a down-stream task to be able to use it for predictions and inference.\n"
     ]
    },
    {
     "name": "stdout",
     "output_type": "stream",
     "text": [
      "{'WER': 0.16, 'METEOR': 0.875, 'BERT Precision': 0.807, 'BERT Recall': 0.821, 'BERT F1': 0.814}\n"
     ]
    }
   ],
   "source": [
    "results_table = await evaluate_model_parallel(cv_dataset, model, client, zero_shot_instruct3, cv_generation_config, cv_results_path)\n",
    "print(results_table)"
   ]
  },
  {
   "cell_type": "code",
   "execution_count": 10,
   "id": "verified-minimum",
   "metadata": {
    "scrolled": true
   },
   "outputs": [
    {
     "name": "stdout",
     "output_type": "stream",
     "text": [
      "Progress: Batch of 256 tests completed!\n",
      "Progress: Batch of 256 tests completed!\n",
      "Progress: Batch of 256 tests completed!\n",
      "Progress: Batch of 256 tests completed!\n",
      "Progress: Batch of 256 tests completed!\n",
      "Progress: Batch of 256 tests completed!\n",
      "Progress: Batch of 256 tests completed!\n",
      "Progress: Batch of 208 tests completed!\n",
      "----------------------------------------------------------------------------------------------------\n",
      "Sample 1744\n",
      "sentence 1\n",
      "REF: oliver aide  to mister bogan who had ****** rubbermaid in his arms fainted\n",
      "HYP: oliver    i too mister bogan who had rubber       made in his arms fainted\n",
      "               S   S                           I          S                    \n",
      "\n",
      "----------------------------------------------------------------------------------------------------\n",
      "Sample 1565\n",
      "sentence 1\n",
      "REF: this map shows   counties as well as ***** municipalities\n",
      "HYP: this map shows continuous as well as bonus         levels\n",
      "                             S                I              S\n",
      "\n",
      "----------------------------------------------------------------------------------------------------\n",
      "Sample 952\n",
      "sentence 1\n",
      "REF: canadian explosives limited built an additional cordite factory at nobel ontario\n",
      "HYP: canadian explosives limited built an additional cordite factory at novel ontario\n",
      "                                                                            S        \n",
      "\n",
      "----------------------------------------------------------------------------------------------------\n",
      "Results saved to /fs01/home/omidv/ASR-Error-Correction/results/test_cv.json\n"
     ]
    },
    {
     "name": "stderr",
     "output_type": "stream",
     "text": [
      "Some weights of RobertaModel were not initialized from the model checkpoint at roberta-large and are newly initialized: ['roberta.pooler.dense.bias', 'roberta.pooler.dense.weight']\n",
      "You should probably TRAIN this model on a down-stream task to be able to use it for predictions and inference.\n"
     ]
    },
    {
     "name": "stdout",
     "output_type": "stream",
     "text": [
      "{'WER': 0.139, 'METEOR': 0.881, 'BERT Precision': 0.81, 'BERT Recall': 0.823, 'BERT F1': 0.817}\n"
     ]
    }
   ],
   "source": [
    "results_table = await evaluate_model_parallel(cv_dataset, model, client, zero_shot_instruct3_closest, cv_generation_config, cv_results_path)\n",
    "print(results_table)"
   ]
  },
  {
   "cell_type": "code",
   "execution_count": 11,
   "id": "chubby-reservoir",
   "metadata": {
    "scrolled": true
   },
   "outputs": [
    {
     "name": "stdout",
     "output_type": "stream",
     "text": [
      "Progress: Batch of 256 tests completed!\n",
      "Progress: Batch of 256 tests completed!\n",
      "Progress: Batch of 256 tests completed!\n",
      "Progress: Batch of 256 tests completed!\n",
      "Progress: Batch of 256 tests completed!\n",
      "Progress: Batch of 256 tests completed!\n",
      "Progress: Batch of 256 tests completed!\n",
      "Progress: Batch of 208 tests completed!\n",
      "----------------------------------------------------------------------------------------------------\n",
      "Sample 910\n",
      "sentence 1\n",
      "REF: the single is b side was the         non album track elaine\n",
      "HYP: the single ** b site was the nonexistent track    of elaine\n",
      "                 D      S                   S     S     S       \n",
      "\n",
      "----------------------------------------------------------------------------------------------------\n",
      "Sample 659\n",
      "sentence 1\n",
      "REF: its main base is *** marshall islands international airport ** majuro\n",
      "HYP: its main base is the marshall islands international airport in majuro\n",
      "                        I                                         I       \n",
      "\n",
      "----------------------------------------------------------------------------------------------------\n",
      "Sample 1884\n",
      "sentence 1\n",
      "REF: two fighters **** kickboxing\n",
      "HYP: two fighters king       foxy\n",
      "                     I          S\n",
      "\n",
      "----------------------------------------------------------------------------------------------------\n",
      "Results saved to /fs01/home/omidv/ASR-Error-Correction/results/test_cv.json\n"
     ]
    },
    {
     "name": "stderr",
     "output_type": "stream",
     "text": [
      "Some weights of RobertaModel were not initialized from the model checkpoint at roberta-large and are newly initialized: ['roberta.pooler.dense.bias', 'roberta.pooler.dense.weight']\n",
      "You should probably TRAIN this model on a down-stream task to be able to use it for predictions and inference.\n"
     ]
    },
    {
     "name": "stdout",
     "output_type": "stream",
     "text": [
      "{'WER': 0.16, 'METEOR': 0.875, 'BERT Precision': 0.807, 'BERT Recall': 0.822, 'BERT F1': 0.814}\n"
     ]
    }
   ],
   "source": [
    "results_table = await evaluate_model_parallel(cv_dataset, model, client, zero_shot_instruct4, cv_generation_config, cv_results_path)\n",
    "print(results_table)"
   ]
  },
  {
   "cell_type": "code",
   "execution_count": 12,
   "id": "consistent-coverage",
   "metadata": {
    "scrolled": true
   },
   "outputs": [
    {
     "name": "stdout",
     "output_type": "stream",
     "text": [
      "Progress: Batch of 256 tests completed!\n",
      "Progress: Batch of 256 tests completed!\n",
      "Progress: Batch of 256 tests completed!\n",
      "Progress: Batch of 256 tests completed!\n",
      "Progress: Batch of 256 tests completed!\n",
      "Progress: Batch of 256 tests completed!\n",
      "Progress: Batch of 256 tests completed!\n",
      "Progress: Batch of 208 tests completed!\n",
      "----------------------------------------------------------------------------------------------------\n",
      "Sample 495\n",
      "\n",
      "----------------------------------------------------------------------------------------------------\n",
      "Sample 1054\n",
      "\n",
      "----------------------------------------------------------------------------------------------------\n",
      "Sample 98\n",
      "sentence 1\n",
      "REF: it was performed by bryan adams  rod stewart and sting\n",
      "HYP: ** was performed by brian adams rudd stewart and sting\n",
      "      D                      S          S                  \n",
      "\n",
      "----------------------------------------------------------------------------------------------------\n",
      "Results saved to /fs01/home/omidv/ASR-Error-Correction/results/test_cv.json\n"
     ]
    },
    {
     "name": "stderr",
     "output_type": "stream",
     "text": [
      "Some weights of RobertaModel were not initialized from the model checkpoint at roberta-large and are newly initialized: ['roberta.pooler.dense.bias', 'roberta.pooler.dense.weight']\n",
      "You should probably TRAIN this model on a down-stream task to be able to use it for predictions and inference.\n"
     ]
    },
    {
     "name": "stdout",
     "output_type": "stream",
     "text": [
      "{'WER': 0.138, 'METEOR': 0.882, 'BERT Precision': 0.811, 'BERT Recall': 0.823, 'BERT F1': 0.817}\n"
     ]
    }
   ],
   "source": [
    "results_table = await evaluate_model_parallel(cv_dataset, model, client, zero_shot_instruct4_closest, cv_generation_config, cv_results_path)\n",
    "print(results_table)"
   ]
  },
  {
   "cell_type": "code",
   "execution_count": 13,
   "id": "regional-milan",
   "metadata": {
    "scrolled": true
   },
   "outputs": [
    {
     "name": "stdout",
     "output_type": "stream",
     "text": [
      "Progress: Batch of 256 tests completed!\n",
      "Progress: Batch of 256 tests completed!\n",
      "Progress: Batch of 256 tests completed!\n",
      "Progress: Batch of 256 tests completed!\n",
      "Progress: Batch of 256 tests completed!\n",
      "Progress: Batch of 256 tests completed!\n",
      "Progress: Batch of 256 tests completed!\n",
      "Progress: Batch of 208 tests completed!\n",
      "----------------------------------------------------------------------------------------------------\n",
      "Sample 1642\n",
      "sentence 1\n",
      "REF: he spent most of his life as a junior member of the ducal **** family\n",
      "HYP: he spent most of his life as a junior member of the ducal karl family\n",
      "                                                                  I       \n",
      "\n",
      "----------------------------------------------------------------------------------------------------\n",
      "Sample 770\n",
      "\n",
      "----------------------------------------------------------------------------------------------------\n",
      "Sample 1826\n",
      "sentence 1\n",
      "REF: **** ** females and ** immatures have *** *** olive upperparts yellow ***** underparts and a gray head and neck\n",
      "HYP: like it females and in  pictures have all you upper      parts yellow under      parts and * gray head and neck\n",
      "        I  I              I         S        I   I     S          S            I          S     D                   \n",
      "\n",
      "----------------------------------------------------------------------------------------------------\n",
      "Results saved to /fs01/home/omidv/ASR-Error-Correction/results/test_cv.json\n"
     ]
    },
    {
     "name": "stderr",
     "output_type": "stream",
     "text": [
      "Some weights of RobertaModel were not initialized from the model checkpoint at roberta-large and are newly initialized: ['roberta.pooler.dense.bias', 'roberta.pooler.dense.weight']\n",
      "You should probably TRAIN this model on a down-stream task to be able to use it for predictions and inference.\n"
     ]
    },
    {
     "name": "stdout",
     "output_type": "stream",
     "text": [
      "{'WER': 0.161, 'METEOR': 0.876, 'BERT Precision': 0.808, 'BERT Recall': 0.821, 'BERT F1': 0.814}\n"
     ]
    }
   ],
   "source": [
    "results_table = await evaluate_model_parallel(cv_dataset, model, client, zero_shot_instruct5, cv_generation_config, cv_results_path)\n",
    "print(results_table)"
   ]
  },
  {
   "cell_type": "code",
   "execution_count": 14,
   "id": "supreme-honolulu",
   "metadata": {
    "scrolled": true
   },
   "outputs": [
    {
     "name": "stdout",
     "output_type": "stream",
     "text": [
      "Progress: Batch of 256 tests completed!\n",
      "Progress: Batch of 256 tests completed!\n",
      "Progress: Batch of 256 tests completed!\n",
      "Progress: Batch of 256 tests completed!\n",
      "Progress: Batch of 256 tests completed!\n",
      "Progress: Batch of 256 tests completed!\n",
      "Progress: Batch of 256 tests completed!\n",
      "Progress: Batch of 208 tests completed!\n",
      "----------------------------------------------------------------------------------------------------\n",
      "Sample 1025\n",
      "sentence 1\n",
      "REF: the whole party stood like men stupefied\n",
      "HYP: the whole party stood like men stupified\n",
      "                                            S\n",
      "\n",
      "----------------------------------------------------------------------------------------------------\n",
      "Sample 380\n",
      "sentence 1\n",
      "REF: they will keep for at least a week         if stored in an airtight container\n",
      "HYP: then **** keep for  a  late * week installing ****** ** an airtight container\n",
      "        S    D           S     S D               S      D  D                      \n",
      "\n",
      "----------------------------------------------------------------------------------------------------\n",
      "Sample 743\n",
      "sentence 1\n",
      "REF: the gold belt ** byway contains many roads\n",
      "HYP: the gold belt by   way contains many roads\n",
      "                    I     S                    \n",
      "\n",
      "----------------------------------------------------------------------------------------------------\n",
      "Results saved to /fs01/home/omidv/ASR-Error-Correction/results/test_cv.json\n"
     ]
    },
    {
     "name": "stderr",
     "output_type": "stream",
     "text": [
      "Some weights of RobertaModel were not initialized from the model checkpoint at roberta-large and are newly initialized: ['roberta.pooler.dense.bias', 'roberta.pooler.dense.weight']\n",
      "You should probably TRAIN this model on a down-stream task to be able to use it for predictions and inference.\n"
     ]
    },
    {
     "name": "stdout",
     "output_type": "stream",
     "text": [
      "{'WER': 0.138, 'METEOR': 0.882, 'BERT Precision': 0.81, 'BERT Recall': 0.823, 'BERT F1': 0.816}\n"
     ]
    }
   ],
   "source": [
    "results_table = await evaluate_model_parallel(cv_dataset, model, client, zero_shot_instruct5_closest, cv_generation_config, cv_results_path)\n",
    "print(results_table)"
   ]
  },
  {
   "cell_type": "code",
   "execution_count": 15,
   "id": "violent-mercury",
   "metadata": {
    "scrolled": true
   },
   "outputs": [
    {
     "name": "stdout",
     "output_type": "stream",
     "text": [
      "Progress: Batch of 256 tests completed!\n",
      "Progress: Batch of 256 tests completed!\n",
      "Progress: Batch of 256 tests completed!\n",
      "Progress: Batch of 256 tests completed!\n",
      "Progress: Batch of 256 tests completed!\n",
      "Progress: Batch of 256 tests completed!\n",
      "Progress: Batch of 256 tests completed!\n",
      "Progress: Batch of 208 tests completed!\n",
      "----------------------------------------------------------------------------------------------------\n",
      "Sample 437\n",
      "sentence 1\n",
      "REF: she was a member of the bureau of the european  people is party\n",
      "HYP: she was a member of the bureau of the european peoples ** party\n",
      "                                                          S  D      \n",
      "\n",
      "----------------------------------------------------------------------------------------------------\n",
      "Sample 662\n",
      "\n",
      "----------------------------------------------------------------------------------------------------\n",
      "Sample 358\n",
      "sentence 1\n",
      "REF: in some cases the purpose of this operation    is to correct excessive vomiting\n",
      "HYP: in some cases the purpose of this operation needs to correct excessive vomiting\n",
      "                                                     S                              \n",
      "\n",
      "----------------------------------------------------------------------------------------------------\n",
      "Results saved to /fs01/home/omidv/ASR-Error-Correction/results/test_cv.json\n"
     ]
    },
    {
     "name": "stderr",
     "output_type": "stream",
     "text": [
      "Some weights of RobertaModel were not initialized from the model checkpoint at roberta-large and are newly initialized: ['roberta.pooler.dense.bias', 'roberta.pooler.dense.weight']\n",
      "You should probably TRAIN this model on a down-stream task to be able to use it for predictions and inference.\n"
     ]
    },
    {
     "name": "stdout",
     "output_type": "stream",
     "text": [
      "{'WER': 0.154, 'METEOR': 0.877, 'BERT Precision': 0.81, 'BERT Recall': 0.824, 'BERT F1': 0.817}\n"
     ]
    }
   ],
   "source": [
    "results_table = await evaluate_model_parallel(cv_dataset, model, client, zero_shot_instruct6, cv_generation_config, cv_results_path)\n",
    "print(results_table)"
   ]
  },
  {
   "cell_type": "code",
   "execution_count": 16,
   "id": "polyphonic-directory",
   "metadata": {
    "scrolled": true
   },
   "outputs": [
    {
     "name": "stdout",
     "output_type": "stream",
     "text": [
      "Progress: Batch of 256 tests completed!\n",
      "Progress: Batch of 256 tests completed!\n",
      "Progress: Batch of 256 tests completed!\n",
      "Progress: Batch of 256 tests completed!\n",
      "Progress: Batch of 256 tests completed!\n",
      "Progress: Batch of 256 tests completed!\n",
      "Progress: Batch of 256 tests completed!\n",
      "Progress: Batch of 208 tests completed!\n",
      "----------------------------------------------------------------------------------------------------\n",
      "Sample 124\n",
      "sentence 1\n",
      "REF: it became a symbol of failed engineering and the dangers of arrogance in design\n",
      "HYP: it became a symbol of  field engineering and the dangers of arrogance in design\n",
      "                                S                                                   \n",
      "\n",
      "----------------------------------------------------------------------------------------------------\n",
      "Sample 223\n",
      "\n",
      "----------------------------------------------------------------------------------------------------\n",
      "Sample 1198\n",
      "sentence 1\n",
      "REF: **** he returned to ***** cleveland and lived in a commune for the next several years\n",
      "HYP: here it     tend to cloud      land and lived in a commune for the next several  days\n",
      "        I  S        S        I         S                                                 S\n",
      "\n",
      "----------------------------------------------------------------------------------------------------\n",
      "Results saved to /fs01/home/omidv/ASR-Error-Correction/results/test_cv.json\n"
     ]
    },
    {
     "name": "stderr",
     "output_type": "stream",
     "text": [
      "Some weights of RobertaModel were not initialized from the model checkpoint at roberta-large and are newly initialized: ['roberta.pooler.dense.bias', 'roberta.pooler.dense.weight']\n",
      "You should probably TRAIN this model on a down-stream task to be able to use it for predictions and inference.\n"
     ]
    },
    {
     "name": "stdout",
     "output_type": "stream",
     "text": [
      "{'WER': 0.139, 'METEOR': 0.881, 'BERT Precision': 0.809, 'BERT Recall': 0.822, 'BERT F1': 0.816}\n"
     ]
    }
   ],
   "source": [
    "results_table = await evaluate_model_parallel(cv_dataset, model, client, zero_shot_instruct6_closest, cv_generation_config, cv_results_path)\n",
    "print(results_table)"
   ]
  },
  {
   "cell_type": "code",
   "execution_count": 17,
   "id": "sudden-welding",
   "metadata": {
    "scrolled": true
   },
   "outputs": [
    {
     "name": "stdout",
     "output_type": "stream",
     "text": [
      "Progress: Batch of 256 tests completed!\n",
      "Progress: Batch of 256 tests completed!\n",
      "Progress: Batch of 256 tests completed!\n",
      "Progress: Batch of 256 tests completed!\n",
      "Progress: Batch of 256 tests completed!\n",
      "Progress: Batch of 256 tests completed!\n",
      "Progress: Batch of 256 tests completed!\n",
      "Progress: Batch of 208 tests completed!\n",
      "----------------------------------------------------------------------------------------------------\n",
      "Sample 852\n",
      "\n",
      "----------------------------------------------------------------------------------------------------\n",
      "Sample 89\n",
      "sentence 1\n",
      "REF: later platonists clarified that the eternal model existed in the mind of the demiurge\n",
      "HYP: later      plato clarified that the eternal model existed in the mind of the demiurge\n",
      "                    S                                                                     \n",
      "\n",
      "----------------------------------------------------------------------------------------------------\n",
      "Sample 770\n",
      "\n",
      "----------------------------------------------------------------------------------------------------\n",
      "Results saved to /fs01/home/omidv/ASR-Error-Correction/results/test_cv.json\n"
     ]
    },
    {
     "name": "stderr",
     "output_type": "stream",
     "text": [
      "Some weights of RobertaModel were not initialized from the model checkpoint at roberta-large and are newly initialized: ['roberta.pooler.dense.bias', 'roberta.pooler.dense.weight']\n",
      "You should probably TRAIN this model on a down-stream task to be able to use it for predictions and inference.\n"
     ]
    },
    {
     "name": "stdout",
     "output_type": "stream",
     "text": [
      "{'WER': 0.146, 'METEOR': 0.881, 'BERT Precision': 0.807, 'BERT Recall': 0.825, 'BERT F1': 0.816}\n"
     ]
    }
   ],
   "source": [
    "results_table = await evaluate_model_parallel(cv_dataset, model, client, zero_shot_instruct7, cv_generation_config, cv_results_path)\n",
    "print(results_table)"
   ]
  },
  {
   "cell_type": "code",
   "execution_count": 18,
   "id": "mathematical-nomination",
   "metadata": {
    "scrolled": true
   },
   "outputs": [
    {
     "name": "stdout",
     "output_type": "stream",
     "text": [
      "Progress: Batch of 256 tests completed!\n",
      "Progress: Batch of 256 tests completed!\n",
      "Progress: Batch of 256 tests completed!\n",
      "Progress: Batch of 256 tests completed!\n",
      "Progress: Batch of 256 tests completed!\n",
      "Progress: Batch of 256 tests completed!\n",
      "Progress: Batch of 256 tests completed!\n",
      "Progress: Batch of 208 tests completed!\n",
      "----------------------------------------------------------------------------------------------------\n",
      "Sample 1796\n",
      "sentence 1\n",
      "REF:   they were anti republican anti democratic and preached government on high by    a marked noble elite\n",
      "HYP: though   an anti republican anti democratic and   preach government on high by mark ****** noble elite\n",
      "          S    S                                            S                          S      D            \n",
      "\n",
      "----------------------------------------------------------------------------------------------------\n",
      "Sample 1432\n",
      "sentence 1\n",
      "REF: an excellent tactical captain *** he  was warmhearted and devoted to the game\n",
      "HYP: an excellent tactical captain who is warm     hearted and devoted to the game\n",
      "                                     I  S    S           S                        \n",
      "\n",
      "----------------------------------------------------------------------------------------------------\n",
      "Sample 57\n",
      "\n",
      "----------------------------------------------------------------------------------------------------\n",
      "Results saved to /fs01/home/omidv/ASR-Error-Correction/results/test_cv.json\n"
     ]
    },
    {
     "name": "stderr",
     "output_type": "stream",
     "text": [
      "Some weights of RobertaModel were not initialized from the model checkpoint at roberta-large and are newly initialized: ['roberta.pooler.dense.bias', 'roberta.pooler.dense.weight']\n",
      "You should probably TRAIN this model on a down-stream task to be able to use it for predictions and inference.\n"
     ]
    },
    {
     "name": "stdout",
     "output_type": "stream",
     "text": [
      "{'WER': 0.139, 'METEOR': 0.88, 'BERT Precision': 0.807, 'BERT Recall': 0.821, 'BERT F1': 0.814}\n"
     ]
    }
   ],
   "source": [
    "results_table = await evaluate_model_parallel(cv_dataset, model, client, zero_shot_instruct7_closest, cv_generation_config, cv_results_path)\n",
    "print(results_table)"
   ]
  },
  {
   "cell_type": "code",
   "execution_count": 19,
   "id": "underlying-start",
   "metadata": {
    "scrolled": true
   },
   "outputs": [
    {
     "name": "stdout",
     "output_type": "stream",
     "text": [
      "Progress: Batch of 256 tests completed!\n",
      "Progress: Batch of 256 tests completed!\n",
      "Progress: Batch of 256 tests completed!\n",
      "Progress: Batch of 256 tests completed!\n",
      "Progress: Batch of 256 tests completed!\n",
      "Progress: Batch of 256 tests completed!\n",
      "Progress: Batch of 256 tests completed!\n",
      "Progress: Batch of 208 tests completed!\n",
      "----------------------------------------------------------------------------------------------------\n",
      "Sample 1322\n",
      "sentence 1\n",
      "REF:   ashoro also boasts many park golf courses that are available to all citizens\n",
      "HYP: ashwarro also boasts many park golf courses that are available to all citizens\n",
      "            S                                                                      \n",
      "\n",
      "----------------------------------------------------------------------------------------------------\n",
      "Sample 1176\n",
      "sentence 1\n",
      "REF: it  stars    monty woolley roddy mcdowall and **** anne   baxter\n",
      "HYP: it starts mounting   wally  rodi   magdol and anni   in berkster\n",
      "             S        S       S     S        S        I    S        S\n",
      "\n",
      "----------------------------------------------------------------------------------------------------\n",
      "Sample 679\n",
      "sentence 1\n",
      "REF: caplin cove also consists of many natural underground      fresh water springs\n",
      "HYP: kaplan cove also consists of many natural underground freshwater ***** springs\n",
      "          S                                                         S     D        \n",
      "\n",
      "----------------------------------------------------------------------------------------------------\n",
      "Results saved to /fs01/home/omidv/ASR-Error-Correction/results/test_cv.json\n"
     ]
    },
    {
     "name": "stderr",
     "output_type": "stream",
     "text": [
      "Some weights of RobertaModel were not initialized from the model checkpoint at roberta-large and are newly initialized: ['roberta.pooler.dense.bias', 'roberta.pooler.dense.weight']\n",
      "You should probably TRAIN this model on a down-stream task to be able to use it for predictions and inference.\n"
     ]
    },
    {
     "name": "stdout",
     "output_type": "stream",
     "text": [
      "{'WER': 0.143, 'METEOR': 0.879, 'BERT Precision': 0.804, 'BERT Recall': 0.821, 'BERT F1': 0.813}\n"
     ]
    }
   ],
   "source": [
    "results_table = await evaluate_model_parallel(cv_dataset, model, client, zero_shot_instruct8, cv_generation_config, cv_results_path)\n",
    "print(results_table)"
   ]
  },
  {
   "cell_type": "code",
   "execution_count": 20,
   "id": "aware-inside",
   "metadata": {
    "scrolled": true
   },
   "outputs": [
    {
     "name": "stdout",
     "output_type": "stream",
     "text": [
      "Progress: Batch of 256 tests completed!\n",
      "Progress: Batch of 256 tests completed!\n",
      "Progress: Batch of 256 tests completed!\n",
      "Progress: Batch of 256 tests completed!\n",
      "Progress: Batch of 256 tests completed!\n",
      "Progress: Batch of 256 tests completed!\n",
      "Progress: Batch of 256 tests completed!\n",
      "Progress: Batch of 208 tests completed!\n",
      "----------------------------------------------------------------------------------------------------\n",
      "Sample 1145\n",
      "sentence 1\n",
      "REF: this  cadre of educators went out into remote communities to teach rural blacks\n",
      "HYP:  the skater of educators went out into remote communities to teach rural blacks\n",
      "        S      S                                                                    \n",
      "\n",
      "----------------------------------------------------------------------------------------------------\n",
      "Sample 1098\n",
      "\n",
      "----------------------------------------------------------------------------------------------------\n",
      "Sample 956\n",
      "sentence 1\n",
      "REF: most had been located by the men of station j\n",
      "HYP: most had been located by the men of station g\n",
      "                                                 S\n",
      "\n",
      "----------------------------------------------------------------------------------------------------\n",
      "Results saved to /fs01/home/omidv/ASR-Error-Correction/results/test_cv.json\n"
     ]
    },
    {
     "name": "stderr",
     "output_type": "stream",
     "text": [
      "Some weights of RobertaModel were not initialized from the model checkpoint at roberta-large and are newly initialized: ['roberta.pooler.dense.bias', 'roberta.pooler.dense.weight']\n",
      "You should probably TRAIN this model on a down-stream task to be able to use it for predictions and inference.\n"
     ]
    },
    {
     "name": "stdout",
     "output_type": "stream",
     "text": [
      "{'WER': 0.143, 'METEOR': 0.878, 'BERT Precision': 0.803, 'BERT Recall': 0.818, 'BERT F1': 0.81}\n"
     ]
    }
   ],
   "source": [
    "results_table = await evaluate_model_parallel(cv_dataset, model, client, zero_shot_instruct8_closest, cv_generation_config, cv_results_path)\n",
    "print(results_table)"
   ]
  },
  {
   "cell_type": "code",
   "execution_count": null,
   "id": "invalid-story",
   "metadata": {},
   "outputs": [],
   "source": []
  }
 ],
 "metadata": {
  "kernelspec": {
   "display_name": "kscope",
   "language": "python",
   "name": "kscope"
  },
  "language_info": {
   "codemirror_mode": {
    "name": "ipython",
    "version": 3
   },
   "file_extension": ".py",
   "mimetype": "text/x-python",
   "name": "python",
   "nbconvert_exporter": "python",
   "pygments_lexer": "ipython3",
   "version": "3.12.0"
  }
 },
 "nbformat": 4,
 "nbformat_minor": 5
}
