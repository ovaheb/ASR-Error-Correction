{
 "cells": [
  {
   "cell_type": "markdown",
   "id": "enhanced-sector",
   "metadata": {},
   "source": [
    "## Environment Setup"
   ]
  },
  {
   "cell_type": "code",
   "execution_count": 1,
   "id": "architectural-investing",
   "metadata": {
    "scrolled": true
   },
   "outputs": [
    {
     "name": "stderr",
     "output_type": "stream",
     "text": [
      "[nltk_data] Downloading package wordnet to /h/omidv/nltk_data...\n",
      "[nltk_data]   Package wordnet is already up-to-date!\n",
      "[nltk_data] Downloading package omw-1.4 to /h/omidv/nltk_data...\n",
      "[nltk_data]   Package omw-1.4 is already up-to-date!\n"
     ]
    },
    {
     "data": {
      "text/plain": [
       "True"
      ]
     },
     "execution_count": 1,
     "metadata": {},
     "output_type": "execute_result"
    }
   ],
   "source": [
    "from codes.evaluation import *\n",
    "from codes.configs import *\n",
    "load_dotenv() # Load the environment variables"
   ]
  },
  {
   "cell_type": "code",
   "execution_count": 2,
   "id": "nonprofit-spiritual",
   "metadata": {},
   "outputs": [],
   "source": [
    "df = pd.read_json(\"/fs01/home/omidv/ASR-Error-Correction/data/test_cv.json\")\n",
    "cv_results_path = \"/fs01/home/omidv/ASR-Error-Correction/results/test_cv.json\"\n",
    "cv_dataset = Dataset.from_pandas(df)\n",
    "df = pd.read_json(\"/fs01/home/omidv/ASR-Error-Correction/data/test_lrs2.json\")\n",
    "lrs_results_path = \"/fs01/home/omidv/ASR-Error-Correction/results/test_lrs2.json\"\n",
    "lrs_dataset = Dataset.from_pandas(df)\n",
    "df = pd.read_json(\"/fs01/home/omidv/ASR-Error-Correction/data/test_chime4.json\")\n",
    "chime_results_path = \"/fs01/home/omidv/ASR-Error-Correction/results/test_chime4.json\"\n",
    "chime_dataset = Dataset.from_pandas(df)"
   ]
  },
  {
   "cell_type": "markdown",
   "id": "limiting-utility",
   "metadata": {},
   "source": [
    "## GPT models"
   ]
  },
  {
   "cell_type": "code",
   "execution_count": 9,
   "id": "fourth-blond",
   "metadata": {},
   "outputs": [],
   "source": [
    "api_key = os.environ.get(\"OPENAI_API_KEY\")\n",
    "client = openai.AsyncOpenAI(api_key=api_key)"
   ]
  },
  {
   "cell_type": "code",
   "execution_count": 10,
   "id": "political-precipitation",
   "metadata": {},
   "outputs": [
    {
     "name": "stdout",
     "output_type": "stream",
     "text": [
      "Hello! I'm an AI language model created by OpenAI, designed to assist with a variety of tasks, including answering questions, providing information, generating text, and more. I'm here to help with your inquiries and can engage in discussions on a wide range of topics. What would you like to know or talk about today?\n"
     ]
    }
   ],
   "source": [
    "model = \"gpt-4o-mini\"\n",
    "await check_availability(client, model)"
   ]
  },
  {
   "cell_type": "code",
   "execution_count": 11,
   "id": "exclusive-overhead",
   "metadata": {
    "scrolled": true
   },
   "outputs": [
    {
     "name": "stdout",
     "output_type": "stream",
     "text": [
      "Progress: Batch of 256 tests completed!\n",
      "Progress: Batch of 256 tests completed!\n",
      "Progress: Batch of 256 tests completed!\n",
      "Progress: Batch of 256 tests completed!\n",
      "Progress: Batch of 256 tests completed!\n",
      "Progress: Batch of 256 tests completed!\n",
      "Progress: Batch of 256 tests completed!\n",
      "Progress: Batch of 208 tests completed!\n",
      "----------------------------------------------------------------------------------------------------\n",
      "Sample 530\n",
      "\n",
      "----------------------------------------------------------------------------------------------------\n",
      "Sample 243\n",
      "sentence 1\n",
      "REF: the saint george leagues club is located nearby on  princes highway\n",
      "HYP: the    st george leagues club is located nearby on princess highway\n",
      "             S                                                 S        \n",
      "\n",
      "----------------------------------------------------------------------------------------------------\n",
      "Sample 1447\n",
      "\n",
      "----------------------------------------------------------------------------------------------------\n",
      "Results saved to /fs01/home/omidv/ASR-Error-Correction/results/test_cv.json\n"
     ]
    },
    {
     "name": "stderr",
     "output_type": "stream",
     "text": [
      "Some weights of RobertaModel were not initialized from the model checkpoint at roberta-large and are newly initialized: ['roberta.pooler.dense.bias', 'roberta.pooler.dense.weight']\n",
      "You should probably TRAIN this model on a down-stream task to be able to use it for predictions and inference.\n"
     ]
    },
    {
     "name": "stdout",
     "output_type": "stream",
     "text": [
      "{'WER': 0.143, 'METEOR': 0.884, 'BERT Precision': 0.815, 'BERT Recall': 0.832, 'BERT F1': 0.823}\n"
     ]
    }
   ],
   "source": [
    "results_table = await evaluate_model_parallel(cv_dataset, model, client, zero_shot_instruct1, cv_generation_config, cv_results_path)\n",
    "print(results_table)"
   ]
  },
  {
   "cell_type": "code",
   "execution_count": 12,
   "id": "fatal-lawyer",
   "metadata": {
    "scrolled": true
   },
   "outputs": [
    {
     "name": "stdout",
     "output_type": "stream",
     "text": [
      "Progress: Batch of 256 tests completed!\n",
      "Progress: Batch of 256 tests completed!\n",
      "Progress: Batch of 256 tests completed!\n",
      "Progress: Batch of 256 tests completed!\n",
      "Progress: Batch of 256 tests completed!\n",
      "Progress: Batch of 256 tests completed!\n",
      "Progress: Batch of 256 tests completed!\n",
      "Progress: Batch of 208 tests completed!\n",
      "----------------------------------------------------------------------------------------------------\n",
      "Sample 184\n",
      "\n",
      "----------------------------------------------------------------------------------------------------\n",
      "Sample 773\n",
      "\n",
      "----------------------------------------------------------------------------------------------------\n",
      "Sample 1401\n",
      "sentence 1\n",
      "REF: they have to develop the software and hardware\n",
      "HYP: they have to develop the software  in hardware\n",
      "                                         S         \n",
      "\n",
      "----------------------------------------------------------------------------------------------------\n",
      "Results saved to /fs01/home/omidv/ASR-Error-Correction/results/test_cv.json\n"
     ]
    },
    {
     "name": "stderr",
     "output_type": "stream",
     "text": [
      "Some weights of RobertaModel were not initialized from the model checkpoint at roberta-large and are newly initialized: ['roberta.pooler.dense.bias', 'roberta.pooler.dense.weight']\n",
      "You should probably TRAIN this model on a down-stream task to be able to use it for predictions and inference.\n"
     ]
    },
    {
     "name": "stdout",
     "output_type": "stream",
     "text": [
      "{'WER': 0.137, 'METEOR': 0.882, 'BERT Precision': 0.81, 'BERT Recall': 0.824, 'BERT F1': 0.817}\n"
     ]
    }
   ],
   "source": [
    "results_table = await evaluate_model_parallel(cv_dataset, model, client, zero_shot_instruct1_closest, cv_generation_config, cv_results_path)\n",
    "print(results_table)"
   ]
  },
  {
   "cell_type": "code",
   "execution_count": 13,
   "id": "wireless-great",
   "metadata": {
    "scrolled": true
   },
   "outputs": [
    {
     "name": "stdout",
     "output_type": "stream",
     "text": [
      "Progress: Batch of 256 tests completed!\n",
      "Progress: Batch of 256 tests completed!\n",
      "Progress: Batch of 256 tests completed!\n",
      "Progress: Batch of 256 tests completed!\n",
      "Progress: Batch of 256 tests completed!\n",
      "Progress: Batch of 256 tests completed!\n",
      "Progress: Batch of 256 tests completed!\n",
      "Progress: Batch of 208 tests completed!\n",
      "----------------------------------------------------------------------------------------------------\n",
      "Sample 320\n",
      "\n",
      "----------------------------------------------------------------------------------------------------\n",
      "Sample 806\n",
      "sentence 1\n",
      "REF: ** **** *** vincennes in uraga channel at the mouth to tokyo bay\n",
      "HYP: we will see      this in oraga channel at the mouth to tokyo bay\n",
      "      I    I   I         S        S                                  \n",
      "\n",
      "----------------------------------------------------------------------------------------------------\n",
      "Sample 1331\n",
      "sentence 1\n",
      "REF: it is effective against         gram positive and         gram negative bacteria yeast and fungi\n",
      "HYP: it is effective against grampositive ******** and gramnegative ******** bacteria yeast and fungi\n",
      "                                        S        D                S        D                         \n",
      "\n",
      "----------------------------------------------------------------------------------------------------\n",
      "Results saved to /fs01/home/omidv/ASR-Error-Correction/results/test_cv.json\n"
     ]
    },
    {
     "name": "stderr",
     "output_type": "stream",
     "text": [
      "Some weights of RobertaModel were not initialized from the model checkpoint at roberta-large and are newly initialized: ['roberta.pooler.dense.bias', 'roberta.pooler.dense.weight']\n",
      "You should probably TRAIN this model on a down-stream task to be able to use it for predictions and inference.\n"
     ]
    },
    {
     "name": "stdout",
     "output_type": "stream",
     "text": [
      "{'WER': 0.157, 'METEOR': 0.877, 'BERT Precision': 0.811, 'BERT Recall': 0.828, 'BERT F1': 0.82}\n"
     ]
    }
   ],
   "source": [
    "results_table = await evaluate_model_parallel(cv_dataset, model, client, zero_shot_instruct2, cv_generation_config, cv_results_path)\n",
    "print(results_table)"
   ]
  },
  {
   "cell_type": "code",
   "execution_count": 14,
   "id": "american-dominant",
   "metadata": {
    "scrolled": true
   },
   "outputs": [
    {
     "name": "stdout",
     "output_type": "stream",
     "text": [
      "Progress: Batch of 256 tests completed!\n",
      "Progress: Batch of 256 tests completed!\n",
      "Progress: Batch of 256 tests completed!\n",
      "Progress: Batch of 256 tests completed!\n",
      "Progress: Batch of 256 tests completed!\n",
      "Progress: Batch of 256 tests completed!\n",
      "Progress: Batch of 256 tests completed!\n",
      "Progress: Batch of 208 tests completed!\n",
      "----------------------------------------------------------------------------------------------------\n",
      "Sample 1589\n",
      "\n",
      "----------------------------------------------------------------------------------------------------\n",
      "Sample 1908\n",
      "sentence 1\n",
      "REF: fuel was carried in two tanks in the upper wings\n",
      "HYP: fall was carried in two times in the upper wings\n",
      "        S                        S                   \n",
      "\n",
      "----------------------------------------------------------------------------------------------------\n",
      "Sample 277\n",
      "sentence 1\n",
      "REF: others found    work       as peddlers jewelers launderers hebrew tutors and even shopkeepers\n",
      "HYP:  other found workers pedalers ******** jewelers  launchers hebrew tutors and even shopkeepers\n",
      "          S             S        S        D                   S                                   \n",
      "\n",
      "----------------------------------------------------------------------------------------------------\n",
      "Results saved to /fs01/home/omidv/ASR-Error-Correction/results/test_cv.json\n"
     ]
    },
    {
     "name": "stderr",
     "output_type": "stream",
     "text": [
      "Some weights of RobertaModel were not initialized from the model checkpoint at roberta-large and are newly initialized: ['roberta.pooler.dense.bias', 'roberta.pooler.dense.weight']\n",
      "You should probably TRAIN this model on a down-stream task to be able to use it for predictions and inference.\n"
     ]
    },
    {
     "name": "stdout",
     "output_type": "stream",
     "text": [
      "{'WER': 0.138, 'METEOR': 0.882, 'BERT Precision': 0.81, 'BERT Recall': 0.824, 'BERT F1': 0.817}\n"
     ]
    }
   ],
   "source": [
    "results_table = await evaluate_model_parallel(cv_dataset, model, client, zero_shot_instruct2_closest, cv_generation_config, cv_results_path)\n",
    "print(results_table)"
   ]
  },
  {
   "cell_type": "code",
   "execution_count": 15,
   "id": "incident-declaration",
   "metadata": {
    "scrolled": true
   },
   "outputs": [
    {
     "name": "stdout",
     "output_type": "stream",
     "text": [
      "Progress: Batch of 256 tests completed!\n",
      "Progress: Batch of 256 tests completed!\n",
      "Progress: Batch of 256 tests completed!\n",
      "Progress: Batch of 256 tests completed!\n",
      "Progress: Batch of 256 tests completed!\n",
      "Progress: Batch of 256 tests completed!\n",
      "Progress: Batch of 256 tests completed!\n",
      "Progress: Batch of 208 tests completed!\n",
      "----------------------------------------------------------------------------------------------------\n",
      "Sample 1472\n",
      "\n",
      "----------------------------------------------------------------------------------------------------\n",
      "Sample 364\n",
      "sentence 1\n",
      "REF: as a result ***** poglavnik is sometimes translated as fuhrer in english language sources\n",
      "HYP: as a result hogue   labniki is sometimes translated as  fewer in english language sources\n",
      "                     I         S                                 S                            \n",
      "\n",
      "----------------------------------------------------------------------------------------------------\n",
      "Sample 71\n",
      "\n",
      "----------------------------------------------------------------------------------------------------\n",
      "Results saved to /fs01/home/omidv/ASR-Error-Correction/results/test_cv.json\n"
     ]
    },
    {
     "name": "stderr",
     "output_type": "stream",
     "text": [
      "Some weights of RobertaModel were not initialized from the model checkpoint at roberta-large and are newly initialized: ['roberta.pooler.dense.bias', 'roberta.pooler.dense.weight']\n",
      "You should probably TRAIN this model on a down-stream task to be able to use it for predictions and inference.\n"
     ]
    },
    {
     "name": "stdout",
     "output_type": "stream",
     "text": [
      "{'WER': 0.156, 'METEOR': 0.878, 'BERT Precision': 0.811, 'BERT Recall': 0.828, 'BERT F1': 0.82}\n"
     ]
    }
   ],
   "source": [
    "results_table = await evaluate_model_parallel(cv_dataset, model, client, zero_shot_instruct3, cv_generation_config, cv_results_path)\n",
    "print(results_table)"
   ]
  },
  {
   "cell_type": "code",
   "execution_count": 16,
   "id": "convenient-cleaners",
   "metadata": {
    "scrolled": true
   },
   "outputs": [
    {
     "name": "stdout",
     "output_type": "stream",
     "text": [
      "Progress: Batch of 256 tests completed!\n",
      "Progress: Batch of 256 tests completed!\n",
      "Progress: Batch of 256 tests completed!\n",
      "Progress: Batch of 256 tests completed!\n",
      "Progress: Batch of 256 tests completed!\n",
      "Progress: Batch of 256 tests completed!\n",
      "Progress: Batch of 256 tests completed!\n",
      "Progress: Batch of 208 tests completed!\n",
      "----------------------------------------------------------------------------------------------------\n",
      "Sample 1736\n",
      "sentence 1\n",
      "REF: ** its county seat is blue earth\n",
      "HYP: it  is county seed is blue earth\n",
      "      I   S           S              \n",
      "\n",
      "----------------------------------------------------------------------------------------------------\n",
      "Sample 407\n",
      "\n",
      "----------------------------------------------------------------------------------------------------\n",
      "Sample 864\n",
      "sentence 1\n",
      "REF: queen elena granted ******* anatoly durov  jun\n",
      "HYP: queen elena granted anatoli    duro    of june\n",
      "                               I       S     S    S\n",
      "\n",
      "----------------------------------------------------------------------------------------------------\n",
      "Results saved to /fs01/home/omidv/ASR-Error-Correction/results/test_cv.json\n"
     ]
    },
    {
     "name": "stderr",
     "output_type": "stream",
     "text": [
      "Some weights of RobertaModel were not initialized from the model checkpoint at roberta-large and are newly initialized: ['roberta.pooler.dense.bias', 'roberta.pooler.dense.weight']\n",
      "You should probably TRAIN this model on a down-stream task to be able to use it for predictions and inference.\n"
     ]
    },
    {
     "name": "stdout",
     "output_type": "stream",
     "text": [
      "{'WER': 0.138, 'METEOR': 0.881, 'BERT Precision': 0.81, 'BERT Recall': 0.825, 'BERT F1': 0.818}\n"
     ]
    }
   ],
   "source": [
    "results_table = await evaluate_model_parallel(cv_dataset, model, client, zero_shot_instruct3_closest, cv_generation_config, cv_results_path)\n",
    "print(results_table)"
   ]
  },
  {
   "cell_type": "code",
   "execution_count": 17,
   "id": "liable-passage",
   "metadata": {
    "scrolled": true
   },
   "outputs": [
    {
     "name": "stdout",
     "output_type": "stream",
     "text": [
      "Progress: Batch of 256 tests completed!\n",
      "Progress: Batch of 256 tests completed!\n",
      "Progress: Batch of 256 tests completed!\n",
      "Progress: Batch of 256 tests completed!\n",
      "Progress: Batch of 256 tests completed!\n",
      "Progress: Batch of 256 tests completed!\n",
      "Progress: Batch of 256 tests completed!\n",
      "Progress: Batch of 208 tests completed!\n",
      "----------------------------------------------------------------------------------------------------\n",
      "Sample 915\n",
      "\n",
      "----------------------------------------------------------------------------------------------------\n",
      "Sample 1987\n",
      "\n",
      "----------------------------------------------------------------------------------------------------\n",
      "Sample 278\n",
      "sentence 1\n",
      "REF: he hails from the lau islands\n",
      "HYP: he hails from the lao islands\n",
      "                         S        \n",
      "\n",
      "----------------------------------------------------------------------------------------------------\n",
      "Results saved to /fs01/home/omidv/ASR-Error-Correction/results/test_cv.json\n"
     ]
    },
    {
     "name": "stderr",
     "output_type": "stream",
     "text": [
      "Some weights of RobertaModel were not initialized from the model checkpoint at roberta-large and are newly initialized: ['roberta.pooler.dense.bias', 'roberta.pooler.dense.weight']\n",
      "You should probably TRAIN this model on a down-stream task to be able to use it for predictions and inference.\n"
     ]
    },
    {
     "name": "stdout",
     "output_type": "stream",
     "text": [
      "{'WER': 0.151, 'METEOR': 0.881, 'BERT Precision': 0.813, 'BERT Recall': 0.83, 'BERT F1': 0.821}\n"
     ]
    }
   ],
   "source": [
    "results_table = await evaluate_model_parallel(cv_dataset, model, client, zero_shot_instruct4, cv_generation_config, cv_results_path)\n",
    "print(results_table)"
   ]
  },
  {
   "cell_type": "code",
   "execution_count": 18,
   "id": "attended-worker",
   "metadata": {
    "scrolled": true
   },
   "outputs": [
    {
     "name": "stdout",
     "output_type": "stream",
     "text": [
      "Progress: Batch of 256 tests completed!\n",
      "Progress: Batch of 256 tests completed!\n",
      "Progress: Batch of 256 tests completed!\n",
      "Progress: Batch of 256 tests completed!\n",
      "Progress: Batch of 256 tests completed!\n",
      "Progress: Batch of 256 tests completed!\n",
      "Progress: Batch of 256 tests completed!\n",
      "Progress: Batch of 208 tests completed!\n",
      "----------------------------------------------------------------------------------------------------\n",
      "Sample 1760\n",
      "sentence 1\n",
      "REF: the recommendation was turned down initially but *** cooper key persevered\n",
      "HYP: the recommendation was turned down initially but cup     of tea  preserved\n",
      "                                                        I      S   S          S\n",
      "\n",
      "----------------------------------------------------------------------------------------------------\n",
      "Sample 677\n",
      "\n",
      "----------------------------------------------------------------------------------------------------\n",
      "Sample 1315\n",
      "sentence 1\n",
      "REF: i would like to stress **** nothing in ethiopia will change\n",
      "HYP: i would like to stress that nothing in ethiopia will change\n",
      "                               I                                \n",
      "\n",
      "----------------------------------------------------------------------------------------------------\n",
      "Results saved to /fs01/home/omidv/ASR-Error-Correction/results/test_cv.json\n"
     ]
    },
    {
     "name": "stderr",
     "output_type": "stream",
     "text": [
      "Some weights of RobertaModel were not initialized from the model checkpoint at roberta-large and are newly initialized: ['roberta.pooler.dense.bias', 'roberta.pooler.dense.weight']\n",
      "You should probably TRAIN this model on a down-stream task to be able to use it for predictions and inference.\n"
     ]
    },
    {
     "name": "stdout",
     "output_type": "stream",
     "text": [
      "{'WER': 0.137, 'METEOR': 0.882, 'BERT Precision': 0.811, 'BERT Recall': 0.826, 'BERT F1': 0.818}\n"
     ]
    }
   ],
   "source": [
    "results_table = await evaluate_model_parallel(cv_dataset, model, client, zero_shot_instruct4_closest, cv_generation_config, cv_results_path)\n",
    "print(results_table)"
   ]
  },
  {
   "cell_type": "code",
   "execution_count": 19,
   "id": "eastern-feature",
   "metadata": {
    "scrolled": true
   },
   "outputs": [
    {
     "name": "stdout",
     "output_type": "stream",
     "text": [
      "Progress: Batch of 256 tests completed!\n",
      "Progress: Batch of 256 tests completed!\n",
      "Progress: Batch of 256 tests completed!\n",
      "Progress: Batch of 256 tests completed!\n",
      "Progress: Batch of 256 tests completed!\n",
      "Progress: Batch of 256 tests completed!\n",
      "Progress: Batch of 256 tests completed!\n",
      "Progress: Batch of 208 tests completed!\n",
      "----------------------------------------------------------------------------------------------------\n",
      "Sample 817\n",
      "sentence 1\n",
      "REF: as the  terms progress the restrictions are relaxed\n",
      "HYP: as the storms progress the restrictions are relaxed\n",
      "                 S                                      \n",
      "\n",
      "----------------------------------------------------------------------------------------------------\n",
      "Sample 72\n",
      "sentence 1\n",
      "REF:  leo mcleay was born in sydney and was a telephone technician before entering politics\n",
      "HYP: liam mcleay was born in sydney and was a telephone technician before entering politics\n",
      "        S                                                                                  \n",
      "\n",
      "----------------------------------------------------------------------------------------------------\n",
      "Sample 1122\n",
      "sentence 1\n",
      "REF: thereafter it became part of the kingdom of hungary within        austria hungary\n",
      "HYP: thereafter it became part of the kingdom of hungary within austriahungary *******\n",
      "                                                                             S       D\n",
      "\n",
      "----------------------------------------------------------------------------------------------------\n",
      "Results saved to /fs01/home/omidv/ASR-Error-Correction/results/test_cv.json\n"
     ]
    },
    {
     "name": "stderr",
     "output_type": "stream",
     "text": [
      "Some weights of RobertaModel were not initialized from the model checkpoint at roberta-large and are newly initialized: ['roberta.pooler.dense.bias', 'roberta.pooler.dense.weight']\n",
      "You should probably TRAIN this model on a down-stream task to be able to use it for predictions and inference.\n"
     ]
    },
    {
     "name": "stdout",
     "output_type": "stream",
     "text": [
      "{'WER': 0.223, 'METEOR': 0.841, 'BERT Precision': 0.777, 'BERT Recall': 0.785, 'BERT F1': 0.781}\n"
     ]
    }
   ],
   "source": [
    "results_table = await evaluate_model_parallel(cv_dataset, model, client, zero_shot_instruct5, cv_generation_config, cv_results_path)\n",
    "print(results_table)"
   ]
  },
  {
   "cell_type": "code",
   "execution_count": 20,
   "id": "fresh-cabin",
   "metadata": {
    "scrolled": true
   },
   "outputs": [
    {
     "name": "stdout",
     "output_type": "stream",
     "text": [
      "Progress: Batch of 256 tests completed!\n",
      "Progress: Batch of 256 tests completed!\n",
      "Progress: Batch of 256 tests completed!\n",
      "Progress: Batch of 256 tests completed!\n",
      "Progress: Batch of 256 tests completed!\n",
      "Progress: Batch of 256 tests completed!\n",
      "Progress: Batch of 256 tests completed!\n",
      "Progress: Batch of 208 tests completed!\n",
      "----------------------------------------------------------------------------------------------------\n",
      "Sample 1494\n",
      "sentence 1\n",
      "REF: she is the middle of three daughters born to douglas and   angela chalke\n",
      "HYP: she is the middle of three daughters born to douglas and angelina  quack\n",
      "                                                                     S      S\n",
      "\n",
      "----------------------------------------------------------------------------------------------------\n",
      "Sample 407\n",
      "\n",
      "----------------------------------------------------------------------------------------------------\n",
      "Sample 1571\n",
      "\n",
      "----------------------------------------------------------------------------------------------------\n",
      "Results saved to /fs01/home/omidv/ASR-Error-Correction/results/test_cv.json\n"
     ]
    },
    {
     "name": "stderr",
     "output_type": "stream",
     "text": [
      "Some weights of RobertaModel were not initialized from the model checkpoint at roberta-large and are newly initialized: ['roberta.pooler.dense.bias', 'roberta.pooler.dense.weight']\n",
      "You should probably TRAIN this model on a down-stream task to be able to use it for predictions and inference.\n"
     ]
    },
    {
     "name": "stdout",
     "output_type": "stream",
     "text": [
      "{'WER': 0.135, 'METEOR': 0.884, 'BERT Precision': 0.813, 'BERT Recall': 0.826, 'BERT F1': 0.819}\n"
     ]
    }
   ],
   "source": [
    "results_table = await evaluate_model_parallel(cv_dataset, model, client, zero_shot_instruct5_closest, cv_generation_config, cv_results_path)\n",
    "print(results_table)"
   ]
  },
  {
   "cell_type": "code",
   "execution_count": 21,
   "id": "dense-butler",
   "metadata": {},
   "outputs": [
    {
     "name": "stdout",
     "output_type": "stream",
     "text": [
      "Progress: Batch of 256 tests completed!\n",
      "Progress: Batch of 256 tests completed!\n",
      "Progress: Batch of 256 tests completed!\n",
      "Progress: Batch of 256 tests completed!\n",
      "Progress: Batch of 256 tests completed!\n",
      "Progress: Batch of 256 tests completed!\n",
      "Progress: Batch of 256 tests completed!\n",
      "Progress: Batch of 208 tests completed!\n",
      "----------------------------------------------------------------------------------------------------\n",
      "Sample 873\n",
      "sentence 1\n",
      "REF: the controversy led to    drawn out protests between parents and authorities\n",
      "HYP: the controversy led to drawnout *** protests between parents and authorities\n",
      "                                   S   D                                         \n",
      "\n",
      "----------------------------------------------------------------------------------------------------\n",
      "Sample 1416\n",
      "sentence 1\n",
      "REF: this work is commonly referred to as     de orbe for short\n",
      "HYP: this work is commonly referred to as doctor **** for short\n",
      "                                               S    D          \n",
      "\n",
      "----------------------------------------------------------------------------------------------------\n",
      "Sample 142\n",
      "\n",
      "----------------------------------------------------------------------------------------------------\n",
      "Results saved to /fs01/home/omidv/ASR-Error-Correction/results/test_cv.json\n"
     ]
    },
    {
     "name": "stderr",
     "output_type": "stream",
     "text": [
      "Some weights of RobertaModel were not initialized from the model checkpoint at roberta-large and are newly initialized: ['roberta.pooler.dense.bias', 'roberta.pooler.dense.weight']\n",
      "You should probably TRAIN this model on a down-stream task to be able to use it for predictions and inference.\n"
     ]
    },
    {
     "name": "stdout",
     "output_type": "stream",
     "text": [
      "{'WER': 0.157, 'METEOR': 0.876, 'BERT Precision': 0.809, 'BERT Recall': 0.824, 'BERT F1': 0.816}\n"
     ]
    }
   ],
   "source": [
    "results_table = await evaluate_model_parallel(cv_dataset, model, client, zero_shot_instruct6, cv_generation_config, cv_results_path)\n",
    "print(results_table)"
   ]
  },
  {
   "cell_type": "code",
   "execution_count": 22,
   "id": "coated-wellington",
   "metadata": {
    "scrolled": true
   },
   "outputs": [
    {
     "name": "stdout",
     "output_type": "stream",
     "text": [
      "Progress: Batch of 256 tests completed!\n",
      "Progress: Batch of 256 tests completed!\n",
      "Progress: Batch of 256 tests completed!\n",
      "Progress: Batch of 256 tests completed!\n",
      "Progress: Batch of 256 tests completed!\n",
      "Progress: Batch of 256 tests completed!\n",
      "Progress: Batch of 256 tests completed!\n",
      "Progress: Batch of 208 tests completed!\n",
      "----------------------------------------------------------------------------------------------------\n",
      "Sample 258\n",
      "sentence 1\n",
      "REF: there are still three *** neonazis in the  town is parliament\n",
      "HYP: there are still three new    nazis in the towns ** parliament\n",
      "                             I        S            S  D           \n",
      "\n",
      "----------------------------------------------------------------------------------------------------\n",
      "Sample 1145\n",
      "sentence 1\n",
      "REF: this  cadre of educators went out into remote communities to teach rural blacks\n",
      "HYP:  the skater of educators went out into remote communities to teach rural blacks\n",
      "        S      S                                                                    \n",
      "\n",
      "----------------------------------------------------------------------------------------------------\n",
      "Sample 793\n",
      "\n",
      "----------------------------------------------------------------------------------------------------\n",
      "Results saved to /fs01/home/omidv/ASR-Error-Correction/results/test_cv.json\n"
     ]
    },
    {
     "name": "stderr",
     "output_type": "stream",
     "text": [
      "Some weights of RobertaModel were not initialized from the model checkpoint at roberta-large and are newly initialized: ['roberta.pooler.dense.bias', 'roberta.pooler.dense.weight']\n",
      "You should probably TRAIN this model on a down-stream task to be able to use it for predictions and inference.\n"
     ]
    },
    {
     "name": "stdout",
     "output_type": "stream",
     "text": [
      "{'WER': 0.14, 'METEOR': 0.88, 'BERT Precision': 0.808, 'BERT Recall': 0.822, 'BERT F1': 0.815}\n"
     ]
    }
   ],
   "source": [
    "results_table = await evaluate_model_parallel(cv_dataset, model, client, zero_shot_instruct6_closest, cv_generation_config, cv_results_path)\n",
    "print(results_table)"
   ]
  },
  {
   "cell_type": "code",
   "execution_count": 23,
   "id": "accompanied-liabilities",
   "metadata": {},
   "outputs": [
    {
     "name": "stdout",
     "output_type": "stream",
     "text": [
      "Progress: Batch of 256 tests completed!\n",
      "Progress: Batch of 256 tests completed!\n",
      "Progress: Batch of 256 tests completed!\n",
      "Progress: Batch of 256 tests completed!\n",
      "Progress: Batch of 256 tests completed!\n",
      "Progress: Batch of 256 tests completed!\n",
      "Progress: Batch of 256 tests completed!\n",
      "Progress: Batch of 208 tests completed!\n",
      "----------------------------------------------------------------------------------------------------\n",
      "Sample 1394\n",
      "\n",
      "----------------------------------------------------------------------------------------------------\n",
      "Sample 360\n",
      "sentence 1\n",
      "REF: the head is dark gray and the blackish tail is tipped with pale gray brown\n",
      "HYP: the  hat is dark gray and the blackish tail is tipped with pale gray brown\n",
      "            S                                                                  \n",
      "\n",
      "----------------------------------------------------------------------------------------------------\n",
      "Sample 31\n",
      "sentence 1\n",
      "REF: steller has participated in the  alaska mock trial competition for a number of years\n",
      "HYP: stellar has participated in the alaskan mock trial competition for a number of years\n",
      "           S                               S                                             \n",
      "\n",
      "----------------------------------------------------------------------------------------------------\n",
      "Results saved to /fs01/home/omidv/ASR-Error-Correction/results/test_cv.json\n"
     ]
    },
    {
     "name": "stderr",
     "output_type": "stream",
     "text": [
      "Some weights of RobertaModel were not initialized from the model checkpoint at roberta-large and are newly initialized: ['roberta.pooler.dense.bias', 'roberta.pooler.dense.weight']\n",
      "You should probably TRAIN this model on a down-stream task to be able to use it for predictions and inference.\n"
     ]
    },
    {
     "name": "stdout",
     "output_type": "stream",
     "text": [
      "{'WER': 0.141, 'METEOR': 0.885, 'BERT Precision': 0.815, 'BERT Recall': 0.834, 'BERT F1': 0.824}\n"
     ]
    }
   ],
   "source": [
    "results_table = await evaluate_model_parallel(cv_dataset, model, client, zero_shot_instruct7, cv_generation_config, cv_results_path)\n",
    "print(results_table)"
   ]
  },
  {
   "cell_type": "code",
   "execution_count": 24,
   "id": "dutch-python",
   "metadata": {},
   "outputs": [
    {
     "name": "stdout",
     "output_type": "stream",
     "text": [
      "Progress: Batch of 256 tests completed!\n",
      "Progress: Batch of 256 tests completed!\n",
      "Progress: Batch of 256 tests completed!\n",
      "Progress: Batch of 256 tests completed!\n",
      "Progress: Batch of 256 tests completed!\n",
      "Progress: Batch of 256 tests completed!\n",
      "Progress: Batch of 256 tests completed!\n",
      "Progress: Batch of 208 tests completed!\n",
      "----------------------------------------------------------------------------------------------------\n",
      "Sample 1603\n",
      "\n",
      "----------------------------------------------------------------------------------------------------\n",
      "Sample 960\n",
      "sentence 1\n",
      "REF: the   revalidation of the certificate will be mandatory by means of continuing education credits\n",
      "HYP: the revitalization of the certificate will be mandatory by means of continuing education credits\n",
      "                      S                                                                              \n",
      "\n",
      "----------------------------------------------------------------------------------------------------\n",
      "Sample 380\n",
      "sentence 1\n",
      "REF: they will keep for at least a week        if stored in an airtight container\n",
      "HYP: then **** keep for  a  late * week installed ****** in an airtight container\n",
      "        S    D           S     S D              S      D                         \n",
      "\n",
      "----------------------------------------------------------------------------------------------------\n",
      "Results saved to /fs01/home/omidv/ASR-Error-Correction/results/test_cv.json\n"
     ]
    },
    {
     "name": "stderr",
     "output_type": "stream",
     "text": [
      "Some weights of RobertaModel were not initialized from the model checkpoint at roberta-large and are newly initialized: ['roberta.pooler.dense.bias', 'roberta.pooler.dense.weight']\n",
      "You should probably TRAIN this model on a down-stream task to be able to use it for predictions and inference.\n"
     ]
    },
    {
     "name": "stdout",
     "output_type": "stream",
     "text": [
      "{'WER': 0.158, 'METEOR': 0.865, 'BERT Precision': 0.784, 'BERT Recall': 0.795, 'BERT F1': 0.79}\n"
     ]
    }
   ],
   "source": [
    "results_table = await evaluate_model_parallel(cv_dataset, model, client, zero_shot_instruct7_closest, cv_generation_config, cv_results_path)\n",
    "print(results_table)"
   ]
  },
  {
   "cell_type": "code",
   "execution_count": null,
   "id": "swiss-interval",
   "metadata": {},
   "outputs": [
    {
     "name": "stdout",
     "output_type": "stream",
     "text": [
      "Progress: Batch of 256 tests completed!\n",
      "Progress: Batch of 256 tests completed!\n",
      "Progress: Batch of 256 tests completed!\n",
      "Progress: 253/256 tests completed!\r"
     ]
    }
   ],
   "source": [
    "results_table = await evaluate_model_parallel(cv_dataset, model, client, zero_shot_instruct8, cv_generation_config, cv_results_path)\n",
    "print(results_table)"
   ]
  },
  {
   "cell_type": "code",
   "execution_count": null,
   "id": "lesbian-courage",
   "metadata": {},
   "outputs": [],
   "source": [
    "results_table = await evaluate_model_parallel(cv_dataset, model, client, zero_shot_instruct8_closest, cv_generation_config, cv_results_path)\n",
    "print(results_table)"
   ]
  },
  {
   "cell_type": "code",
   "execution_count": null,
   "id": "electronic-comfort",
   "metadata": {},
   "outputs": [],
   "source": [
    "model = \"gpt-4o\"\n",
    "await check_availability(client, model)"
   ]
  },
  {
   "cell_type": "code",
   "execution_count": null,
   "id": "aging-coffee",
   "metadata": {},
   "outputs": [],
   "source": []
  },
  {
   "cell_type": "code",
   "execution_count": null,
   "id": "activated-expense",
   "metadata": {},
   "outputs": [],
   "source": []
  },
  {
   "cell_type": "markdown",
   "id": "defensive-chart",
   "metadata": {},
   "source": [
    "## Playground of LLMs"
   ]
  },
  {
   "cell_type": "code",
   "execution_count": 4,
   "id": "departmental-partition",
   "metadata": {},
   "outputs": [],
   "source": [
    "base_url = \"https://kscope.vectorinstitute.ai/v1\"\n",
    "api_key = os.environ.get(\"CUSTOM_API_KEY\")\n",
    "client = openai.AsyncOpenAI(api_key=api_key, base_url=base_url)"
   ]
  },
  {
   "cell_type": "code",
   "execution_count": 6,
   "id": "artistic-ownership",
   "metadata": {
    "scrolled": true
   },
   "outputs": [
    {
     "name": "stdout",
     "output_type": "stream",
     "text": [
      "I'm delighted to introduce myself!\n",
      "\n",
      "I am a computer program designed to simulate conversation, answer questions, and provide information on a vast range of topics. I'm a type of artificial intelligence (AI) called a conversational AI or chatbot.\n",
      "\n",
      "I don't have a personal name, but you can think of me as a friendly companion who's here to help and chat with you. My creators have trained me on a massive dataset of text from the internet, books, and other sources, which allows me to understand and respond to language in a way that's natural and (hopefully!) helpful.\n",
      "\n",
      "I don't have a physical body, so I exist solely as a digital entity. I'm available 24/7, and I'm excited to chat with you about anything that's on your mind, from science and history to music and movies, or just about life in general.\n",
      "\n",
      "How about you? Who are you, and what brings you here today? I'm all ears (or rather, all text!) and ready to listen and respond!\n"
     ]
    }
   ],
   "source": [
    "model = \"Meta-Llama-3.1-70B-Instruct\"\n",
    "await check_availability(client, model)"
   ]
  },
  {
   "cell_type": "code",
   "execution_count": 7,
   "id": "apparent-entity",
   "metadata": {
    "scrolled": true
   },
   "outputs": [
    {
     "name": "stdout",
     "output_type": "stream",
     "text": [
      "Progress: Batch of 256 tests completed!\n",
      "Progress: Batch of 256 tests completed!\n",
      "Progress: Batch of 256 tests completed!\n",
      "Progress: Batch of 256 tests completed!\n",
      "Progress: Batch of 256 tests completed!\n",
      "Progress: Batch of 256 tests completed!\n",
      "Progress: Batch of 256 tests completed!\n",
      "Progress: Batch of 208 tests completed!\n",
      "----------------------------------------------------------------------------------------------------\n",
      "Sample 1513\n",
      "sentence 1\n",
      "REF: five hours later the armed forces called for the resignation of president  mahuad\n",
      "HYP: five hours later the armed forces called for the resignation of president mohamed\n",
      "                                                                                     S\n",
      "\n",
      "----------------------------------------------------------------------------------------------------\n",
      "Sample 891\n",
      "\n",
      "----------------------------------------------------------------------------------------------------\n",
      "Sample 1034\n",
      "\n",
      "----------------------------------------------------------------------------------------------------\n",
      "Results saved to /fs01/home/omidv/ASR-Error-Correction/results/test_cv.json\n"
     ]
    },
    {
     "name": "stderr",
     "output_type": "stream",
     "text": [
      "Some weights of RobertaModel were not initialized from the model checkpoint at roberta-large and are newly initialized: ['roberta.pooler.dense.bias', 'roberta.pooler.dense.weight']\n",
      "You should probably TRAIN this model on a down-stream task to be able to use it for predictions and inference.\n"
     ]
    },
    {
     "name": "stdout",
     "output_type": "stream",
     "text": [
      "{'WER': 0.17, 'METEOR': 0.872, 'BERT Precision': 0.814, 'BERT Recall': 0.82, 'BERT F1': 0.817}\n"
     ]
    }
   ],
   "source": [
    "results_table = await evaluate_model_parallel(cv_dataset, model, client, zero_shot_instruct1, cv_generation_config, cv_results_path)\n",
    "print(results_table)"
   ]
  },
  {
   "cell_type": "code",
   "execution_count": 5,
   "id": "pleased-royal",
   "metadata": {
    "scrolled": true
   },
   "outputs": [
    {
     "name": "stdout",
     "output_type": "stream",
     "text": [
      "Progress: Batch of 256 tests completed!\n",
      "Progress: Batch of 256 tests completed!\n",
      "Progress: Batch of 256 tests completed!\n",
      "Progress: Batch of 256 tests completed!\n",
      "Progress: Batch of 256 tests completed!\n",
      "Progress: Batch of 256 tests completed!\n",
      "Progress: Batch of 256 tests completed!\n",
      "Progress: Batch of 208 tests completed!\n",
      "----------------------------------------------------------------------------------------------------\n",
      "Sample 1791\n",
      "sentence 1\n",
      "REF: bem accompanies a landing party on a mission to a newly discovered planet\n",
      "HYP: ben accompanies a landing party on a mission to a newly discovered planet\n",
      "       S                                                                      \n",
      "\n",
      "----------------------------------------------------------------------------------------------------\n",
      "Sample 1681\n",
      "\n",
      "----------------------------------------------------------------------------------------------------\n",
      "Sample 459\n",
      "\n",
      "----------------------------------------------------------------------------------------------------\n",
      "Results saved to /fs01/home/omidv/ASR-Error-Correction/results/test_cv.json\n"
     ]
    },
    {
     "name": "stderr",
     "output_type": "stream",
     "text": [
      "Some weights of RobertaModel were not initialized from the model checkpoint at roberta-large and are newly initialized: ['roberta.pooler.dense.bias', 'roberta.pooler.dense.weight']\n",
      "You should probably TRAIN this model on a down-stream task to be able to use it for predictions and inference.\n"
     ]
    },
    {
     "name": "stdout",
     "output_type": "stream",
     "text": [
      "{'WER': 0.134, 'METEOR': 0.885, 'BERT Precision': 0.815, 'BERT Recall': 0.828, 'BERT F1': 0.822}\n"
     ]
    }
   ],
   "source": [
    "results_table = await evaluate_model_parallel(cv_dataset, model, client, zero_shot_instruct1_closest, cv_generation_config, cv_results_path)\n",
    "print(results_table)"
   ]
  },
  {
   "cell_type": "code",
   "execution_count": 6,
   "id": "efficient-training",
   "metadata": {
    "scrolled": true
   },
   "outputs": [
    {
     "name": "stdout",
     "output_type": "stream",
     "text": [
      "Progress: Batch of 256 tests completed!\n",
      "Progress: Batch of 256 tests completed!\n",
      "Progress: Batch of 256 tests completed!\n",
      "Progress: Batch of 256 tests completed!\n",
      "Progress: Batch of 256 tests completed!\n",
      "Progress: Batch of 256 tests completed!\n",
      "Progress: Batch of 256 tests completed!\n",
      "Progress: Batch of 208 tests completed!\n",
      "----------------------------------------------------------------------------------------------------\n",
      "Sample 1998\n",
      "\n",
      "----------------------------------------------------------------------------------------------------\n",
      "Sample 190\n",
      "sentence 1\n",
      "REF: the band changed its name after discovering that another blisse already existed\n",
      "HYP: the band changed its name after discovering that another  bliss already existed\n",
      "                                                                   S                \n",
      "\n",
      "----------------------------------------------------------------------------------------------------\n",
      "Sample 198\n",
      "sentence 1\n",
      "REF: he thinks in different areas and he was kind of driving people bananas\n",
      "HYP: he thinks in different areas and he was kind of driving people   crazy\n",
      "                                                                          S\n",
      "\n",
      "----------------------------------------------------------------------------------------------------\n",
      "Results saved to /fs01/home/omidv/ASR-Error-Correction/results/test_cv.json\n"
     ]
    },
    {
     "name": "stderr",
     "output_type": "stream",
     "text": [
      "Some weights of RobertaModel were not initialized from the model checkpoint at roberta-large and are newly initialized: ['roberta.pooler.dense.bias', 'roberta.pooler.dense.weight']\n",
      "You should probably TRAIN this model on a down-stream task to be able to use it for predictions and inference.\n"
     ]
    },
    {
     "name": "stdout",
     "output_type": "stream",
     "text": [
      "{'WER': 0.182, 'METEOR': 0.865, 'BERT Precision': 0.809, 'BERT Recall': 0.816, 'BERT F1': 0.812}\n"
     ]
    }
   ],
   "source": [
    "results_table = await evaluate_model_parallel(cv_dataset, model, client, zero_shot_instruct2, cv_generation_config, cv_results_path)\n",
    "print(results_table)"
   ]
  },
  {
   "cell_type": "code",
   "execution_count": 7,
   "id": "spare-manual",
   "metadata": {
    "scrolled": true
   },
   "outputs": [
    {
     "name": "stdout",
     "output_type": "stream",
     "text": [
      "Progress: Batch of 256 tests completed!\n",
      "Progress: Batch of 256 tests completed!\n",
      "Progress: Batch of 256 tests completed!\n",
      "Progress: Batch of 256 tests completed!\n",
      "Progress: Batch of 256 tests completed!\n",
      "Progress: Batch of 256 tests completed!\n",
      "Progress: Batch of 256 tests completed!\n",
      "Progress: Batch of 208 tests completed!\n",
      "----------------------------------------------------------------------------------------------------\n",
      "Sample 222\n",
      "\n",
      "----------------------------------------------------------------------------------------------------\n",
      "Sample 99\n",
      "\n",
      "----------------------------------------------------------------------------------------------------\n",
      "Sample 568\n",
      "\n",
      "----------------------------------------------------------------------------------------------------\n",
      "Results saved to /fs01/home/omidv/ASR-Error-Correction/results/test_cv.json\n"
     ]
    },
    {
     "name": "stderr",
     "output_type": "stream",
     "text": [
      "Some weights of RobertaModel were not initialized from the model checkpoint at roberta-large and are newly initialized: ['roberta.pooler.dense.bias', 'roberta.pooler.dense.weight']\n",
      "You should probably TRAIN this model on a down-stream task to be able to use it for predictions and inference.\n"
     ]
    },
    {
     "name": "stdout",
     "output_type": "stream",
     "text": [
      "{'WER': 0.137, 'METEOR': 0.882, 'BERT Precision': 0.813, 'BERT Recall': 0.826, 'BERT F1': 0.819}\n"
     ]
    }
   ],
   "source": [
    "results_table = await evaluate_model_parallel(cv_dataset, model, client, zero_shot_instruct2_closest, cv_generation_config, cv_results_path)\n",
    "print(results_table)"
   ]
  },
  {
   "cell_type": "code",
   "execution_count": 6,
   "id": "approximate-taxation",
   "metadata": {
    "scrolled": true
   },
   "outputs": [
    {
     "name": "stdout",
     "output_type": "stream",
     "text": [
      "Progress: Batch of 256 tests completed!\n",
      "Progress: Batch of 256 tests completed!\n",
      "Progress: Batch of 256 tests completed!\n",
      "Progress: Batch of 256 tests completed!\n",
      "Progress: Batch of 256 tests completed!\n",
      "Progress: Batch of 256 tests completed!\n",
      "Progress: Batch of 256 tests completed!\n",
      "Progress: Batch of 208 tests completed!\n",
      "----------------------------------------------------------------------------------------------------\n",
      "Sample 887\n",
      "\n",
      "----------------------------------------------------------------------------------------------------\n",
      "Sample 1802\n",
      "sentence 1\n",
      "REF: ******* successes required *** reliable intelligence and raids often ****** brought no  result or sometimes worse\n",
      "HYP: success        is required for reliable intelligence and rates often result      in no results or sometimes worse\n",
      "           I         S            I                               S            I       S          S                   \n",
      "\n",
      "----------------------------------------------------------------------------------------------------\n",
      "Sample 406\n",
      "\n",
      "----------------------------------------------------------------------------------------------------\n",
      "Results saved to /fs01/home/omidv/ASR-Error-Correction/results/test_cv.json\n"
     ]
    },
    {
     "name": "stderr",
     "output_type": "stream",
     "text": [
      "Some weights of RobertaModel were not initialized from the model checkpoint at roberta-large and are newly initialized: ['roberta.pooler.dense.bias', 'roberta.pooler.dense.weight']\n",
      "You should probably TRAIN this model on a down-stream task to be able to use it for predictions and inference.\n"
     ]
    },
    {
     "name": "stdout",
     "output_type": "stream",
     "text": [
      "{'WER': 0.169, 'METEOR': 0.871, 'BERT Precision': 0.81, 'BERT Recall': 0.819, 'BERT F1': 0.814}\n"
     ]
    }
   ],
   "source": [
    "results_table = await evaluate_model_parallel(cv_dataset, model, client, zero_shot_instruct3, cv_generation_config, cv_results_path)\n",
    "print(results_table)"
   ]
  },
  {
   "cell_type": "code",
   "execution_count": 7,
   "id": "verified-minimum",
   "metadata": {
    "scrolled": true
   },
   "outputs": [
    {
     "name": "stdout",
     "output_type": "stream",
     "text": [
      "Progress: Batch of 256 tests completed!\n",
      "Progress: Batch of 256 tests completed!\n",
      "Progress: Batch of 256 tests completed!\n",
      "Progress: Batch of 256 tests completed!\n",
      "Progress: Batch of 256 tests completed!\n",
      "Progress: Batch of 256 tests completed!\n",
      "Progress: Batch of 256 tests completed!\n",
      "Progress: Batch of 208 tests completed!\n",
      "----------------------------------------------------------------------------------------------------\n",
      "Sample 1162\n",
      "sentence 1\n",
      "REF: meat loaf    co wrote three of the songs on the album\n",
      "HYP: meet love coral ***** three of the songs on the album\n",
      "        S    S     S     D                                \n",
      "\n",
      "----------------------------------------------------------------------------------------------------\n",
      "Sample 32\n",
      "\n",
      "----------------------------------------------------------------------------------------------------\n",
      "Sample 1702\n",
      "\n",
      "----------------------------------------------------------------------------------------------------\n",
      "Results saved to /fs01/home/omidv/ASR-Error-Correction/results/test_cv.json\n"
     ]
    },
    {
     "name": "stderr",
     "output_type": "stream",
     "text": [
      "Some weights of RobertaModel were not initialized from the model checkpoint at roberta-large and are newly initialized: ['roberta.pooler.dense.bias', 'roberta.pooler.dense.weight']\n",
      "You should probably TRAIN this model on a down-stream task to be able to use it for predictions and inference.\n"
     ]
    },
    {
     "name": "stdout",
     "output_type": "stream",
     "text": [
      "{'WER': 0.136, 'METEOR': 0.882, 'BERT Precision': 0.812, 'BERT Recall': 0.825, 'BERT F1': 0.818}\n"
     ]
    }
   ],
   "source": [
    "results_table = await evaluate_model_parallel(cv_dataset, model, client, zero_shot_instruct3_closest, cv_generation_config, cv_results_path)\n",
    "print(results_table)"
   ]
  },
  {
   "cell_type": "code",
   "execution_count": 6,
   "id": "chubby-reservoir",
   "metadata": {
    "scrolled": true
   },
   "outputs": [
    {
     "name": "stdout",
     "output_type": "stream",
     "text": [
      "Progress: Batch of 256 tests completed!\n",
      "Progress: Batch of 256 tests completed!\n",
      "Progress: Batch of 256 tests completed!\n",
      "Progress: Batch of 256 tests completed!\n",
      "Progress: Batch of 256 tests completed!\n",
      "Progress: Batch of 256 tests completed!\n",
      "Progress: Batch of 256 tests completed!\n",
      "Progress: Batch of 208 tests completed!\n",
      "----------------------------------------------------------------------------------------------------\n",
      "Sample 390\n",
      "sentence 1\n",
      "REF: *** ***** ** ********** *** ******** a ******** **** ****** ***** ******* ** ****** ** *** group of spectators are watching a baseball game\n",
      "HYP: the group of spectators are watching a baseball game sounds weird because it should be the group of spectators  is watching a baseball game\n",
      "       I     I  I          I   I        I          I    I      I     I       I  I      I  I   I                       S                         \n",
      "\n",
      "----------------------------------------------------------------------------------------------------\n",
      "Sample 1871\n",
      "\n",
      "----------------------------------------------------------------------------------------------------\n",
      "Sample 497\n",
      "sentence 1\n",
      "REF: the vegetative form is a ****** multinucleate cell called a plasmodium\n",
      "HYP: the vegetative form is a mighty       nucleic cell called a plasmodium\n",
      "                                   I             S                         \n",
      "\n",
      "----------------------------------------------------------------------------------------------------\n",
      "Results saved to /fs01/home/omidv/ASR-Error-Correction/results/test_cv.json\n"
     ]
    },
    {
     "name": "stderr",
     "output_type": "stream",
     "text": [
      "Some weights of RobertaModel were not initialized from the model checkpoint at roberta-large and are newly initialized: ['roberta.pooler.dense.bias', 'roberta.pooler.dense.weight']\n",
      "You should probably TRAIN this model on a down-stream task to be able to use it for predictions and inference.\n"
     ]
    },
    {
     "name": "stdout",
     "output_type": "stream",
     "text": [
      "{'WER': 0.174, 'METEOR': 0.869, 'BERT Precision': 0.809, 'BERT Recall': 0.818, 'BERT F1': 0.814}\n"
     ]
    }
   ],
   "source": [
    "results_table = await evaluate_model_parallel(cv_dataset, model, client, zero_shot_instruct4, cv_generation_config, cv_results_path)\n",
    "print(results_table)"
   ]
  },
  {
   "cell_type": "code",
   "execution_count": 6,
   "id": "consistent-coverage",
   "metadata": {
    "scrolled": true
   },
   "outputs": [
    {
     "name": "stdout",
     "output_type": "stream",
     "text": [
      "Progress: Batch of 256 tests completed!\n",
      "Progress: Batch of 256 tests completed!\n",
      "Progress: Batch of 256 tests completed!\n",
      "Progress: Batch of 256 tests completed!\n",
      "Progress: Batch of 256 tests completed!\n",
      "Progress: Batch of 256 tests completed!\n",
      "Progress: Batch of 256 tests completed!\n",
      "Progress: Batch of 208 tests completed!\n",
      "----------------------------------------------------------------------------------------------------\n",
      "Sample 832\n",
      "\n",
      "----------------------------------------------------------------------------------------------------\n",
      "Sample 575\n",
      "sentence 1\n",
      "REF: at loyola he played both soccer and lacrosse the latter as a      third team all american\n",
      "HYP: at loyola he played both soccer and   larkos the  later as a thirteenth **** all american\n",
      "                                                S          S               S    D             \n",
      "\n",
      "----------------------------------------------------------------------------------------------------\n",
      "Sample 1801\n",
      "sentence 1\n",
      "REF: in february the first carrier strikes against    truk occurred\n",
      "HYP: in february the first carrier strikes    gets trucker     code\n",
      "                                                 S       S        S\n",
      "\n",
      "----------------------------------------------------------------------------------------------------\n",
      "Results saved to /fs01/home/omidv/ASR-Error-Correction/results/test_cv.json\n"
     ]
    },
    {
     "name": "stderr",
     "output_type": "stream",
     "text": [
      "Some weights of RobertaModel were not initialized from the model checkpoint at roberta-large and are newly initialized: ['roberta.pooler.dense.bias', 'roberta.pooler.dense.weight']\n",
      "You should probably TRAIN this model on a down-stream task to be able to use it for predictions and inference.\n"
     ]
    },
    {
     "name": "stdout",
     "output_type": "stream",
     "text": [
      "{'WER': 0.137, 'METEOR': 0.882, 'BERT Precision': 0.812, 'BERT Recall': 0.825, 'BERT F1': 0.819}\n"
     ]
    }
   ],
   "source": [
    "results_table = await evaluate_model_parallel(cv_dataset, model, client, zero_shot_instruct4_closest, cv_generation_config, cv_results_path)\n",
    "print(results_table)"
   ]
  },
  {
   "cell_type": "code",
   "execution_count": 14,
   "id": "regional-milan",
   "metadata": {
    "scrolled": true
   },
   "outputs": [
    {
     "name": "stdout",
     "output_type": "stream",
     "text": [
      "Progress: Batch of 256 tests completed!\n",
      "Progress: Batch of 256 tests completed!\n",
      "Progress: Batch of 256 tests completed!\n",
      "Progress: Batch of 256 tests completed!\n",
      "Progress: Batch of 256 tests completed!\n",
      "Progress: Batch of 256 tests completed!\n",
      "Progress: Batch of 256 tests completed!\n",
      "Progress: Batch of 208 tests completed!\n",
      "----------------------------------------------------------------------------------------------------\n",
      "Sample 1051\n",
      "\n",
      "----------------------------------------------------------------------------------------------------\n",
      "Sample 1413\n",
      "sentence 1\n",
      "REF: this phenomenon is known as ******* *** ** holonomy\n",
      "HYP: this phenomenon is known as hostens law of holonomy\n",
      "                                       I   I  I         \n",
      "\n",
      "----------------------------------------------------------------------------------------------------\n",
      "Sample 219\n",
      "sentence 1\n",
      "REF: ***** ** **** *** ******* ****** ***** ** ******** ******** goldsmith  was the ***** ******* ********** * longest serving labor attorney general\n",
      "HYP: there is only one correct option which is repeated multiple     times with the other options containing a    typo      so   the  correct  answer\n",
      "         I  I    I   I       I      I     I  I        I        I         S    S         I       I          I I       S       S     S        S       S\n",
      "\n",
      "----------------------------------------------------------------------------------------------------\n",
      "Results saved to /fs01/home/omidv/ASR-Error-Correction/results/test_cv.json\n"
     ]
    },
    {
     "name": "stderr",
     "output_type": "stream",
     "text": [
      "Some weights of RobertaModel were not initialized from the model checkpoint at roberta-large and are newly initialized: ['roberta.pooler.dense.bias', 'roberta.pooler.dense.weight']\n",
      "You should probably TRAIN this model on a down-stream task to be able to use it for predictions and inference.\n"
     ]
    },
    {
     "name": "stdout",
     "output_type": "stream",
     "text": [
      "{'WER': 0.74, 'METEOR': 0.619, 'BERT Precision': 0.545, 'BERT Recall': 0.513, 'BERT F1': 0.529}\n"
     ]
    }
   ],
   "source": [
    "results_table = await evaluate_model_parallel(cv_dataset, model, client, zero_shot_instruct5, cv_generation_config, cv_results_path)\n",
    "print(results_table)"
   ]
  },
  {
   "cell_type": "code",
   "execution_count": 6,
   "id": "supreme-honolulu",
   "metadata": {
    "scrolled": true
   },
   "outputs": [
    {
     "name": "stdout",
     "output_type": "stream",
     "text": [
      "Progress: Batch of 256 tests completed!\n",
      "Progress: Batch of 256 tests completed!\n",
      "Progress: Batch of 256 tests completed!\n",
      "Progress: Batch of 256 tests completed!\n",
      "Progress: Batch of 256 tests completed!\n",
      "Progress: Batch of 256 tests completed!\n",
      "Progress: Batch of 256 tests completed!\n",
      "Progress: Batch of 208 tests completed!\n",
      "----------------------------------------------------------------------------------------------------\n",
      "Sample 1994\n",
      "sentence 1\n",
      "REF: similarly the church fostered the formation of youth alive australia\n",
      "HYP: similarly the church fostered the formation of  utah  live australia\n",
      "                                                        S     S          \n",
      "\n",
      "----------------------------------------------------------------------------------------------------\n",
      "Sample 811\n",
      "sentence 1\n",
      "REF: young was very sensitive about the song is message as anti racism and anti violence\n",
      "HYP: ***** was very sensitive about the song is message as anti racism and anti violence\n",
      "         D                                                                              \n",
      "\n",
      "----------------------------------------------------------------------------------------------------\n",
      "Sample 554\n",
      "\n",
      "----------------------------------------------------------------------------------------------------\n",
      "Results saved to /fs01/home/omidv/ASR-Error-Correction/results/test_cv.json\n"
     ]
    },
    {
     "name": "stderr",
     "output_type": "stream",
     "text": [
      "Some weights of RobertaModel were not initialized from the model checkpoint at roberta-large and are newly initialized: ['roberta.pooler.dense.bias', 'roberta.pooler.dense.weight']\n",
      "You should probably TRAIN this model on a down-stream task to be able to use it for predictions and inference.\n"
     ]
    },
    {
     "name": "stdout",
     "output_type": "stream",
     "text": [
      "{'WER': 0.135, 'METEOR': 0.884, 'BERT Precision': 0.814, 'BERT Recall': 0.827, 'BERT F1': 0.821}\n"
     ]
    }
   ],
   "source": [
    "results_table = await evaluate_model_parallel(cv_dataset, model, client, zero_shot_instruct5_closest, cv_generation_config, cv_results_path)\n",
    "print(results_table)"
   ]
  },
  {
   "cell_type": "code",
   "execution_count": 8,
   "id": "violent-mercury",
   "metadata": {
    "scrolled": true
   },
   "outputs": [
    {
     "name": "stdout",
     "output_type": "stream",
     "text": [
      "Progress: Batch of 256 tests completed!\n",
      "Progress: Batch of 256 tests completed!\n",
      "Progress: Batch of 256 tests completed!\n",
      "Progress: Batch of 256 tests completed!\n",
      "Progress: Batch of 256 tests completed!\n",
      "Progress: Batch of 256 tests completed!\n",
      "Progress: Batch of 256 tests completed!\n",
      "Progress: Batch of 208 tests completed!\n",
      "----------------------------------------------------------------------------------------------------\n",
      "Sample 1876\n",
      "sentence 1\n",
      "REF: it seemed so bland so undemanding *** so uneventful\n",
      "HYP: it seemed so bland so undemanding and so uneventful\n",
      "                                         I              \n",
      "\n",
      "----------------------------------------------------------------------------------------------------\n",
      "Sample 1717\n",
      "sentence 1\n",
      "REF: the ****** *** ** *** ******** *** aces ** won   as defending champions while    the field expanded       to include  australia\n",
      "HYP: the asians own is not coherent and aces is   a more    common      term    in sports    so       im choosing     the hypothesis\n",
      "              I   I  I   I        I   I       I   S    S         S         S     S      S     S        S        S       S          S\n",
      "\n",
      "----------------------------------------------------------------------------------------------------\n",
      "Sample 1928\n",
      "sentence 1\n",
      "REF: this she did well enough to be immediately drafted into dexys\n",
      "HYP: **** she did well enough to be immediately drafted into dexis\n",
      "        D                                                        S\n",
      "\n",
      "----------------------------------------------------------------------------------------------------\n",
      "Results saved to /fs01/home/omidv/ASR-Error-Correction/results/test_cv.json\n"
     ]
    },
    {
     "name": "stderr",
     "output_type": "stream",
     "text": [
      "Some weights of RobertaModel were not initialized from the model checkpoint at roberta-large and are newly initialized: ['roberta.pooler.dense.bias', 'roberta.pooler.dense.weight']\n",
      "You should probably TRAIN this model on a down-stream task to be able to use it for predictions and inference.\n"
     ]
    },
    {
     "name": "stdout",
     "output_type": "stream",
     "text": [
      "{'WER': 0.164, 'METEOR': 0.873, 'BERT Precision': 0.811, 'BERT Recall': 0.823, 'BERT F1': 0.817}\n"
     ]
    }
   ],
   "source": [
    "results_table = await evaluate_model_parallel(cv_dataset, model, client, zero_shot_instruct6, cv_generation_config, cv_results_path)\n",
    "print(results_table)"
   ]
  },
  {
   "cell_type": "code",
   "execution_count": 9,
   "id": "polyphonic-directory",
   "metadata": {
    "scrolled": true
   },
   "outputs": [
    {
     "name": "stdout",
     "output_type": "stream",
     "text": [
      "Progress: Batch of 256 tests completed!\n",
      "Progress: Batch of 256 tests completed!\n",
      "Progress: Batch of 256 tests completed!\n",
      "Progress: Batch of 256 tests completed!\n",
      "Progress: Batch of 256 tests completed!\n",
      "Progress: Batch of 256 tests completed!\n",
      "Progress: Batch of 256 tests completed!\n",
      "Progress: Batch of 208 tests completed!\n",
      "----------------------------------------------------------------------------------------------------\n",
      "Sample 687\n",
      "sentence 1\n",
      "REF: look for young  kay kendall\n",
      "HYP: look for young kate kendall\n",
      "                       S        \n",
      "\n",
      "----------------------------------------------------------------------------------------------------\n",
      "Sample 72\n",
      "sentence 1\n",
      "REF:  leo mcleay was born in sydney and was a telephone technician before entering politics\n",
      "HYP: liam mcclay was born in sydney and was a telephone technician before entering politics\n",
      "        S      S                                                                           \n",
      "\n",
      "----------------------------------------------------------------------------------------------------\n",
      "Sample 21\n",
      "sentence 1\n",
      "REF: according to the portuguese heritage foundation fernandez is believed to be of portuguese descent\n",
      "HYP: according to the portuguese heritage foundation fernandes is believed to be of portuguese descent\n",
      "                                                             S                                        \n",
      "\n",
      "----------------------------------------------------------------------------------------------------\n",
      "Results saved to /fs01/home/omidv/ASR-Error-Correction/results/test_cv.json\n"
     ]
    },
    {
     "name": "stderr",
     "output_type": "stream",
     "text": [
      "Some weights of RobertaModel were not initialized from the model checkpoint at roberta-large and are newly initialized: ['roberta.pooler.dense.bias', 'roberta.pooler.dense.weight']\n",
      "You should probably TRAIN this model on a down-stream task to be able to use it for predictions and inference.\n"
     ]
    },
    {
     "name": "stdout",
     "output_type": "stream",
     "text": [
      "{'WER': 0.137, 'METEOR': 0.883, 'BERT Precision': 0.813, 'BERT Recall': 0.826, 'BERT F1': 0.819}\n"
     ]
    }
   ],
   "source": [
    "results_table = await evaluate_model_parallel(cv_dataset, model, client, zero_shot_instruct6_closest, cv_generation_config, cv_results_path)\n",
    "print(results_table)"
   ]
  },
  {
   "cell_type": "code",
   "execution_count": 7,
   "id": "premier-integer",
   "metadata": {
    "scrolled": true
   },
   "outputs": [
    {
     "name": "stdout",
     "output_type": "stream",
     "text": [
      "Progress: Batch of 256 tests completed!\n",
      "Progress: Batch of 256 tests completed!\n",
      "Progress: Batch of 256 tests completed!\n",
      "Progress: Batch of 256 tests completed!\n",
      "Progress: Batch of 256 tests completed!\n",
      "Progress: Batch of 256 tests completed!\n",
      "Progress: Batch of 256 tests completed!\n",
      "Progress: Batch of 208 tests completed!\n",
      "----------------------------------------------------------------------------------------------------\n",
      "Sample 1914\n",
      "\n",
      "----------------------------------------------------------------------------------------------------\n",
      "Sample 1480\n",
      "\n",
      "----------------------------------------------------------------------------------------------------\n",
      "Sample 503\n",
      "sentence 1\n",
      "REF: each carried a lantern and * long stave\n",
      "HYP: each carried a lantern and a long  stay\n",
      "                                I          S\n",
      "\n",
      "----------------------------------------------------------------------------------------------------\n",
      "Results saved to /fs01/home/omidv/ASR-Error-Correction/results/test_cv.json\n"
     ]
    },
    {
     "name": "stderr",
     "output_type": "stream",
     "text": [
      "Some weights of RobertaModel were not initialized from the model checkpoint at roberta-large and are newly initialized: ['roberta.pooler.dense.bias', 'roberta.pooler.dense.weight']\n",
      "You should probably TRAIN this model on a down-stream task to be able to use it for predictions and inference.\n"
     ]
    },
    {
     "name": "stdout",
     "output_type": "stream",
     "text": [
      "{'WER': 0.156, 'METEOR': 0.878, 'BERT Precision': 0.815, 'BERT Recall': 0.826, 'BERT F1': 0.821}\n"
     ]
    }
   ],
   "source": [
    "results_table = await evaluate_model_parallel(cv_dataset, model, client, zero_shot_instruct7, cv_generation_config, cv_results_path)\n",
    "print(results_table)"
   ]
  },
  {
   "cell_type": "code",
   "execution_count": 8,
   "id": "committed-characteristic",
   "metadata": {
    "scrolled": true
   },
   "outputs": [
    {
     "name": "stdout",
     "output_type": "stream",
     "text": [
      "Progress: Batch of 256 tests completed!\n",
      "Progress: Batch of 256 tests completed!\n",
      "Progress: Batch of 256 tests completed!\n",
      "Progress: Batch of 256 tests completed!\n",
      "Progress: Batch of 256 tests completed!\n",
      "Progress: Batch of 256 tests completed!\n",
      "Progress: Batch of 256 tests completed!\n",
      "Progress: Batch of 208 tests completed!\n",
      "----------------------------------------------------------------------------------------------------\n",
      "Sample 1090\n",
      "\n",
      "----------------------------------------------------------------------------------------------------\n",
      "Sample 484\n",
      "sentence 1\n",
      "REF: the state assemblymen were elected for   a one year term\n",
      "HYP: the state assemblymen were elected for our one year term\n",
      "                                              S              \n",
      "\n",
      "----------------------------------------------------------------------------------------------------\n",
      "Sample 1416\n",
      "sentence 1\n",
      "REF: this work is commonly referred to as  de orbe for short\n",
      "HYP: this work is commonly referred to as drb **** for short\n",
      "                                            S    D          \n",
      "\n",
      "----------------------------------------------------------------------------------------------------\n",
      "Results saved to /fs01/home/omidv/ASR-Error-Correction/results/test_cv.json\n"
     ]
    },
    {
     "name": "stderr",
     "output_type": "stream",
     "text": [
      "Some weights of RobertaModel were not initialized from the model checkpoint at roberta-large and are newly initialized: ['roberta.pooler.dense.bias', 'roberta.pooler.dense.weight']\n",
      "You should probably TRAIN this model on a down-stream task to be able to use it for predictions and inference.\n"
     ]
    },
    {
     "name": "stdout",
     "output_type": "stream",
     "text": [
      "{'WER': 0.149, 'METEOR': 0.873, 'BERT Precision': 0.796, 'BERT Recall': 0.809, 'BERT F1': 0.802}\n"
     ]
    }
   ],
   "source": [
    "results_table = await evaluate_model_parallel(cv_dataset, model, client, zero_shot_instruct7_closest, cv_generation_config, cv_results_path)\n",
    "print(results_table)"
   ]
  },
  {
   "cell_type": "code",
   "execution_count": 10,
   "id": "underlying-start",
   "metadata": {
    "scrolled": true
   },
   "outputs": [
    {
     "name": "stdout",
     "output_type": "stream",
     "text": [
      "Progress: Batch of 256 tests completed!\n",
      "Progress: Batch of 256 tests completed!\n",
      "Progress: Batch of 256 tests completed!\n",
      "Progress: Batch of 256 tests completed!\n",
      "Progress: Batch of 256 tests completed!\n",
      "Progress: Batch of 256 tests completed!\n",
      "Progress: Batch of 256 tests completed!\n",
      "Progress: Batch of 208 tests completed!\n",
      "----------------------------------------------------------------------------------------------------\n",
      "Sample 1649\n",
      "sentence 1\n",
      "REF: spivack is a germanized or americanized version of  spivak\n",
      "HYP: spewack is a germanized or americanized version of spewack\n",
      "           S                                                  S\n",
      "\n",
      "----------------------------------------------------------------------------------------------------\n",
      "Sample 1130\n",
      "\n",
      "----------------------------------------------------------------------------------------------------\n",
      "Sample 854\n",
      "sentence 1\n",
      "REF: it is ***** the student radio station of northwestern  university\n",
      "HYP: it is based  on       a radio station of northeastern mississippi\n",
      "               I   S       S                             S           S\n",
      "\n",
      "----------------------------------------------------------------------------------------------------\n",
      "Results saved to /fs01/home/omidv/ASR-Error-Correction/results/test_cv.json\n"
     ]
    },
    {
     "name": "stderr",
     "output_type": "stream",
     "text": [
      "Some weights of RobertaModel were not initialized from the model checkpoint at roberta-large and are newly initialized: ['roberta.pooler.dense.bias', 'roberta.pooler.dense.weight']\n",
      "You should probably TRAIN this model on a down-stream task to be able to use it for predictions and inference.\n"
     ]
    },
    {
     "name": "stdout",
     "output_type": "stream",
     "text": [
      "{'WER': 0.2, 'METEOR': 0.843, 'BERT Precision': 0.763, 'BERT Recall': 0.781, 'BERT F1': 0.772}\n"
     ]
    }
   ],
   "source": [
    "results_table = await evaluate_model_parallel(cv_dataset, model, client, zero_shot_instruct8, cv_generation_config, cv_results_path)\n",
    "print(results_table)"
   ]
  },
  {
   "cell_type": "code",
   "execution_count": 6,
   "id": "aware-inside",
   "metadata": {
    "scrolled": true
   },
   "outputs": [
    {
     "name": "stdout",
     "output_type": "stream",
     "text": [
      "Progress: Batch of 256 tests completed!\n",
      "Progress: Batch of 256 tests completed!\n",
      "Progress: Batch of 256 tests completed!\n",
      "Progress: Batch of 256 tests completed!\n",
      "Progress: Batch of 256 tests completed!\n",
      "Progress: Batch of 256 tests completed!\n",
      "Progress: Batch of 256 tests completed!\n",
      "Progress: Batch of 208 tests completed!\n",
      "----------------------------------------------------------------------------------------------------\n",
      "Sample 1490\n",
      "sentence 1\n",
      "REF: these caused him to be in pain for *** most of the trip\n",
      "HYP: these caused him to be in pain for the most of the trip\n",
      "                                          I                 \n",
      "\n",
      "----------------------------------------------------------------------------------------------------\n",
      "Sample 1832\n",
      "\n",
      "----------------------------------------------------------------------------------------------------\n",
      "Sample 568\n",
      "sentence 1\n",
      "REF: the name is derived from the reddish tint of its **** sandbanks\n",
      "HYP: the name is derived from the reddish tint of its sand     banks\n",
      "                                                         I         S\n",
      "\n",
      "----------------------------------------------------------------------------------------------------\n",
      "Results saved to /fs01/home/omidv/ASR-Error-Correction/results/test_cv.json\n"
     ]
    },
    {
     "name": "stderr",
     "output_type": "stream",
     "text": [
      "Some weights of RobertaModel were not initialized from the model checkpoint at roberta-large and are newly initialized: ['roberta.pooler.dense.bias', 'roberta.pooler.dense.weight']\n",
      "You should probably TRAIN this model on a down-stream task to be able to use it for predictions and inference.\n"
     ]
    },
    {
     "name": "stdout",
     "output_type": "stream",
     "text": [
      "{'WER': 0.151, 'METEOR': 0.872, 'BERT Precision': 0.795, 'BERT Recall': 0.807, 'BERT F1': 0.801}\n"
     ]
    }
   ],
   "source": [
    "results_table = await evaluate_model_parallel(cv_dataset, model, client, zero_shot_instruct8_closest, cv_generation_config, cv_results_path)\n",
    "print(results_table)"
   ]
  },
  {
   "cell_type": "code",
   "execution_count": null,
   "id": "exposed-settlement",
   "metadata": {},
   "outputs": [],
   "source": []
  },
  {
   "cell_type": "code",
   "execution_count": null,
   "id": "accessory-weapon",
   "metadata": {},
   "outputs": [],
   "source": []
  },
  {
   "cell_type": "code",
   "execution_count": null,
   "id": "invalid-story",
   "metadata": {},
   "outputs": [],
   "source": []
  }
 ],
 "metadata": {
  "kernelspec": {
   "display_name": "kscope",
   "language": "python",
   "name": "kscope"
  },
  "language_info": {
   "codemirror_mode": {
    "name": "ipython",
    "version": 3
   },
   "file_extension": ".py",
   "mimetype": "text/x-python",
   "name": "python",
   "nbconvert_exporter": "python",
   "pygments_lexer": "ipython3",
   "version": "3.12.0"
  }
 },
 "nbformat": 4,
 "nbformat_minor": 5
}
