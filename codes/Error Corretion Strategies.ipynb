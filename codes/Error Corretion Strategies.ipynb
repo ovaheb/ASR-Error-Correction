{
 "cells": [
  {
   "cell_type": "code",
   "execution_count": null,
   "id": "architectural-investing",
   "metadata": {},
   "outputs": [],
   "source": [
    "from evaluation import *\n",
    "from configs import *\n",
    "load_dotenv() # Load the environment variables"
   ]
  },
  {
   "cell_type": "code",
   "execution_count": null,
   "id": "fourth-blond",
   "metadata": {},
   "outputs": [],
   "source": [
    "api_key = os.environ.get(\"OPENAI_API_KEY\")\n",
    "client = openai.AsyncOpenAI(api_key=api_key)"
   ]
  },
  {
   "cell_type": "code",
   "execution_count": null,
   "id": "nonprofit-spiritual",
   "metadata": {},
   "outputs": [],
   "source": [
    "df = pd.read_json(\"/fs01/home/omidv/ASR-Error-Correction/data/test_cv.json\")\n",
    "cv_results_path = \"/fs01/home/omidv/ASR-Error-Correction/results/test_cv.json\"\n",
    "cv_dataset = Dataset.from_pandas(df)\n",
    "df = pd.read_json(\"/fs01/home/omidv/ASR-Error-Correction/data/test_lrs2.json\")\n",
    "lrs_results_path = \"/fs01/home/omidv/ASR-Error-Correction/results/test_lrs2.json\"\n",
    "lrs_dataset = Dataset.from_pandas(df)\n",
    "df = pd.read_json(\"/fs01/home/omidv/ASR-Error-Correction/data/test_chime4.json\")\n",
    "chime_results_path = \"/fs01/home/omidv/ASR-Error-Correction/results/test_chime4.json\"\n",
    "chime_dataset = Dataset.from_pandas(df)"
   ]
  },
  {
   "cell_type": "code",
   "execution_count": null,
   "id": "political-precipitation",
   "metadata": {},
   "outputs": [],
   "source": [
    "model = \"gpt-4o-mini\"\n",
    "await check_availability(client, model)"
   ]
  },
  {
   "cell_type": "code",
   "execution_count": null,
   "id": "resident-harvey",
   "metadata": {},
   "outputs": [],
   "source": [
    "results_table = await run_evaluation(cv_dataset, model, client, cv_generation_config, cv_results_path)\n",
    "print(results_table)"
   ]
  },
  {
   "cell_type": "code",
   "execution_count": null,
   "id": "rubber-england",
   "metadata": {},
   "outputs": [],
   "source": [
    "results_table = await run_evaluation(lrs_dataset, model, client, lrs_generation_config, lrs_results_path)\n",
    "print(results_table)"
   ]
  },
  {
   "cell_type": "code",
   "execution_count": null,
   "id": "structured-merchant",
   "metadata": {},
   "outputs": [],
   "source": [
    "results_table = await run_evaluation(chime_dataset, model, client, chime_generation_config, chime_results_path)\n",
    "print(results_table)"
   ]
  },
  {
   "cell_type": "code",
   "execution_count": null,
   "id": "exclusive-overhead",
   "metadata": {},
   "outputs": [],
   "source": []
  },
  {
   "cell_type": "code",
   "execution_count": null,
   "id": "lesbian-courage",
   "metadata": {},
   "outputs": [],
   "source": []
  },
  {
   "cell_type": "code",
   "execution_count": null,
   "id": "electronic-comfort",
   "metadata": {},
   "outputs": [],
   "source": [
    "model = \"gpt-4o\"\n",
    "await check_availability(client, model)"
   ]
  },
  {
   "cell_type": "code",
   "execution_count": null,
   "id": "aging-coffee",
   "metadata": {},
   "outputs": [],
   "source": []
  },
  {
   "cell_type": "code",
   "execution_count": null,
   "id": "activated-expense",
   "metadata": {},
   "outputs": [],
   "source": []
  },
  {
   "cell_type": "code",
   "execution_count": null,
   "id": "exact-swedish",
   "metadata": {},
   "outputs": [],
   "source": []
  },
  {
   "cell_type": "code",
   "execution_count": null,
   "id": "departmental-partition",
   "metadata": {},
   "outputs": [],
   "source": []
  },
  {
   "cell_type": "code",
   "execution_count": null,
   "id": "identified-hollywood",
   "metadata": {},
   "outputs": [],
   "source": []
  },
  {
   "cell_type": "code",
   "execution_count": null,
   "id": "spare-manual",
   "metadata": {},
   "outputs": [],
   "source": []
  }
 ],
 "metadata": {
  "kernelspec": {
   "display_name": "kscope",
   "language": "python",
   "name": "kscope"
  },
  "language_info": {
   "codemirror_mode": {
    "name": "ipython",
    "version": 3
   },
   "file_extension": ".py",
   "mimetype": "text/x-python",
   "name": "python",
   "nbconvert_exporter": "python",
   "pygments_lexer": "ipython3",
   "version": "3.12.0"
  }
 },
 "nbformat": 4,
 "nbformat_minor": 5
}
