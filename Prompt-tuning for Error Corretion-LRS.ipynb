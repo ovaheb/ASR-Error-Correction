{
 "cells": [
  {
   "cell_type": "markdown",
   "id": "enhanced-sector",
   "metadata": {},
   "source": [
    "## Environment Setup"
   ]
  },
  {
   "cell_type": "code",
   "execution_count": 1,
   "id": "architectural-investing",
   "metadata": {
    "scrolled": true
   },
   "outputs": [
    {
     "name": "stderr",
     "output_type": "stream",
     "text": [
      "[nltk_data] Downloading package wordnet to /h/omidv/nltk_data...\n",
      "[nltk_data]   Package wordnet is already up-to-date!\n",
      "[nltk_data] Downloading package omw-1.4 to /h/omidv/nltk_data...\n",
      "[nltk_data]   Package omw-1.4 is already up-to-date!\n"
     ]
    },
    {
     "data": {
      "text/plain": [
       "True"
      ]
     },
     "execution_count": 1,
     "metadata": {},
     "output_type": "execute_result"
    }
   ],
   "source": [
    "from codes.evaluation import *\n",
    "from codes.configs import *\n",
    "load_dotenv() # Load the environment variables"
   ]
  },
  {
   "cell_type": "code",
   "execution_count": 2,
   "id": "nonprofit-spiritual",
   "metadata": {},
   "outputs": [],
   "source": [
    "df = pd.read_json(\"/fs01/home/omidv/ASR-Error-Correction/data/test_cv.json\")\n",
    "cv_results_path = \"/fs01/home/omidv/ASR-Error-Correction/results/test_cv.json\"\n",
    "cv_dataset = Dataset.from_pandas(df)\n",
    "df = pd.read_json(\"/fs01/home/omidv/ASR-Error-Correction/data/test_lrs2.json\")\n",
    "lrs_results_path = \"/fs01/home/omidv/ASR-Error-Correction/results/test_lrs2.json\"\n",
    "lrs_dataset = Dataset.from_pandas(df)\n",
    "df = pd.read_json(\"/fs01/home/omidv/ASR-Error-Correction/data/test_chime4.json\")\n",
    "chime_results_path = \"/fs01/home/omidv/ASR-Error-Correction/results/test_chime4.json\"\n",
    "chime_dataset = Dataset.from_pandas(df)"
   ]
  },
  {
   "cell_type": "markdown",
   "id": "limiting-utility",
   "metadata": {},
   "source": [
    "## GPT models"
   ]
  },
  {
   "cell_type": "code",
   "execution_count": 3,
   "id": "fourth-blond",
   "metadata": {},
   "outputs": [],
   "source": [
    "api_key = os.environ.get(\"OPENAI_API_KEY\")\n",
    "client = openai.AsyncOpenAI(api_key=api_key)"
   ]
  },
  {
   "cell_type": "code",
   "execution_count": 4,
   "id": "political-precipitation",
   "metadata": {},
   "outputs": [
    {
     "name": "stdout",
     "output_type": "stream",
     "text": [
      "Hello! I’m an AI language model created by OpenAI, designed to assist with a wide range of topics by providing information, answering questions, and facilitating conversations. My goal is to be helpful, informative, and engaging. If you have any questions or need assistance, feel free to ask!\n"
     ]
    }
   ],
   "source": [
    "model = \"gpt-4o-mini\"\n",
    "await check_availability(client, model)"
   ]
  },
  {
   "cell_type": "code",
   "execution_count": 5,
   "id": "exclusive-overhead",
   "metadata": {
    "scrolled": true
   },
   "outputs": [
    {
     "name": "stdout",
     "output_type": "stream",
     "text": [
      "Progress: Batch of 256 tests completed!\n",
      "Progress: Batch of 256 tests completed!\n",
      "Progress: Batch of 256 tests completed!\n",
      "Progress: Batch of 256 tests completed!\n",
      "Progress: Batch of 256 tests completed!\n",
      "Progress: Batch of 256 tests completed!\n",
      "Progress: Batch of 256 tests completed!\n",
      "Progress: Batch of 256 tests completed!\n",
      "Progress: Batch of 211 tests completed!\n",
      "----------------------------------------------------------------------------------------------------\n",
      "Sample 1384\n",
      "sentence 1\n",
      "REF: and they ** use greenwich mean time on the iss ** ****\n",
      "HYP: and they do use greenwich mean time on the iss as well\n",
      "               I                                     I    I\n",
      "\n",
      "----------------------------------------------------------------------------------------------------\n",
      "Sample 1549\n",
      "sentence 1\n",
      "REF:    in two or three years ****\n",
      "HYP: maybe two or three years time\n",
      "         S                       I\n",
      "\n",
      "----------------------------------------------------------------------------------------------------\n",
      "Sample 2126\n",
      "sentence 1\n",
      "REF: was the biggest pain you have ever met\n",
      "HYP: *** the biggest pain you have ever met\n",
      "       D                                   \n",
      "\n",
      "----------------------------------------------------------------------------------------------------\n",
      "Results saved to /fs01/home/omidv/ASR-Error-Correction/results/test_lrs2.json\n"
     ]
    },
    {
     "name": "stderr",
     "output_type": "stream",
     "text": [
      "Some weights of RobertaModel were not initialized from the model checkpoint at roberta-large and are newly initialized: ['roberta.pooler.dense.bias', 'roberta.pooler.dense.weight']\n",
      "You should probably TRAIN this model on a down-stream task to be able to use it for predictions and inference.\n"
     ]
    },
    {
     "name": "stdout",
     "output_type": "stream",
     "text": [
      "{'WER': 0.136, 'METEOR': 0.897, 'BERT Precision': 0.879, 'BERT Recall': 0.857, 'BERT F1': 0.868}\n"
     ]
    }
   ],
   "source": [
    "results_table = await evaluate_model_parallel(lrs_dataset, model, client, zero_shot_instruct1, lrs_generation_config, lrs_results_path)\n",
    "print(results_table)"
   ]
  },
  {
   "cell_type": "code",
   "execution_count": 6,
   "id": "signal-relief",
   "metadata": {
    "scrolled": true
   },
   "outputs": [
    {
     "name": "stdout",
     "output_type": "stream",
     "text": [
      "Progress: Batch of 256 tests completed!\n",
      "Progress: Batch of 256 tests completed!\n",
      "Progress: Batch of 256 tests completed!\n",
      "Progress: Batch of 256 tests completed!\n",
      "Progress: Batch of 256 tests completed!\n",
      "Progress: Batch of 256 tests completed!\n",
      "Progress: Batch of 256 tests completed!\n",
      "Progress: Batch of 256 tests completed!\n",
      "Progress: Batch of 211 tests completed!\n",
      "----------------------------------------------------------------------------------------------------\n",
      "Sample 1131\n",
      "\n",
      "----------------------------------------------------------------------------------------------------\n",
      "Sample 332\n",
      "\n",
      "----------------------------------------------------------------------------------------------------\n",
      "Sample 1150\n",
      "sentence 1\n",
      "REF: there is ***** an awful lot of very low level discrimination out there that people experience every ******\n",
      "HYP: there is still an awful lot of very low level discrimination out there that people experience every single\n",
      "                  I                                                                                           I\n",
      "\n",
      "----------------------------------------------------------------------------------------------------\n",
      "Results saved to /fs01/home/omidv/ASR-Error-Correction/results/test_lrs2.json\n"
     ]
    },
    {
     "name": "stderr",
     "output_type": "stream",
     "text": [
      "Some weights of RobertaModel were not initialized from the model checkpoint at roberta-large and are newly initialized: ['roberta.pooler.dense.bias', 'roberta.pooler.dense.weight']\n",
      "You should probably TRAIN this model on a down-stream task to be able to use it for predictions and inference.\n"
     ]
    },
    {
     "name": "stdout",
     "output_type": "stream",
     "text": [
      "{'WER': 0.126, 'METEOR': 0.903, 'BERT Precision': 0.886, 'BERT Recall': 0.863, 'BERT F1': 0.874}\n"
     ]
    }
   ],
   "source": [
    "results_table = await evaluate_model_parallel(lrs_dataset, model, client, zero_shot_instruct1_closest, lrs_generation_config, lrs_results_path)\n",
    "print(results_table)"
   ]
  },
  {
   "cell_type": "code",
   "execution_count": 7,
   "id": "pending-burst",
   "metadata": {
    "scrolled": true
   },
   "outputs": [
    {
     "name": "stdout",
     "output_type": "stream",
     "text": [
      "Progress: Batch of 256 tests completed!\n",
      "Progress: Batch of 256 tests completed!\n",
      "Progress: Batch of 256 tests completed!\n",
      "Progress: Batch of 256 tests completed!\n",
      "Progress: Batch of 256 tests completed!\n",
      "Progress: Batch of 256 tests completed!\n",
      "Progress: Batch of 256 tests completed!\n",
      "Progress: Batch of 256 tests completed!\n",
      "Progress: Batch of 211 tests completed!\n",
      "----------------------------------------------------------------------------------------------------\n",
      "Sample 353\n",
      "sentence 1\n",
      "REF: when his siblings get weaned from   the mother\n",
      "HYP: when his siblings get weaned from their mother\n",
      "                                           S       \n",
      "\n",
      "----------------------------------------------------------------------------------------------------\n",
      "Sample 2092\n",
      "\n",
      "----------------------------------------------------------------------------------------------------\n",
      "Sample 832\n",
      "\n",
      "----------------------------------------------------------------------------------------------------\n",
      "Results saved to /fs01/home/omidv/ASR-Error-Correction/results/test_lrs2.json\n"
     ]
    },
    {
     "name": "stderr",
     "output_type": "stream",
     "text": [
      "Some weights of RobertaModel were not initialized from the model checkpoint at roberta-large and are newly initialized: ['roberta.pooler.dense.bias', 'roberta.pooler.dense.weight']\n",
      "You should probably TRAIN this model on a down-stream task to be able to use it for predictions and inference.\n"
     ]
    },
    {
     "name": "stdout",
     "output_type": "stream",
     "text": [
      "{'WER': 0.157, 'METEOR': 0.885, 'BERT Precision': 0.865, 'BERT Recall': 0.844, 'BERT F1': 0.854}\n"
     ]
    }
   ],
   "source": [
    "results_table = await evaluate_model_parallel(lrs_dataset, model, client, zero_shot_instruct2, lrs_generation_config, lrs_results_path)\n",
    "print(results_table)"
   ]
  },
  {
   "cell_type": "code",
   "execution_count": 8,
   "id": "established-incidence",
   "metadata": {
    "scrolled": true
   },
   "outputs": [
    {
     "name": "stdout",
     "output_type": "stream",
     "text": [
      "Progress: Batch of 256 tests completed!\n",
      "Progress: Batch of 256 tests completed!\n",
      "Progress: Batch of 256 tests completed!\n",
      "Progress: Batch of 256 tests completed!\n",
      "Progress: Batch of 256 tests completed!\n",
      "Progress: Batch of 256 tests completed!\n",
      "Progress: Batch of 256 tests completed!\n",
      "Progress: Batch of 256 tests completed!\n",
      "Progress: Batch of 211 tests completed!\n",
      "----------------------------------------------------------------------------------------------------\n",
      "Sample 2003\n",
      "sentence 1\n",
      "REF: that was not ****** the main aim of the project\n",
      "HYP: that was not really the main aim of the project\n",
      "                       I                            \n",
      "\n",
      "----------------------------------------------------------------------------------------------------\n",
      "Sample 1416\n",
      "sentence 1\n",
      "REF:  as surgeon gabriel weston has been finding out\n",
      "HYP: the surgeon gabriel weston has been   fined out\n",
      "       S                                       S    \n",
      "\n",
      "----------------------------------------------------------------------------------------------------\n",
      "Sample 264\n",
      "\n",
      "----------------------------------------------------------------------------------------------------\n",
      "Results saved to /fs01/home/omidv/ASR-Error-Correction/results/test_lrs2.json\n"
     ]
    },
    {
     "name": "stderr",
     "output_type": "stream",
     "text": [
      "Some weights of RobertaModel were not initialized from the model checkpoint at roberta-large and are newly initialized: ['roberta.pooler.dense.bias', 'roberta.pooler.dense.weight']\n",
      "You should probably TRAIN this model on a down-stream task to be able to use it for predictions and inference.\n"
     ]
    },
    {
     "name": "stdout",
     "output_type": "stream",
     "text": [
      "{'WER': 0.124, 'METEOR': 0.905, 'BERT Precision': 0.887, 'BERT Recall': 0.867, 'BERT F1': 0.877}\n"
     ]
    }
   ],
   "source": [
    "results_table = await evaluate_model_parallel(lrs_dataset, model, client, zero_shot_instruct2_closest, lrs_generation_config, lrs_results_path)\n",
    "print(results_table)"
   ]
  },
  {
   "cell_type": "code",
   "execution_count": 9,
   "id": "casual-inspection",
   "metadata": {
    "scrolled": true
   },
   "outputs": [
    {
     "name": "stdout",
     "output_type": "stream",
     "text": [
      "Progress: Batch of 256 tests completed!\n",
      "Progress: Batch of 256 tests completed!\n",
      "Progress: Batch of 256 tests completed!\n",
      "Progress: Batch of 256 tests completed!\n",
      "Progress: Batch of 256 tests completed!\n",
      "Progress: Batch of 256 tests completed!\n",
      "Progress: Batch of 256 tests completed!\n",
      "Progress: Batch of 256 tests completed!\n",
      "Progress: Batch of 211 tests completed!\n",
      "----------------------------------------------------------------------------------------------------\n",
      "Sample 1935\n",
      "sentence 1\n",
      "REF: *** shut the front door\n",
      "HYP: and shut the front door\n",
      "       I                    \n",
      "\n",
      "----------------------------------------------------------------------------------------------------\n",
      "Sample 551\n",
      "\n",
      "----------------------------------------------------------------------------------------------------\n",
      "Sample 1443\n",
      "\n",
      "----------------------------------------------------------------------------------------------------\n",
      "Results saved to /fs01/home/omidv/ASR-Error-Correction/results/test_lrs2.json\n"
     ]
    },
    {
     "name": "stderr",
     "output_type": "stream",
     "text": [
      "Some weights of RobertaModel were not initialized from the model checkpoint at roberta-large and are newly initialized: ['roberta.pooler.dense.bias', 'roberta.pooler.dense.weight']\n",
      "You should probably TRAIN this model on a down-stream task to be able to use it for predictions and inference.\n"
     ]
    },
    {
     "name": "stdout",
     "output_type": "stream",
     "text": [
      "{'WER': 0.143, 'METEOR': 0.894, 'BERT Precision': 0.876, 'BERT Recall': 0.856, 'BERT F1': 0.866}\n"
     ]
    }
   ],
   "source": [
    "results_table = await evaluate_model_parallel(lrs_dataset, model, client, zero_shot_instruct3, lrs_generation_config, lrs_results_path)\n",
    "print(results_table)"
   ]
  },
  {
   "cell_type": "code",
   "execution_count": 11,
   "id": "convenient-cleaners",
   "metadata": {
    "scrolled": true
   },
   "outputs": [
    {
     "name": "stdout",
     "output_type": "stream",
     "text": [
      "Progress: Batch of 256 tests completed!\n",
      "Progress: Batch of 256 tests completed!\n",
      "Progress: Batch of 256 tests completed!\n",
      "Progress: Batch of 256 tests completed!\n",
      "Progress: Batch of 256 tests completed!\n",
      "Progress: Batch of 256 tests completed!\n",
      "Progress: Batch of 256 tests completed!\n",
      "Progress: Batch of 256 tests completed!\n",
      "Progress: Batch of 211 tests completed!\n",
      "----------------------------------------------------------------------------------------------------\n",
      "Sample 73\n",
      "\n",
      "----------------------------------------------------------------------------------------------------\n",
      "Sample 2129\n",
      "\n",
      "----------------------------------------------------------------------------------------------------\n",
      "Sample 1028\n",
      "\n",
      "----------------------------------------------------------------------------------------------------\n",
      "Results saved to /fs01/home/omidv/ASR-Error-Correction/results/test_lrs2.json\n"
     ]
    },
    {
     "name": "stderr",
     "output_type": "stream",
     "text": [
      "Some weights of RobertaModel were not initialized from the model checkpoint at roberta-large and are newly initialized: ['roberta.pooler.dense.bias', 'roberta.pooler.dense.weight']\n",
      "You should probably TRAIN this model on a down-stream task to be able to use it for predictions and inference.\n"
     ]
    },
    {
     "name": "stdout",
     "output_type": "stream",
     "text": [
      "{'WER': 0.123, 'METEOR': 0.906, 'BERT Precision': 0.887, 'BERT Recall': 0.866, 'BERT F1': 0.876}\n"
     ]
    }
   ],
   "source": [
    "results_table = await evaluate_model_parallel(lrs_dataset, model, client, zero_shot_instruct3_closest, lrs_generation_config, lrs_results_path)\n",
    "print(results_table)"
   ]
  },
  {
   "cell_type": "code",
   "execution_count": 12,
   "id": "broadband-disney",
   "metadata": {
    "scrolled": true
   },
   "outputs": [
    {
     "name": "stdout",
     "output_type": "stream",
     "text": [
      "Progress: Batch of 256 tests completed!\n",
      "Progress: Batch of 256 tests completed!\n",
      "Progress: Batch of 256 tests completed!\n",
      "Progress: Batch of 256 tests completed!\n",
      "Progress: Batch of 256 tests completed!\n",
      "Progress: Batch of 256 tests completed!\n",
      "Progress: Batch of 256 tests completed!\n",
      "Progress: Batch of 256 tests completed!\n",
      "Progress: Batch of 211 tests completed!\n",
      "----------------------------------------------------------------------------------------------------\n",
      "Sample 980\n",
      "\n",
      "----------------------------------------------------------------------------------------------------\n",
      "Sample 183\n",
      "\n",
      "----------------------------------------------------------------------------------------------------\n",
      "Sample 225\n",
      "\n",
      "----------------------------------------------------------------------------------------------------\n",
      "Results saved to /fs01/home/omidv/ASR-Error-Correction/results/test_lrs2.json\n"
     ]
    },
    {
     "name": "stderr",
     "output_type": "stream",
     "text": [
      "Some weights of RobertaModel were not initialized from the model checkpoint at roberta-large and are newly initialized: ['roberta.pooler.dense.bias', 'roberta.pooler.dense.weight']\n",
      "You should probably TRAIN this model on a down-stream task to be able to use it for predictions and inference.\n"
     ]
    },
    {
     "name": "stdout",
     "output_type": "stream",
     "text": [
      "{'WER': 0.145, 'METEOR': 0.892, 'BERT Precision': 0.871, 'BERT Recall': 0.853, 'BERT F1': 0.862}\n"
     ]
    }
   ],
   "source": [
    "results_table = await evaluate_model_parallel(lrs_dataset, model, client, zero_shot_instruct4, lrs_generation_config, lrs_results_path)\n",
    "print(results_table)"
   ]
  },
  {
   "cell_type": "code",
   "execution_count": 13,
   "id": "dominican-advocate",
   "metadata": {
    "scrolled": true
   },
   "outputs": [
    {
     "name": "stdout",
     "output_type": "stream",
     "text": [
      "Progress: Batch of 256 tests completed!\n",
      "Progress: Batch of 256 tests completed!\n",
      "Progress: Batch of 256 tests completed!\n",
      "Progress: Batch of 256 tests completed!\n",
      "Progress: Batch of 256 tests completed!\n",
      "Progress: Batch of 256 tests completed!\n",
      "Progress: Batch of 256 tests completed!\n",
      "Progress: Batch of 256 tests completed!\n",
      "Progress: Batch of 211 tests completed!\n",
      "----------------------------------------------------------------------------------------------------\n",
      "Sample 1455\n",
      "sentence 1\n",
      "REF: **** i am sure they will make a success of this\n",
      "HYP: well i am sure they will make a success of this\n",
      "        I                                           \n",
      "\n",
      "----------------------------------------------------------------------------------------------------\n",
      "Sample 1606\n",
      "\n",
      "----------------------------------------------------------------------------------------------------\n",
      "Sample 1170\n",
      "\n",
      "----------------------------------------------------------------------------------------------------\n",
      "Results saved to /fs01/home/omidv/ASR-Error-Correction/results/test_lrs2.json\n"
     ]
    },
    {
     "name": "stderr",
     "output_type": "stream",
     "text": [
      "Some weights of RobertaModel were not initialized from the model checkpoint at roberta-large and are newly initialized: ['roberta.pooler.dense.bias', 'roberta.pooler.dense.weight']\n",
      "You should probably TRAIN this model on a down-stream task to be able to use it for predictions and inference.\n"
     ]
    },
    {
     "name": "stdout",
     "output_type": "stream",
     "text": [
      "{'WER': 0.123, 'METEOR': 0.906, 'BERT Precision': 0.887, 'BERT Recall': 0.867, 'BERT F1': 0.877}\n"
     ]
    }
   ],
   "source": [
    "results_table = await evaluate_model_parallel(lrs_dataset, model, client, zero_shot_instruct4_closest, lrs_generation_config, lrs_results_path)\n",
    "print(results_table)"
   ]
  },
  {
   "cell_type": "code",
   "execution_count": 14,
   "id": "developed-indie",
   "metadata": {
    "scrolled": true
   },
   "outputs": [
    {
     "name": "stdout",
     "output_type": "stream",
     "text": [
      "Progress: Batch of 256 tests completed!\n",
      "Progress: Batch of 256 tests completed!\n",
      "Progress: Batch of 256 tests completed!\n",
      "Progress: Batch of 256 tests completed!\n",
      "Progress: Batch of 256 tests completed!\n",
      "Progress: Batch of 256 tests completed!\n",
      "Progress: Batch of 256 tests completed!\n",
      "Progress: Batch of 256 tests completed!\n",
      "Progress: Batch of 211 tests completed!\n",
      "----------------------------------------------------------------------------------------------------\n",
      "Sample 1539\n",
      "sentence 1\n",
      "REF: it just  screams the meiji period in japan\n",
      "HYP: it just screamed the meiji period in japan\n",
      "                    S                          \n",
      "\n",
      "----------------------------------------------------------------------------------------------------\n",
      "Sample 222\n",
      "\n",
      "----------------------------------------------------------------------------------------------------\n",
      "Sample 558\n",
      "sentence 1\n",
      "REF: some animals are more collectable than others\n",
      "HYP: some animals are more collectible than others\n",
      "                                     S            \n",
      "\n",
      "----------------------------------------------------------------------------------------------------\n",
      "Results saved to /fs01/home/omidv/ASR-Error-Correction/results/test_lrs2.json\n"
     ]
    },
    {
     "name": "stderr",
     "output_type": "stream",
     "text": [
      "Some weights of RobertaModel were not initialized from the model checkpoint at roberta-large and are newly initialized: ['roberta.pooler.dense.bias', 'roberta.pooler.dense.weight']\n",
      "You should probably TRAIN this model on a down-stream task to be able to use it for predictions and inference.\n"
     ]
    },
    {
     "name": "stdout",
     "output_type": "stream",
     "text": [
      "{'WER': 0.278, 'METEOR': 0.835, 'BERT Precision': 0.822, 'BERT Recall': 0.784, 'BERT F1': 0.803}\n"
     ]
    }
   ],
   "source": [
    "results_table = await evaluate_model_parallel(lrs_dataset, model, client, zero_shot_instruct5, lrs_generation_config, lrs_results_path)\n",
    "print(results_table)"
   ]
  },
  {
   "cell_type": "code",
   "execution_count": 15,
   "id": "fluid-northern",
   "metadata": {
    "scrolled": true
   },
   "outputs": [
    {
     "name": "stdout",
     "output_type": "stream",
     "text": [
      "Progress: Batch of 256 tests completed!\n",
      "Progress: Batch of 256 tests completed!\n",
      "Progress: Batch of 256 tests completed!\n",
      "Progress: Batch of 256 tests completed!\n",
      "Progress: Batch of 256 tests completed!\n",
      "Progress: Batch of 256 tests completed!\n",
      "Progress: Batch of 256 tests completed!\n",
      "Progress: Batch of 256 tests completed!\n",
      "Progress: Batch of 211 tests completed!\n",
      "----------------------------------------------------------------------------------------------------\n",
      "Sample 1709\n",
      "sentence 1\n",
      "REF: *** then i read about truffles\n",
      "HYP: and then i read about truffles\n",
      "       I                           \n",
      "\n",
      "----------------------------------------------------------------------------------------------------\n",
      "Sample 251\n",
      "sentence 1\n",
      "REF: delayed shock has affected ** edith is voice and she ** ********* ******* may  not be able to sing in the cafe for several ****\n",
      "HYP: delayed shock has affected my  wife is voice and she is uncertain whether she will be able to sing in the cafe for several days\n",
      "                                 I     S                   I         I       I   S    S                                            I\n",
      "\n",
      "----------------------------------------------------------------------------------------------------\n",
      "Sample 1013\n",
      "sentence 1\n",
      "REF: everything we do *** is focused on the future\n",
      "HYP: everything we do now is focused on the future\n",
      "                        I                         \n",
      "\n",
      "----------------------------------------------------------------------------------------------------\n",
      "Results saved to /fs01/home/omidv/ASR-Error-Correction/results/test_lrs2.json\n"
     ]
    },
    {
     "name": "stderr",
     "output_type": "stream",
     "text": [
      "Some weights of RobertaModel were not initialized from the model checkpoint at roberta-large and are newly initialized: ['roberta.pooler.dense.bias', 'roberta.pooler.dense.weight']\n",
      "You should probably TRAIN this model on a down-stream task to be able to use it for predictions and inference.\n"
     ]
    },
    {
     "name": "stdout",
     "output_type": "stream",
     "text": [
      "{'WER': 0.132, 'METEOR': 0.899, 'BERT Precision': 0.88, 'BERT Recall': 0.853, 'BERT F1': 0.866}\n"
     ]
    }
   ],
   "source": [
    "results_table = await evaluate_model_parallel(lrs_dataset, model, client, zero_shot_instruct5_closest, lrs_generation_config, lrs_results_path)\n",
    "print(results_table)"
   ]
  },
  {
   "cell_type": "code",
   "execution_count": 16,
   "id": "acoustic-greensboro",
   "metadata": {
    "scrolled": true
   },
   "outputs": [
    {
     "name": "stdout",
     "output_type": "stream",
     "text": [
      "Progress: Batch of 256 tests completed!\n",
      "Progress: Batch of 256 tests completed!\n",
      "Progress: Batch of 256 tests completed!\n",
      "Progress: Batch of 256 tests completed!\n",
      "Progress: Batch of 256 tests completed!\n",
      "Progress: Batch of 256 tests completed!\n",
      "Progress: Batch of 256 tests completed!\n",
      "Progress: Batch of 256 tests completed!\n",
      "Progress: Batch of 211 tests completed!\n",
      "----------------------------------------------------------------------------------------------------\n",
      "Sample 1252\n",
      "\n",
      "----------------------------------------------------------------------------------------------------\n",
      "Sample 1842\n",
      "sentence 1\n",
      "REF: he is the head of our         anti bullying scheme\n",
      "HYP: he is *** head of our antibullying ******** scheme\n",
      "             D                        S        D       \n",
      "\n",
      "----------------------------------------------------------------------------------------------------\n",
      "Sample 346\n",
      "sentence 1\n",
      "REF:  they are the poor\n",
      "HYP: there are the poor\n",
      "         S             \n",
      "\n",
      "----------------------------------------------------------------------------------------------------\n",
      "Results saved to /fs01/home/omidv/ASR-Error-Correction/results/test_lrs2.json\n"
     ]
    },
    {
     "name": "stderr",
     "output_type": "stream",
     "text": [
      "Some weights of RobertaModel were not initialized from the model checkpoint at roberta-large and are newly initialized: ['roberta.pooler.dense.bias', 'roberta.pooler.dense.weight']\n",
      "You should probably TRAIN this model on a down-stream task to be able to use it for predictions and inference.\n"
     ]
    },
    {
     "name": "stdout",
     "output_type": "stream",
     "text": [
      "{'WER': 0.15, 'METEOR': 0.893, 'BERT Precision': 0.873, 'BERT Recall': 0.853, 'BERT F1': 0.863}\n"
     ]
    }
   ],
   "source": [
    "results_table = await evaluate_model_parallel(lrs_dataset, model, client, zero_shot_instruct6, lrs_generation_config, lrs_results_path)\n",
    "print(results_table)"
   ]
  },
  {
   "cell_type": "code",
   "execution_count": 17,
   "id": "acting-homeless",
   "metadata": {
    "scrolled": true
   },
   "outputs": [
    {
     "name": "stdout",
     "output_type": "stream",
     "text": [
      "Progress: Batch of 256 tests completed!\n",
      "Progress: Batch of 256 tests completed!\n",
      "Progress: Batch of 256 tests completed!\n",
      "Progress: Batch of 256 tests completed!\n",
      "Progress: Batch of 256 tests completed!\n",
      "Progress: Batch of 256 tests completed!\n",
      "Progress: Batch of 256 tests completed!\n",
      "Progress: Batch of 256 tests completed!\n",
      "Progress: Batch of 211 tests completed!\n",
      "----------------------------------------------------------------------------------------------------\n",
      "Sample 1201\n",
      "\n",
      "----------------------------------------------------------------------------------------------------\n",
      "Sample 803\n",
      "sentence 1\n",
      "REF: *** you know what she said\n",
      "HYP: did you know what she said\n",
      "       I                       \n",
      "\n",
      "----------------------------------------------------------------------------------------------------\n",
      "Sample 1000\n",
      "sentence 1\n",
      "REF: ** when a combination of newer techniques inland\n",
      "HYP: we  win a combination of newer techniques inland\n",
      "      I    S                                         \n",
      "\n",
      "----------------------------------------------------------------------------------------------------\n",
      "Results saved to /fs01/home/omidv/ASR-Error-Correction/results/test_lrs2.json\n"
     ]
    },
    {
     "name": "stderr",
     "output_type": "stream",
     "text": [
      "Some weights of RobertaModel were not initialized from the model checkpoint at roberta-large and are newly initialized: ['roberta.pooler.dense.bias', 'roberta.pooler.dense.weight']\n",
      "You should probably TRAIN this model on a down-stream task to be able to use it for predictions and inference.\n"
     ]
    },
    {
     "name": "stdout",
     "output_type": "stream",
     "text": [
      "{'WER': 0.123, 'METEOR': 0.906, 'BERT Precision': 0.888, 'BERT Recall': 0.866, 'BERT F1': 0.877}\n"
     ]
    }
   ],
   "source": [
    "results_table = await evaluate_model_parallel(lrs_dataset, model, client, zero_shot_instruct6_closest, lrs_generation_config, lrs_results_path)\n",
    "print(results_table)"
   ]
  },
  {
   "cell_type": "code",
   "execution_count": 18,
   "id": "french-acceptance",
   "metadata": {
    "scrolled": true
   },
   "outputs": [
    {
     "name": "stdout",
     "output_type": "stream",
     "text": [
      "Progress: Batch of 256 tests completed!\n",
      "Progress: Batch of 256 tests completed!\n",
      "Progress: Batch of 256 tests completed!\n",
      "Progress: Batch of 256 tests completed!\n",
      "Progress: Batch of 256 tests completed!\n",
      "Progress: Batch of 256 tests completed!\n",
      "Progress: Batch of 256 tests completed!\n",
      "Progress: Batch of 256 tests completed!\n",
      "Progress: Batch of 211 tests completed!\n",
      "----------------------------------------------------------------------------------------------------\n",
      "Sample 1465\n",
      "\n",
      "----------------------------------------------------------------------------------------------------\n",
      "Sample 1427\n",
      "\n",
      "----------------------------------------------------------------------------------------------------\n",
      "Sample 382\n",
      "sentence 1\n",
      "REF: and carol is doing exactly that with ***\n",
      "HYP: and carol is doing exactly that with six\n",
      "                                            I\n",
      "\n",
      "----------------------------------------------------------------------------------------------------\n",
      "Results saved to /fs01/home/omidv/ASR-Error-Correction/results/test_lrs2.json\n"
     ]
    },
    {
     "name": "stderr",
     "output_type": "stream",
     "text": [
      "Some weights of RobertaModel were not initialized from the model checkpoint at roberta-large and are newly initialized: ['roberta.pooler.dense.bias', 'roberta.pooler.dense.weight']\n",
      "You should probably TRAIN this model on a down-stream task to be able to use it for predictions and inference.\n"
     ]
    },
    {
     "name": "stdout",
     "output_type": "stream",
     "text": [
      "{'WER': 0.134, 'METEOR': 0.896, 'BERT Precision': 0.88, 'BERT Recall': 0.859, 'BERT F1': 0.87}\n"
     ]
    }
   ],
   "source": [
    "results_table = await evaluate_model_parallel(lrs_dataset, model, client, zero_shot_instruct7, lrs_generation_config, lrs_results_path)\n",
    "print(results_table)"
   ]
  },
  {
   "cell_type": "code",
   "execution_count": 19,
   "id": "powerful-anger",
   "metadata": {
    "scrolled": true
   },
   "outputs": [
    {
     "name": "stdout",
     "output_type": "stream",
     "text": [
      "Progress: Batch of 256 tests completed!\n",
      "Progress: Batch of 256 tests completed!\n",
      "Progress: Batch of 256 tests completed!\n",
      "Progress: Batch of 256 tests completed!\n",
      "Progress: Batch of 256 tests completed!\n",
      "Progress: Batch of 256 tests completed!\n",
      "Progress: Batch of 256 tests completed!\n",
      "Progress: Batch of 256 tests completed!\n",
      "Progress: Batch of 211 tests completed!\n",
      "----------------------------------------------------------------------------------------------------\n",
      "Sample 1635\n",
      "sentence 1\n",
      "REF: **** you must see lots of pretty girls at the **** ** campus\n",
      "HYP: well you must see lots of pretty girls at the camp as   well\n",
      "        I                                             I  I      S\n",
      "\n",
      "----------------------------------------------------------------------------------------------------\n",
      "Sample 201\n",
      "sentence 1\n",
      "REF: get my      own work\n",
      "HYP: get my homework ****\n",
      "                   S    D\n",
      "\n",
      "----------------------------------------------------------------------------------------------------\n",
      "Sample 2184\n",
      "sentence 1\n",
      "REF: *** rival republican ted cruz took iowa\n",
      "HYP: but rival republican ted cruz took iowa\n",
      "       I                                    \n",
      "\n",
      "----------------------------------------------------------------------------------------------------\n",
      "Results saved to /fs01/home/omidv/ASR-Error-Correction/results/test_lrs2.json\n"
     ]
    },
    {
     "name": "stderr",
     "output_type": "stream",
     "text": [
      "Some weights of RobertaModel were not initialized from the model checkpoint at roberta-large and are newly initialized: ['roberta.pooler.dense.bias', 'roberta.pooler.dense.weight']\n",
      "You should probably TRAIN this model on a down-stream task to be able to use it for predictions and inference.\n"
     ]
    },
    {
     "name": "stdout",
     "output_type": "stream",
     "text": [
      "{'WER': 0.122, 'METEOR': 0.904, 'BERT Precision': 0.888, 'BERT Recall': 0.865, 'BERT F1': 0.877}\n"
     ]
    }
   ],
   "source": [
    "results_table = await evaluate_model_parallel(lrs_dataset, model, client, zero_shot_instruct7_closest, lrs_generation_config, lrs_results_path)\n",
    "print(results_table)"
   ]
  },
  {
   "cell_type": "code",
   "execution_count": 20,
   "id": "swiss-interval",
   "metadata": {
    "scrolled": true
   },
   "outputs": [
    {
     "name": "stdout",
     "output_type": "stream",
     "text": [
      "Progress: Batch of 256 tests completed!\n",
      "Progress: Batch of 256 tests completed!\n",
      "Progress: Batch of 256 tests completed!\n",
      "Progress: Batch of 256 tests completed!\n",
      "Progress: Batch of 256 tests completed!\n",
      "Progress: Batch of 256 tests completed!\n",
      "Progress: Batch of 256 tests completed!\n",
      "Progress: Batch of 256 tests completed!\n",
      "Progress: Batch of 211 tests completed!\n",
      "----------------------------------------------------------------------------------------------------\n",
      "Sample 1359\n",
      "\n",
      "----------------------------------------------------------------------------------------------------\n",
      "Sample 148\n",
      "\n",
      "----------------------------------------------------------------------------------------------------\n",
      "Sample 403\n",
      "\n",
      "----------------------------------------------------------------------------------------------------\n",
      "Results saved to /fs01/home/omidv/ASR-Error-Correction/results/test_lrs2.json\n"
     ]
    },
    {
     "name": "stderr",
     "output_type": "stream",
     "text": [
      "Some weights of RobertaModel were not initialized from the model checkpoint at roberta-large and are newly initialized: ['roberta.pooler.dense.bias', 'roberta.pooler.dense.weight']\n",
      "You should probably TRAIN this model on a down-stream task to be able to use it for predictions and inference.\n"
     ]
    },
    {
     "name": "stdout",
     "output_type": "stream",
     "text": [
      "{'WER': 0.158, 'METEOR': 0.876, 'BERT Precision': 0.855, 'BERT Recall': 0.824, 'BERT F1': 0.839}\n"
     ]
    }
   ],
   "source": [
    "results_table = await evaluate_model_parallel(lrs_dataset, model, client, zero_shot_instruct8, lrs_generation_config, lrs_results_path)\n",
    "print(results_table)"
   ]
  },
  {
   "cell_type": "code",
   "execution_count": 21,
   "id": "lesbian-courage",
   "metadata": {
    "scrolled": true
   },
   "outputs": [
    {
     "name": "stdout",
     "output_type": "stream",
     "text": [
      "Progress: Batch of 256 tests completed!\n",
      "Progress: Batch of 256 tests completed!\n",
      "Progress: Batch of 256 tests completed!\n",
      "Progress: Batch of 256 tests completed!\n",
      "Progress: Batch of 256 tests completed!\n",
      "Progress: Batch of 256 tests completed!\n",
      "Progress: Batch of 256 tests completed!\n",
      "Progress: Batch of 256 tests completed!\n",
      "Progress: Batch of 211 tests completed!\n",
      "----------------------------------------------------------------------------------------------------\n",
      "Sample 2009\n",
      "sentence 1\n",
      "REF: ****** forget all this ever happened\n",
      "HYP: please forget all this ever happened\n",
      "          I                              \n",
      "\n",
      "----------------------------------------------------------------------------------------------------\n",
      "Sample 1992\n",
      "sentence 1\n",
      "REF:  and two weeks ago it did get very cold\n",
      "HYP: that two weeks ago it did get very cold\n",
      "        S                                   \n",
      "\n",
      "----------------------------------------------------------------------------------------------------\n",
      "Sample 1103\n",
      "\n",
      "----------------------------------------------------------------------------------------------------\n",
      "Results saved to /fs01/home/omidv/ASR-Error-Correction/results/test_lrs2.json\n"
     ]
    },
    {
     "name": "stderr",
     "output_type": "stream",
     "text": [
      "Some weights of RobertaModel were not initialized from the model checkpoint at roberta-large and are newly initialized: ['roberta.pooler.dense.bias', 'roberta.pooler.dense.weight']\n",
      "You should probably TRAIN this model on a down-stream task to be able to use it for predictions and inference.\n"
     ]
    },
    {
     "name": "stdout",
     "output_type": "stream",
     "text": [
      "{'WER': 0.156, 'METEOR': 0.878, 'BERT Precision': 0.858, 'BERT Recall': 0.826, 'BERT F1': 0.842}\n"
     ]
    }
   ],
   "source": [
    "results_table = await evaluate_model_parallel(lrs_dataset, model, client, zero_shot_instruct8_closest, lrs_generation_config, lrs_results_path)\n",
    "print(results_table)"
   ]
  },
  {
   "cell_type": "markdown",
   "id": "defensive-chart",
   "metadata": {},
   "source": [
    "## Playground of LLMs"
   ]
  },
  {
   "cell_type": "code",
   "execution_count": 22,
   "id": "departmental-partition",
   "metadata": {},
   "outputs": [],
   "source": [
    "base_url = \"https://kscope.vectorinstitute.ai/v1\"\n",
    "api_key = os.environ.get(\"CUSTOM_API_KEY\")\n",
    "client = openai.AsyncOpenAI(api_key=api_key, base_url=base_url)"
   ]
  },
  {
   "cell_type": "code",
   "execution_count": 23,
   "id": "artistic-ownership",
   "metadata": {
    "scrolled": true
   },
   "outputs": [
    {
     "name": "stdout",
     "output_type": "stream",
     "text": [
      "Hello! I am Gemma, an open-weights AI assistant developed by the Gemma team at Google DeepMind.\n",
      "\n",
      "I'm a large language model, which means I'm trained on a massive amount of text data. This allows me to understand and generate human-like text, engage in conversations, answer questions, summarize information, and much more.\n",
      "\n",
      "As an open-weights model, my weights are publicly available. This means anyone can access, study, and modify me, fostering transparency and collaboration within the AI community.\n",
      "\n",
      "I'm still under development, but I'm learning new things every day. I'm excited to see how people use me to explore the potential of artificial intelligence.\n",
      "\n"
     ]
    }
   ],
   "source": [
    "model = \"gemma-2-9b-it\"\n",
    "await check_availability(client, model)"
   ]
  },
  {
   "cell_type": "code",
   "execution_count": 24,
   "id": "apparent-entity",
   "metadata": {
    "scrolled": true
   },
   "outputs": [
    {
     "name": "stdout",
     "output_type": "stream",
     "text": [
      "Progress: Batch of 256 tests completed!\n",
      "Progress: Batch of 256 tests completed!\n",
      "Progress: Batch of 256 tests completed!\n",
      "Progress: Batch of 256 tests completed!\n",
      "Progress: Batch of 256 tests completed!\n",
      "Progress: Batch of 256 tests completed!\n",
      "Progress: Batch of 256 tests completed!\n",
      "Progress: Batch of 256 tests completed!\n",
      "Progress: Batch of 211 tests completed!\n",
      "----------------------------------------------------------------------------------------------------\n",
      "Sample 122\n",
      "\n",
      "----------------------------------------------------------------------------------------------------\n",
      "Sample 2235\n",
      "\n",
      "----------------------------------------------------------------------------------------------------\n",
      "Sample 313\n",
      "\n",
      "----------------------------------------------------------------------------------------------------\n",
      "Results saved to /fs01/home/omidv/ASR-Error-Correction/results/test_lrs2.json\n"
     ]
    },
    {
     "name": "stderr",
     "output_type": "stream",
     "text": [
      "Some weights of RobertaModel were not initialized from the model checkpoint at roberta-large and are newly initialized: ['roberta.pooler.dense.bias', 'roberta.pooler.dense.weight']\n",
      "You should probably TRAIN this model on a down-stream task to be able to use it for predictions and inference.\n"
     ]
    },
    {
     "name": "stdout",
     "output_type": "stream",
     "text": [
      "{'WER': 0.134, 'METEOR': 0.898, 'BERT Precision': 0.879, 'BERT Recall': 0.854, 'BERT F1': 0.867}\n"
     ]
    }
   ],
   "source": [
    "results_table = await evaluate_model_parallel(lrs_dataset, model, client, zero_shot_instruct1, lrs_generation_config, lrs_results_path)\n",
    "print(results_table)"
   ]
  },
  {
   "cell_type": "code",
   "execution_count": 25,
   "id": "pleased-royal",
   "metadata": {
    "scrolled": true
   },
   "outputs": [
    {
     "name": "stdout",
     "output_type": "stream",
     "text": [
      "Progress: Batch of 256 tests completed!\n",
      "Progress: Batch of 256 tests completed!\n",
      "Progress: Batch of 256 tests completed!\n",
      "Progress: Batch of 256 tests completed!\n",
      "Progress: Batch of 256 tests completed!\n",
      "Progress: Batch of 256 tests completed!\n",
      "Progress: Batch of 256 tests completed!\n",
      "Progress: Batch of 256 tests completed!\n",
      "Progress: Batch of 211 tests completed!\n",
      "----------------------------------------------------------------------------------------------------\n",
      "Sample 255\n",
      "sentence 1\n",
      "REF:  spelter has a sort of tinny  quality i do that because i sort of ting my ring on things\n",
      "HYP: expelter  is a sort of   tin equality i do that because i **** ** ting my ring on things\n",
      "            S   S               S        S                        D  D                       \n",
      "\n",
      "----------------------------------------------------------------------------------------------------\n",
      "Sample 1160\n",
      "sentence 1\n",
      "REF: especially if you do not know him ******\n",
      "HYP: especially if you do not know him please\n",
      "                                            I\n",
      "\n",
      "----------------------------------------------------------------------------------------------------\n",
      "Sample 974\n",
      "sentence 1\n",
      "REF: it has grown to be the uk is largest institution in terms of student numbers\n",
      "HYP: it  is going to be the uk is largest institution in terms of student numbers\n",
      "          S     S                                                                \n",
      "\n",
      "----------------------------------------------------------------------------------------------------\n",
      "Results saved to /fs01/home/omidv/ASR-Error-Correction/results/test_lrs2.json\n"
     ]
    },
    {
     "name": "stderr",
     "output_type": "stream",
     "text": [
      "Some weights of RobertaModel were not initialized from the model checkpoint at roberta-large and are newly initialized: ['roberta.pooler.dense.bias', 'roberta.pooler.dense.weight']\n",
      "You should probably TRAIN this model on a down-stream task to be able to use it for predictions and inference.\n"
     ]
    },
    {
     "name": "stdout",
     "output_type": "stream",
     "text": [
      "{'WER': 0.131, 'METEOR': 0.898, 'BERT Precision': 0.881, 'BERT Recall': 0.855, 'BERT F1': 0.868}\n"
     ]
    }
   ],
   "source": [
    "results_table = await evaluate_model_parallel(lrs_dataset, model, client, zero_shot_instruct1_closest, lrs_generation_config, lrs_results_path)\n",
    "print(results_table)"
   ]
  },
  {
   "cell_type": "code",
   "execution_count": 28,
   "id": "efficient-training",
   "metadata": {
    "scrolled": true
   },
   "outputs": [
    {
     "name": "stdout",
     "output_type": "stream",
     "text": [
      "Progress: Batch of 256 tests completed!\n",
      "Progress: Batch of 256 tests completed!\n",
      "Progress: Batch of 256 tests completed!\n",
      "Progress: Batch of 256 tests completed!\n",
      "Progress: Batch of 256 tests completed!\n",
      "Progress: Batch of 256 tests completed!\n",
      "Progress: Batch of 256 tests completed!\n",
      "Progress: Batch of 256 tests completed!\n",
      "Progress: Batch of 211 tests completed!\n",
      "----------------------------------------------------------------------------------------------------\n",
      "Sample 73\n",
      "\n",
      "----------------------------------------------------------------------------------------------------\n",
      "Sample 693\n",
      "sentence 1\n",
      "REF: but it will cost ***\n",
      "HYP: but it will cost her\n",
      "                        I\n",
      "\n",
      "----------------------------------------------------------------------------------------------------\n",
      "Sample 1583\n",
      "sentence 1\n",
      "REF: there is also the sort of ivory that we have all got you know\n",
      "HYP: there is also the sort of ivory that we have all got *** ****\n",
      "                                                            D    D\n",
      "\n",
      "----------------------------------------------------------------------------------------------------\n",
      "Results saved to /fs01/home/omidv/ASR-Error-Correction/results/test_lrs2.json\n"
     ]
    },
    {
     "name": "stderr",
     "output_type": "stream",
     "text": [
      "Some weights of RobertaModel were not initialized from the model checkpoint at roberta-large and are newly initialized: ['roberta.pooler.dense.bias', 'roberta.pooler.dense.weight']\n",
      "You should probably TRAIN this model on a down-stream task to be able to use it for predictions and inference.\n"
     ]
    },
    {
     "name": "stdout",
     "output_type": "stream",
     "text": [
      "{'WER': 0.162, 'METEOR': 0.881, 'BERT Precision': 0.862, 'BERT Recall': 0.84, 'BERT F1': 0.851}\n"
     ]
    }
   ],
   "source": [
    "results_table = await evaluate_model_parallel(lrs_dataset, model, client, zero_shot_instruct2, lrs_generation_config, lrs_results_path)\n",
    "print(results_table)"
   ]
  },
  {
   "cell_type": "code",
   "execution_count": 29,
   "id": "spare-manual",
   "metadata": {
    "scrolled": true
   },
   "outputs": [
    {
     "name": "stdout",
     "output_type": "stream",
     "text": [
      "Progress: Batch of 256 tests completed!\n",
      "Progress: Batch of 256 tests completed!\n",
      "Progress: Batch of 256 tests completed!\n",
      "Progress: Batch of 256 tests completed!\n",
      "Progress: Batch of 256 tests completed!\n",
      "Progress: Batch of 256 tests completed!\n",
      "Progress: Batch of 256 tests completed!\n",
      "Progress: Batch of 256 tests completed!\n",
      "Progress: Batch of 211 tests completed!\n",
      "----------------------------------------------------------------------------------------------------\n",
      "Sample 1369\n",
      "\n",
      "----------------------------------------------------------------------------------------------------\n",
      "Sample 2014\n",
      "sentence 1\n",
      "REF: whereas if you take fresh  shitake mushrooms\n",
      "HYP: whereas if you take fresh shiitake mushrooms\n",
      "                                      S          \n",
      "\n",
      "----------------------------------------------------------------------------------------------------\n",
      "Sample 1907\n",
      "sentence 1\n",
      "REF: thank you so much for bringing this in *******\n",
      "HYP: thank you so much for bringing this in because\n",
      "                                                  I\n",
      "\n",
      "----------------------------------------------------------------------------------------------------\n",
      "Results saved to /fs01/home/omidv/ASR-Error-Correction/results/test_lrs2.json\n"
     ]
    },
    {
     "name": "stderr",
     "output_type": "stream",
     "text": [
      "Some weights of RobertaModel were not initialized from the model checkpoint at roberta-large and are newly initialized: ['roberta.pooler.dense.bias', 'roberta.pooler.dense.weight']\n",
      "You should probably TRAIN this model on a down-stream task to be able to use it for predictions and inference.\n"
     ]
    },
    {
     "name": "stdout",
     "output_type": "stream",
     "text": [
      "{'WER': 0.127, 'METEOR': 0.901, 'BERT Precision': 0.883, 'BERT Recall': 0.86, 'BERT F1': 0.871}\n"
     ]
    }
   ],
   "source": [
    "results_table = await evaluate_model_parallel(lrs_dataset, model, client, zero_shot_instruct2_closest, lrs_generation_config, lrs_results_path)\n",
    "print(results_table)"
   ]
  },
  {
   "cell_type": "code",
   "execution_count": 30,
   "id": "approximate-taxation",
   "metadata": {
    "scrolled": true
   },
   "outputs": [
    {
     "name": "stdout",
     "output_type": "stream",
     "text": [
      "Progress: Batch of 256 tests completed!\n",
      "Progress: Batch of 256 tests completed!\n",
      "Progress: Batch of 256 tests completed!\n",
      "Progress: Batch of 256 tests completed!\n",
      "Progress: Batch of 256 tests completed!\n",
      "Progress: Batch of 256 tests completed!\n",
      "Progress: Batch of 256 tests completed!\n",
      "Progress: Batch of 256 tests completed!\n",
      "Progress: Batch of 211 tests completed!\n",
      "----------------------------------------------------------------------------------------------------\n",
      "Sample 1648\n",
      "\n",
      "----------------------------------------------------------------------------------------------------\n",
      "Sample 1713\n",
      "sentence 1\n",
      "REF: and let us be honest\n",
      "HYP: *** let us be honest\n",
      "       D                 \n",
      "\n",
      "----------------------------------------------------------------------------------------------------\n",
      "Sample 752\n",
      "\n",
      "----------------------------------------------------------------------------------------------------\n",
      "Results saved to /fs01/home/omidv/ASR-Error-Correction/results/test_lrs2.json\n"
     ]
    },
    {
     "name": "stderr",
     "output_type": "stream",
     "text": [
      "Some weights of RobertaModel were not initialized from the model checkpoint at roberta-large and are newly initialized: ['roberta.pooler.dense.bias', 'roberta.pooler.dense.weight']\n",
      "You should probably TRAIN this model on a down-stream task to be able to use it for predictions and inference.\n"
     ]
    },
    {
     "name": "stdout",
     "output_type": "stream",
     "text": [
      "{'WER': 0.172, 'METEOR': 0.879, 'BERT Precision': 0.86, 'BERT Recall': 0.833, 'BERT F1': 0.846}\n"
     ]
    }
   ],
   "source": [
    "results_table = await evaluate_model_parallel(lrs_dataset, model, client, zero_shot_instruct3, lrs_generation_config, lrs_results_path)\n",
    "print(results_table)"
   ]
  },
  {
   "cell_type": "code",
   "execution_count": 31,
   "id": "verified-minimum",
   "metadata": {
    "scrolled": true
   },
   "outputs": [
    {
     "name": "stdout",
     "output_type": "stream",
     "text": [
      "Progress: Batch of 256 tests completed!\n",
      "Progress: Batch of 256 tests completed!\n",
      "Progress: Batch of 256 tests completed!\n",
      "Progress: Batch of 256 tests completed!\n",
      "Progress: Batch of 256 tests completed!\n",
      "Progress: Batch of 256 tests completed!\n",
      "Progress: Batch of 256 tests completed!\n",
      "Progress: Batch of 256 tests completed!\n",
      "Progress: Batch of 211 tests completed!\n",
      "----------------------------------------------------------------------------------------------------\n",
      "Sample 1181\n",
      "sentence 1\n",
      "REF: so we   are to take a stand\n",
      "HYP: so we ought to take a stand\n",
      "               S                \n",
      "\n",
      "----------------------------------------------------------------------------------------------------\n",
      "Sample 1484\n",
      "\n",
      "----------------------------------------------------------------------------------------------------\n",
      "Sample 31\n",
      "sentence 1\n",
      "REF: we have a lot of candidates and we go through a lot of processing to make them announcements but *****\n",
      "HYP: we have a lot of candidates and we go through a lot of processing to make them announcements but there\n",
      "                                                                                                          I\n",
      "\n",
      "----------------------------------------------------------------------------------------------------\n",
      "Results saved to /fs01/home/omidv/ASR-Error-Correction/results/test_lrs2.json\n"
     ]
    },
    {
     "name": "stderr",
     "output_type": "stream",
     "text": [
      "Some weights of RobertaModel were not initialized from the model checkpoint at roberta-large and are newly initialized: ['roberta.pooler.dense.bias', 'roberta.pooler.dense.weight']\n",
      "You should probably TRAIN this model on a down-stream task to be able to use it for predictions and inference.\n"
     ]
    },
    {
     "name": "stdout",
     "output_type": "stream",
     "text": [
      "{'WER': 0.131, 'METEOR': 0.898, 'BERT Precision': 0.88, 'BERT Recall': 0.855, 'BERT F1': 0.867}\n"
     ]
    }
   ],
   "source": [
    "results_table = await evaluate_model_parallel(lrs_dataset, model, client, zero_shot_instruct3_closest, lrs_generation_config, lrs_results_path)\n",
    "print(results_table)"
   ]
  },
  {
   "cell_type": "code",
   "execution_count": 32,
   "id": "chubby-reservoir",
   "metadata": {
    "scrolled": true
   },
   "outputs": [
    {
     "name": "stdout",
     "output_type": "stream",
     "text": [
      "Progress: Batch of 256 tests completed!\n",
      "Progress: Batch of 256 tests completed!\n",
      "Progress: Batch of 256 tests completed!\n",
      "Progress: Batch of 256 tests completed!\n",
      "Progress: Batch of 256 tests completed!\n",
      "Progress: Batch of 256 tests completed!\n",
      "Progress: Batch of 256 tests completed!\n",
      "Progress: Batch of 256 tests completed!\n",
      "Progress: Batch of 211 tests completed!\n",
      "----------------------------------------------------------------------------------------------------\n",
      "Sample 1305\n",
      "sentence 1\n",
      "REF: * lovely   little picture\n",
      "HYP: a lovely colorful picture\n",
      "     I               S        \n",
      "\n",
      "----------------------------------------------------------------------------------------------------\n",
      "Sample 493\n",
      "\n",
      "----------------------------------------------------------------------------------------------------\n",
      "Sample 220\n",
      "sentence 1\n",
      "REF: so having that letter with it **\n",
      "HYP: so having that letter with it up\n",
      "                                    I\n",
      "\n",
      "----------------------------------------------------------------------------------------------------\n",
      "Results saved to /fs01/home/omidv/ASR-Error-Correction/results/test_lrs2.json\n"
     ]
    },
    {
     "name": "stderr",
     "output_type": "stream",
     "text": [
      "Some weights of RobertaModel were not initialized from the model checkpoint at roberta-large and are newly initialized: ['roberta.pooler.dense.bias', 'roberta.pooler.dense.weight']\n",
      "You should probably TRAIN this model on a down-stream task to be able to use it for predictions and inference.\n"
     ]
    },
    {
     "name": "stdout",
     "output_type": "stream",
     "text": [
      "{'WER': 0.182, 'METEOR': 0.875, 'BERT Precision': 0.856, 'BERT Recall': 0.826, 'BERT F1': 0.841}\n"
     ]
    }
   ],
   "source": [
    "results_table = await evaluate_model_parallel(lrs_dataset, model, client, zero_shot_instruct4, lrs_generation_config, lrs_results_path)\n",
    "print(results_table)"
   ]
  },
  {
   "cell_type": "code",
   "execution_count": 33,
   "id": "consistent-coverage",
   "metadata": {
    "scrolled": true
   },
   "outputs": [
    {
     "name": "stdout",
     "output_type": "stream",
     "text": [
      "Progress: Batch of 256 tests completed!\n",
      "Progress: Batch of 256 tests completed!\n",
      "Progress: Batch of 256 tests completed!\n",
      "Progress: Batch of 256 tests completed!\n",
      "Progress: Batch of 256 tests completed!\n",
      "Progress: Batch of 256 tests completed!\n",
      "Progress: Batch of 256 tests completed!\n",
      "Progress: Batch of 256 tests completed!\n",
      "Progress: Batch of 211 tests completed!\n",
      "----------------------------------------------------------------------------------------------------\n",
      "Sample 779\n",
      "\n",
      "----------------------------------------------------------------------------------------------------\n",
      "Sample 991\n",
      "sentence 1\n",
      "REF: and that is what the   architects     and surveyors are looking at\n",
      "HYP: and that is what the architecture surveys ********* are looking at\n",
      "                                     S       S         D               \n",
      "\n",
      "----------------------------------------------------------------------------------------------------\n",
      "Sample 1060\n",
      "\n",
      "----------------------------------------------------------------------------------------------------\n",
      "Results saved to /fs01/home/omidv/ASR-Error-Correction/results/test_lrs2.json\n"
     ]
    },
    {
     "name": "stderr",
     "output_type": "stream",
     "text": [
      "Some weights of RobertaModel were not initialized from the model checkpoint at roberta-large and are newly initialized: ['roberta.pooler.dense.bias', 'roberta.pooler.dense.weight']\n",
      "You should probably TRAIN this model on a down-stream task to be able to use it for predictions and inference.\n"
     ]
    },
    {
     "name": "stdout",
     "output_type": "stream",
     "text": [
      "{'WER': 0.13, 'METEOR': 0.898, 'BERT Precision': 0.88, 'BERT Recall': 0.855, 'BERT F1': 0.867}\n"
     ]
    }
   ],
   "source": [
    "results_table = await evaluate_model_parallel(lrs_dataset, model, client, zero_shot_instruct4_closest, lrs_generation_config, lrs_results_path)\n",
    "print(results_table)"
   ]
  },
  {
   "cell_type": "code",
   "execution_count": 34,
   "id": "regional-milan",
   "metadata": {
    "scrolled": true
   },
   "outputs": [
    {
     "name": "stdout",
     "output_type": "stream",
     "text": [
      "Progress: Batch of 256 tests completed!\n",
      "Progress: Batch of 256 tests completed!\n",
      "Progress: Batch of 256 tests completed!\n",
      "Progress: Batch of 256 tests completed!\n",
      "Progress: Batch of 256 tests completed!\n",
      "Progress: Batch of 256 tests completed!\n",
      "Progress: Batch of 256 tests completed!\n",
      "Progress: Batch of 256 tests completed!\n",
      "Progress: Batch of 211 tests completed!\n",
      "----------------------------------------------------------------------------------------------------\n",
      "Sample 2168\n",
      "sentence 1\n",
      "REF: *** the named persons policy\n",
      "HYP: now the named persons policy\n",
      "       I                         \n",
      "\n",
      "----------------------------------------------------------------------------------------------------\n",
      "Sample 313\n",
      "\n",
      "----------------------------------------------------------------------------------------------------\n",
      "Sample 1046\n",
      "sentence 1\n",
      "REF: but we will give  him twenty minutes ***\n",
      "HYP: but we will give them twenty minutes out\n",
      "                         S                  I\n",
      "\n",
      "----------------------------------------------------------------------------------------------------\n",
      "Results saved to /fs01/home/omidv/ASR-Error-Correction/results/test_lrs2.json\n"
     ]
    },
    {
     "name": "stderr",
     "output_type": "stream",
     "text": [
      "Some weights of RobertaModel were not initialized from the model checkpoint at roberta-large and are newly initialized: ['roberta.pooler.dense.bias', 'roberta.pooler.dense.weight']\n",
      "You should probably TRAIN this model on a down-stream task to be able to use it for predictions and inference.\n"
     ]
    },
    {
     "name": "stdout",
     "output_type": "stream",
     "text": [
      "{'WER': 0.173, 'METEOR': 0.876, 'BERT Precision': 0.856, 'BERT Recall': 0.826, 'BERT F1': 0.841}\n"
     ]
    }
   ],
   "source": [
    "results_table = await evaluate_model_parallel(lrs_dataset, model, client, zero_shot_instruct5, lrs_generation_config, lrs_results_path)\n",
    "print(results_table)"
   ]
  },
  {
   "cell_type": "code",
   "execution_count": 35,
   "id": "supreme-honolulu",
   "metadata": {
    "scrolled": true
   },
   "outputs": [
    {
     "name": "stdout",
     "output_type": "stream",
     "text": [
      "Progress: Batch of 256 tests completed!\n",
      "Progress: Batch of 256 tests completed!\n",
      "Progress: Batch of 256 tests completed!\n",
      "Progress: Batch of 256 tests completed!\n",
      "Progress: Batch of 256 tests completed!\n",
      "Progress: Batch of 256 tests completed!\n",
      "Progress: Batch of 256 tests completed!\n",
      "Progress: Batch of 256 tests completed!\n",
      "Progress: Batch of 211 tests completed!\n",
      "----------------------------------------------------------------------------------------------------\n",
      "Sample 1283\n",
      "sentence 1\n",
      "REF: but you do not want me to get out as soon as **** i do\n",
      "HYP: but you do not want me to get out as soon as what i do\n",
      "                                                     I     \n",
      "\n",
      "----------------------------------------------------------------------------------------------------\n",
      "Sample 962\n",
      "\n",
      "----------------------------------------------------------------------------------------------------\n",
      "Sample 308\n",
      "sentence 1\n",
      "REF: you know she was really very ****\n",
      "HYP: you know she was really very very\n",
      "                                     I\n",
      "\n",
      "----------------------------------------------------------------------------------------------------\n",
      "Results saved to /fs01/home/omidv/ASR-Error-Correction/results/test_lrs2.json\n"
     ]
    },
    {
     "name": "stderr",
     "output_type": "stream",
     "text": [
      "Some weights of RobertaModel were not initialized from the model checkpoint at roberta-large and are newly initialized: ['roberta.pooler.dense.bias', 'roberta.pooler.dense.weight']\n",
      "You should probably TRAIN this model on a down-stream task to be able to use it for predictions and inference.\n"
     ]
    },
    {
     "name": "stdout",
     "output_type": "stream",
     "text": [
      "{'WER': 0.141, 'METEOR': 0.892, 'BERT Precision': 0.874, 'BERT Recall': 0.844, 'BERT F1': 0.859}\n"
     ]
    }
   ],
   "source": [
    "results_table = await evaluate_model_parallel(lrs_dataset, model, client, zero_shot_instruct5_closest, lrs_generation_config, lrs_results_path)\n",
    "print(results_table)"
   ]
  },
  {
   "cell_type": "code",
   "execution_count": 36,
   "id": "violent-mercury",
   "metadata": {
    "scrolled": true
   },
   "outputs": [
    {
     "name": "stdout",
     "output_type": "stream",
     "text": [
      "Progress: Batch of 256 tests completed!\n",
      "Progress: Batch of 256 tests completed!\n",
      "Progress: Batch of 256 tests completed!\n",
      "Progress: Batch of 256 tests completed!\n",
      "Progress: Batch of 256 tests completed!\n",
      "Progress: Batch of 256 tests completed!\n",
      "Progress: Batch of 256 tests completed!\n",
      "Progress: Batch of 256 tests completed!\n",
      "Progress: Batch of 211 tests completed!\n",
      "----------------------------------------------------------------------------------------------------\n",
      "Sample 959\n",
      "\n",
      "----------------------------------------------------------------------------------------------------\n",
      "Sample 1230\n",
      "\n",
      "----------------------------------------------------------------------------------------------------\n",
      "Sample 2247\n",
      "sentence 1\n",
      "REF: individuals that can win it in a day ***\n",
      "HYP: individuals that can win it in a day may\n",
      "                                            I\n",
      "\n",
      "----------------------------------------------------------------------------------------------------\n",
      "Results saved to /fs01/home/omidv/ASR-Error-Correction/results/test_lrs2.json\n"
     ]
    },
    {
     "name": "stderr",
     "output_type": "stream",
     "text": [
      "Some weights of RobertaModel were not initialized from the model checkpoint at roberta-large and are newly initialized: ['roberta.pooler.dense.bias', 'roberta.pooler.dense.weight']\n",
      "You should probably TRAIN this model on a down-stream task to be able to use it for predictions and inference.\n"
     ]
    },
    {
     "name": "stdout",
     "output_type": "stream",
     "text": [
      "{'WER': 0.16, 'METEOR': 0.885, 'BERT Precision': 0.861, 'BERT Recall': 0.839, 'BERT F1': 0.85}\n"
     ]
    }
   ],
   "source": [
    "results_table = await evaluate_model_parallel(lrs_dataset, model, client, zero_shot_instruct6, lrs_generation_config, lrs_results_path)\n",
    "print(results_table)"
   ]
  },
  {
   "cell_type": "code",
   "execution_count": 37,
   "id": "polyphonic-directory",
   "metadata": {
    "scrolled": true
   },
   "outputs": [
    {
     "name": "stdout",
     "output_type": "stream",
     "text": [
      "Progress: Batch of 256 tests completed!\n",
      "Progress: Batch of 256 tests completed!\n",
      "Progress: Batch of 256 tests completed!\n",
      "Progress: Batch of 256 tests completed!\n",
      "Progress: Batch of 256 tests completed!\n",
      "Progress: Batch of 256 tests completed!\n",
      "Progress: Batch of 256 tests completed!\n",
      "Progress: Batch of 256 tests completed!\n",
      "Progress: Batch of 211 tests completed!\n",
      "----------------------------------------------------------------------------------------------------\n",
      "Sample 839\n",
      "sentence 1\n",
      "REF: **** he involved himself in things\n",
      "HYP: that he involved himself in      a\n",
      "        I                             S\n",
      "\n",
      "----------------------------------------------------------------------------------------------------\n",
      "Sample 2102\n",
      "sentence 1\n",
      "REF: what do you mean by negroes\n",
      "HYP: what do you mean by neglect\n",
      "                               S\n",
      "\n",
      "----------------------------------------------------------------------------------------------------\n",
      "Sample 154\n",
      "\n",
      "----------------------------------------------------------------------------------------------------\n",
      "Results saved to /fs01/home/omidv/ASR-Error-Correction/results/test_lrs2.json\n"
     ]
    },
    {
     "name": "stderr",
     "output_type": "stream",
     "text": [
      "Some weights of RobertaModel were not initialized from the model checkpoint at roberta-large and are newly initialized: ['roberta.pooler.dense.bias', 'roberta.pooler.dense.weight']\n",
      "You should probably TRAIN this model on a down-stream task to be able to use it for predictions and inference.\n"
     ]
    },
    {
     "name": "stdout",
     "output_type": "stream",
     "text": [
      "{'WER': 0.132, 'METEOR': 0.898, 'BERT Precision': 0.878, 'BERT Recall': 0.854, 'BERT F1': 0.866}\n"
     ]
    }
   ],
   "source": [
    "results_table = await evaluate_model_parallel(lrs_dataset, model, client, zero_shot_instruct6_closest, lrs_generation_config, lrs_results_path)\n",
    "print(results_table)"
   ]
  },
  {
   "cell_type": "code",
   "execution_count": 38,
   "id": "sudden-welding",
   "metadata": {
    "scrolled": true
   },
   "outputs": [
    {
     "name": "stdout",
     "output_type": "stream",
     "text": [
      "Progress: Batch of 256 tests completed!\n",
      "Progress: Batch of 256 tests completed!\n",
      "Progress: Batch of 256 tests completed!\n",
      "Progress: Batch of 256 tests completed!\n",
      "Progress: Batch of 256 tests completed!\n",
      "Progress: Batch of 256 tests completed!\n",
      "Progress: Batch of 256 tests completed!\n",
      "Progress: Batch of 256 tests completed!\n",
      "Progress: Batch of 211 tests completed!\n",
      "----------------------------------------------------------------------------------------------------\n",
      "Sample 157\n",
      "\n",
      "----------------------------------------------------------------------------------------------------\n",
      "Sample 894\n",
      "\n",
      "----------------------------------------------------------------------------------------------------\n",
      "Sample 1766\n",
      "\n",
      "----------------------------------------------------------------------------------------------------\n",
      "Results saved to /fs01/home/omidv/ASR-Error-Correction/results/test_lrs2.json\n"
     ]
    },
    {
     "name": "stderr",
     "output_type": "stream",
     "text": [
      "Some weights of RobertaModel were not initialized from the model checkpoint at roberta-large and are newly initialized: ['roberta.pooler.dense.bias', 'roberta.pooler.dense.weight']\n",
      "You should probably TRAIN this model on a down-stream task to be able to use it for predictions and inference.\n"
     ]
    },
    {
     "name": "stdout",
     "output_type": "stream",
     "text": [
      "{'WER': 0.132, 'METEOR': 0.898, 'BERT Precision': 0.876, 'BERT Recall': 0.857, 'BERT F1': 0.867}\n"
     ]
    }
   ],
   "source": [
    "results_table = await evaluate_model_parallel(lrs_dataset, model, client, zero_shot_instruct7, lrs_generation_config, lrs_results_path)\n",
    "print(results_table)"
   ]
  },
  {
   "cell_type": "code",
   "execution_count": 39,
   "id": "mathematical-nomination",
   "metadata": {
    "scrolled": true
   },
   "outputs": [
    {
     "name": "stdout",
     "output_type": "stream",
     "text": [
      "Progress: Batch of 256 tests completed!\n",
      "Progress: Batch of 256 tests completed!\n",
      "Progress: Batch of 256 tests completed!\n",
      "Progress: Batch of 256 tests completed!\n",
      "Progress: Batch of 256 tests completed!\n",
      "Progress: Batch of 256 tests completed!\n",
      "Progress: Batch of 256 tests completed!\n",
      "Progress: Batch of 256 tests completed!\n",
      "Progress: Batch of 211 tests completed!\n",
      "----------------------------------------------------------------------------------------------------\n",
      "Sample 102\n",
      "\n",
      "----------------------------------------------------------------------------------------------------\n",
      "Sample 2229\n",
      "\n",
      "----------------------------------------------------------------------------------------------------\n",
      "Sample 516\n",
      "sentence 1\n",
      "REF: * **** you would object\n",
      "HYP: i mean you would object\n",
      "     I    I                 \n",
      "\n",
      "----------------------------------------------------------------------------------------------------\n",
      "Results saved to /fs01/home/omidv/ASR-Error-Correction/results/test_lrs2.json\n"
     ]
    },
    {
     "name": "stderr",
     "output_type": "stream",
     "text": [
      "Some weights of RobertaModel were not initialized from the model checkpoint at roberta-large and are newly initialized: ['roberta.pooler.dense.bias', 'roberta.pooler.dense.weight']\n",
      "You should probably TRAIN this model on a down-stream task to be able to use it for predictions and inference.\n"
     ]
    },
    {
     "name": "stdout",
     "output_type": "stream",
     "text": [
      "{'WER': 0.124, 'METEOR': 0.901, 'BERT Precision': 0.881, 'BERT Recall': 0.86, 'BERT F1': 0.871}\n"
     ]
    }
   ],
   "source": [
    "results_table = await evaluate_model_parallel(lrs_dataset, model, client, zero_shot_instruct7_closest, lrs_generation_config, lrs_results_path)\n",
    "print(results_table)"
   ]
  },
  {
   "cell_type": "code",
   "execution_count": 40,
   "id": "underlying-start",
   "metadata": {
    "scrolled": true
   },
   "outputs": [
    {
     "name": "stdout",
     "output_type": "stream",
     "text": [
      "Progress: Batch of 256 tests completed!\n",
      "Progress: Batch of 256 tests completed!\n",
      "Progress: Batch of 256 tests completed!\n",
      "Progress: Batch of 256 tests completed!\n",
      "Progress: Batch of 256 tests completed!\n",
      "Progress: Batch of 256 tests completed!\n",
      "Progress: Batch of 256 tests completed!\n",
      "Progress: Batch of 256 tests completed!\n",
      "Progress: Batch of 211 tests completed!\n",
      "----------------------------------------------------------------------------------------------------\n",
      "Sample 158\n",
      "sentence 1\n",
      "REF: *** ****** ******* *** ** ******* so we are going to start on that next week\n",
      "HYP: you bought another one at auction so we can ***** ** start on that next week\n",
      "       I      I       I   I  I       I         S     D  D                        \n",
      "\n",
      "----------------------------------------------------------------------------------------------------\n",
      "Sample 1483\n",
      "\n",
      "----------------------------------------------------------------------------------------------------\n",
      "Sample 489\n",
      "sentence 1\n",
      "REF: i think that is the start of a lot of clearing out *****\n",
      "HYP: i think that is the start of a lot of clearing out today\n",
      "                                                            I\n",
      "\n",
      "----------------------------------------------------------------------------------------------------\n",
      "Results saved to /fs01/home/omidv/ASR-Error-Correction/results/test_lrs2.json\n"
     ]
    },
    {
     "name": "stderr",
     "output_type": "stream",
     "text": [
      "Some weights of RobertaModel were not initialized from the model checkpoint at roberta-large and are newly initialized: ['roberta.pooler.dense.bias', 'roberta.pooler.dense.weight']\n",
      "You should probably TRAIN this model on a down-stream task to be able to use it for predictions and inference.\n"
     ]
    },
    {
     "name": "stdout",
     "output_type": "stream",
     "text": [
      "{'WER': 0.131, 'METEOR': 0.896, 'BERT Precision': 0.877, 'BERT Recall': 0.854, 'BERT F1': 0.865}\n"
     ]
    }
   ],
   "source": [
    "results_table = await evaluate_model_parallel(lrs_dataset, model, client, zero_shot_instruct8, lrs_generation_config, lrs_results_path)\n",
    "print(results_table)"
   ]
  },
  {
   "cell_type": "code",
   "execution_count": 41,
   "id": "aware-inside",
   "metadata": {
    "scrolled": true
   },
   "outputs": [
    {
     "name": "stdout",
     "output_type": "stream",
     "text": [
      "Progress: Batch of 256 tests completed!\n",
      "Progress: Batch of 256 tests completed!\n",
      "Progress: Batch of 256 tests completed!\n",
      "Progress: Batch of 256 tests completed!\n",
      "Progress: Batch of 256 tests completed!\n",
      "Progress: Batch of 256 tests completed!\n",
      "Progress: Batch of 256 tests completed!\n",
      "Progress: Batch of 256 tests completed!\n",
      "Progress: Batch of 211 tests completed!\n",
      "----------------------------------------------------------------------------------------------------\n",
      "Sample 1375\n",
      "\n",
      "----------------------------------------------------------------------------------------------------\n",
      "Sample 264\n",
      "\n",
      "----------------------------------------------------------------------------------------------------\n",
      "Sample 818\n",
      "\n",
      "----------------------------------------------------------------------------------------------------\n",
      "Results saved to /fs01/home/omidv/ASR-Error-Correction/results/test_lrs2.json\n"
     ]
    },
    {
     "name": "stderr",
     "output_type": "stream",
     "text": [
      "Some weights of RobertaModel were not initialized from the model checkpoint at roberta-large and are newly initialized: ['roberta.pooler.dense.bias', 'roberta.pooler.dense.weight']\n",
      "You should probably TRAIN this model on a down-stream task to be able to use it for predictions and inference.\n"
     ]
    },
    {
     "name": "stdout",
     "output_type": "stream",
     "text": [
      "{'WER': 0.13, 'METEOR': 0.897, 'BERT Precision': 0.88, 'BERT Recall': 0.854, 'BERT F1': 0.867}\n"
     ]
    }
   ],
   "source": [
    "results_table = await evaluate_model_parallel(lrs_dataset, model, client, zero_shot_instruct8_closest, lrs_generation_config, lrs_results_path)\n",
    "print(results_table)"
   ]
  }
 ],
 "metadata": {
  "kernelspec": {
   "display_name": "kscope",
   "language": "python",
   "name": "kscope"
  },
  "language_info": {
   "codemirror_mode": {
    "name": "ipython",
    "version": 3
   },
   "file_extension": ".py",
   "mimetype": "text/x-python",
   "name": "python",
   "nbconvert_exporter": "python",
   "pygments_lexer": "ipython3",
   "version": "3.12.0"
  }
 },
 "nbformat": 4,
 "nbformat_minor": 5
}
