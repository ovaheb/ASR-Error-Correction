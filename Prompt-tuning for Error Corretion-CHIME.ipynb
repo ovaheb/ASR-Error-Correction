{
 "cells": [
  {
   "cell_type": "markdown",
   "id": "enhanced-sector",
   "metadata": {},
   "source": [
    "## Environment Setup"
   ]
  },
  {
   "cell_type": "code",
   "execution_count": 1,
   "id": "architectural-investing",
   "metadata": {
    "scrolled": true
   },
   "outputs": [
    {
     "name": "stderr",
     "output_type": "stream",
     "text": [
      "[nltk_data] Downloading package wordnet to /h/omidv/nltk_data...\n",
      "[nltk_data]   Package wordnet is already up-to-date!\n",
      "[nltk_data] Downloading package omw-1.4 to /h/omidv/nltk_data...\n",
      "[nltk_data]   Package omw-1.4 is already up-to-date!\n"
     ]
    },
    {
     "data": {
      "text/plain": [
       "True"
      ]
     },
     "execution_count": 1,
     "metadata": {},
     "output_type": "execute_result"
    }
   ],
   "source": [
    "from codes.evaluation import *\n",
    "from codes.configs import *\n",
    "load_dotenv() # Load the environment variables"
   ]
  },
  {
   "cell_type": "code",
   "execution_count": 2,
   "id": "nonprofit-spiritual",
   "metadata": {},
   "outputs": [],
   "source": [
    "df = pd.read_json(\"/fs01/home/omidv/ASR-Error-Correction/data/test_cv.json\")\n",
    "cv_results_path = \"/fs01/home/omidv/ASR-Error-Correction/results/test_cv.json\"\n",
    "cv_dataset = Dataset.from_pandas(df)\n",
    "df = pd.read_json(\"/fs01/home/omidv/ASR-Error-Correction/data/test_lrs2.json\")\n",
    "lrs_results_path = \"/fs01/home/omidv/ASR-Error-Correction/results/test_lrs2.json\"\n",
    "lrs_dataset = Dataset.from_pandas(df)\n",
    "df = pd.read_json(\"/fs01/home/omidv/ASR-Error-Correction/data/test_chime4.json\")\n",
    "chime_results_path = \"/fs01/home/omidv/ASR-Error-Correction/results/test_chime4.json\"\n",
    "chime_dataset = Dataset.from_pandas(df)"
   ]
  },
  {
   "cell_type": "markdown",
   "id": "limiting-utility",
   "metadata": {},
   "source": [
    "## GPT models"
   ]
  },
  {
   "cell_type": "code",
   "execution_count": 22,
   "id": "fourth-blond",
   "metadata": {},
   "outputs": [],
   "source": [
    "api_key = os.environ.get(\"OPENAI_API_KEY\")\n",
    "client = openai.AsyncOpenAI(api_key=api_key)"
   ]
  },
  {
   "cell_type": "code",
   "execution_count": 23,
   "id": "political-precipitation",
   "metadata": {},
   "outputs": [
    {
     "name": "stdout",
     "output_type": "stream",
     "text": [
      "Hello! I’m an AI language model created by OpenAI, designed to assist with a wide range of inquiries and tasks. I can provide information, answer questions, help with writing, and much more. My goal is to be helpful and informative, so feel free to ask me anything!\n"
     ]
    }
   ],
   "source": [
    "model = \"gpt-4o-mini\"\n",
    "await check_availability(client, model)"
   ]
  },
  {
   "cell_type": "code",
   "execution_count": 24,
   "id": "exclusive-overhead",
   "metadata": {
    "scrolled": true
   },
   "outputs": [
    {
     "name": "stdout",
     "output_type": "stream",
     "text": [
      "Progress: Batch of 256 tests completed!\n",
      "Progress: Batch of 256 tests completed!\n",
      "Progress: Batch of 256 tests completed!\n",
      "Progress: Batch of 256 tests completed!\n",
      "Progress: Batch of 256 tests completed!\n",
      "Progress: Batch of 40 tests completed!\n",
      "----------------------------------------------------------------------------------------------------\n",
      "Sample 416\n",
      "sentence 1\n",
      "REF: grand  auto slid           three to fifteen and       one eighth on the american stock exchange\n",
      "HYP: grand autos live threefifteenths ** ******* and oneeighth ****** on the american stock exchange\n",
      "               S    S               S  D       D             S      D                               \n",
      "\n",
      "----------------------------------------------------------------------------------------------------\n",
      "Sample 645\n",
      "sentence 1\n",
      "REF: some critics including high reagan administration officials are raising the alarm that the  fed is policy is too tight and could cause a recession next year\n",
      "HYP: some critics including high reagan administration officials are raising the alarm that the feds ** policy is too tight and could cause a recession next year\n",
      "                                                                                                   S  D                                                          \n",
      "\n",
      "----------------------------------------------------------------------------------------------------\n",
      "Sample 316\n",
      "sentence 1\n",
      "REF: increasingly people who test positive join the support groups that have sprung up across the country in the past year\n",
      "HYP: increasingly people who test positive join *** support groups that have sprung up across the country in the past year\n",
      "                                                  D                                                                       \n",
      "\n",
      "----------------------------------------------------------------------------------------------------\n",
      "Results saved to /fs01/home/omidv/ASR-Error-Correction/results/test_chime4.json\n"
     ]
    },
    {
     "name": "stderr",
     "output_type": "stream",
     "text": [
      "Some weights of RobertaModel were not initialized from the model checkpoint at roberta-large and are newly initialized: ['roberta.pooler.dense.bias', 'roberta.pooler.dense.weight']\n",
      "You should probably TRAIN this model on a down-stream task to be able to use it for predictions and inference.\n"
     ]
    },
    {
     "name": "stdout",
     "output_type": "stream",
     "text": [
      "{'WER': 0.141, 'METEOR': 0.912, 'BERT Precision': 0.836, 'BERT Recall': 0.852, 'BERT F1': 0.844}\n"
     ]
    }
   ],
   "source": [
    "results_table = await evaluate_model_parallel(chime_dataset, model, client, zero_shot_instruct1, chime_generation_config, chime_results_path)\n",
    "print(results_table)"
   ]
  },
  {
   "cell_type": "code",
   "execution_count": 26,
   "id": "signal-relief",
   "metadata": {
    "scrolled": true
   },
   "outputs": [
    {
     "name": "stdout",
     "output_type": "stream",
     "text": [
      "Progress: Batch of 256 tests completed!\n",
      "Progress: Batch of 256 tests completed!\n",
      "Progress: Batch of 256 tests completed!\n",
      "Progress: Batch of 256 tests completed!\n",
      "Progress: Batch of 256 tests completed!\n",
      "Progress: Batch of 40 tests completed!\n",
      "----------------------------------------------------------------------------------------------------\n",
      "Sample 911\n",
      "\n",
      "----------------------------------------------------------------------------------------------------\n",
      "Sample 123\n",
      "sentence 1\n",
      "REF: the new company ashland coal incorporated is listed on the new york stock exchange\n",
      "HYP: the new company ashland   co          inc is listed on the new york stock exchange\n",
      "                                S            S                                         \n",
      "\n",
      "----------------------------------------------------------------------------------------------------\n",
      "Sample 985\n",
      "\n",
      "----------------------------------------------------------------------------------------------------\n",
      "Results saved to /fs01/home/omidv/ASR-Error-Correction/results/test_chime4.json\n"
     ]
    },
    {
     "name": "stderr",
     "output_type": "stream",
     "text": [
      "Some weights of RobertaModel were not initialized from the model checkpoint at roberta-large and are newly initialized: ['roberta.pooler.dense.bias', 'roberta.pooler.dense.weight']\n",
      "You should probably TRAIN this model on a down-stream task to be able to use it for predictions and inference.\n"
     ]
    },
    {
     "name": "stdout",
     "output_type": "stream",
     "text": [
      "{'WER': 0.108, 'METEOR': 0.923, 'BERT Precision': 0.884, 'BERT Recall': 0.88, 'BERT F1': 0.882}\n"
     ]
    }
   ],
   "source": [
    "results_table = await evaluate_model_parallel(chime_dataset, model, client, zero_shot_instruct1_closest, chime_generation_config, chime_results_path)\n",
    "print(results_table)"
   ]
  },
  {
   "cell_type": "code",
   "execution_count": 25,
   "id": "pending-burst",
   "metadata": {
    "scrolled": true
   },
   "outputs": [
    {
     "name": "stdout",
     "output_type": "stream",
     "text": [
      "Progress: Batch of 256 tests completed!\n",
      "Progress: Batch of 256 tests completed!\n",
      "Progress: Batch of 256 tests completed!\n",
      "Progress: Batch of 256 tests completed!\n",
      "Progress: Batch of 256 tests completed!\n",
      "Progress: Batch of 40 tests completed!\n",
      "----------------------------------------------------------------------------------------------------\n",
      "Sample 104\n",
      "sentence 1\n",
      "REF:    m i c c investments has three series of publicly traded preferred shares and ten series of privately held preferred stock\n",
      "HYP: micc * * * investments has three series of publicly traded preferred shares and ten series of privately held preferred stock\n",
      "        S D D D                                                                                                                  \n",
      "\n",
      "----------------------------------------------------------------------------------------------------\n",
      "Sample 1082\n",
      "sentence 1\n",
      "REF: the      toronto based company provides mortgage guarantees to the canadian real estate industry\n",
      "HYP: the torontobased ***** company provides mortgage guarantees to the canadian real estate industry\n",
      "                    S     D                                                                          \n",
      "\n",
      "----------------------------------------------------------------------------------------------------\n",
      "Sample 634\n",
      "sentence 1\n",
      "REF: in the efforts to restore market confidence administration officials have emphasized that the  economy is fundamentals remain sound\n",
      "HYP: in the efforts to restore market confidence administration officials have emphasized that the economys ** fundamentals remain sound\n",
      "                                                                                                          S  D                          \n",
      "\n",
      "----------------------------------------------------------------------------------------------------\n",
      "Results saved to /fs01/home/omidv/ASR-Error-Correction/results/test_chime4.json\n"
     ]
    },
    {
     "name": "stderr",
     "output_type": "stream",
     "text": [
      "Some weights of RobertaModel were not initialized from the model checkpoint at roberta-large and are newly initialized: ['roberta.pooler.dense.bias', 'roberta.pooler.dense.weight']\n",
      "You should probably TRAIN this model on a down-stream task to be able to use it for predictions and inference.\n"
     ]
    },
    {
     "name": "stdout",
     "output_type": "stream",
     "text": [
      "{'WER': 0.144, 'METEOR': 0.908, 'BERT Precision': 0.842, 'BERT Recall': 0.849, 'BERT F1': 0.845}\n"
     ]
    }
   ],
   "source": [
    "results_table = await evaluate_model_parallel(chime_dataset, model, client, zero_shot_instruct2, chime_generation_config, chime_results_path)\n",
    "print(results_table)"
   ]
  },
  {
   "cell_type": "code",
   "execution_count": 27,
   "id": "established-incidence",
   "metadata": {
    "scrolled": true
   },
   "outputs": [
    {
     "name": "stdout",
     "output_type": "stream",
     "text": [
      "Progress: Batch of 256 tests completed!\n",
      "Progress: Batch of 256 tests completed!\n",
      "Progress: Batch of 256 tests completed!\n",
      "Progress: Batch of 256 tests completed!\n",
      "Progress: Batch of 256 tests completed!\n",
      "Progress: Batch of 40 tests completed!\n",
      "----------------------------------------------------------------------------------------------------\n",
      "Sample 905\n",
      "\n",
      "----------------------------------------------------------------------------------------------------\n",
      "Sample 776\n",
      "sentence 1\n",
      "REF: the company which runs retail automotive stores told shearson lehman brothers its financial adviser to terminate discussions to sell the firm\n",
      "HYP: the company which runs retail automotive stores told shearson lehman brothers its financial advisor to terminate discussions to sell the firm\n",
      "                                                                                                       S                                          \n",
      "\n",
      "----------------------------------------------------------------------------------------------------\n",
      "Sample 61\n",
      "sentence 1\n",
      "REF: the company which runs retail automotive stores told shearson lehman brothers its financial adviser to terminate discussions to sell the firm\n",
      "HYP: the company which runs retail automotive stores told shearson lehman brothers its financial advisor to terminate discussions to sell the firm\n",
      "                                                                                                       S                                          \n",
      "\n",
      "----------------------------------------------------------------------------------------------------\n",
      "Results saved to /fs01/home/omidv/ASR-Error-Correction/results/test_chime4.json\n"
     ]
    },
    {
     "name": "stderr",
     "output_type": "stream",
     "text": [
      "Some weights of RobertaModel were not initialized from the model checkpoint at roberta-large and are newly initialized: ['roberta.pooler.dense.bias', 'roberta.pooler.dense.weight']\n",
      "You should probably TRAIN this model on a down-stream task to be able to use it for predictions and inference.\n"
     ]
    },
    {
     "name": "stdout",
     "output_type": "stream",
     "text": [
      "{'WER': 0.107, 'METEOR': 0.924, 'BERT Precision': 0.885, 'BERT Recall': 0.881, 'BERT F1': 0.883}\n"
     ]
    }
   ],
   "source": [
    "results_table = await evaluate_model_parallel(chime_dataset, model, client, zero_shot_instruct2_closest, chime_generation_config, chime_results_path)\n",
    "print(results_table)"
   ]
  },
  {
   "cell_type": "code",
   "execution_count": 28,
   "id": "casual-inspection",
   "metadata": {
    "scrolled": true
   },
   "outputs": [
    {
     "name": "stdout",
     "output_type": "stream",
     "text": [
      "Progress: Batch of 256 tests completed!\n",
      "Progress: Batch of 256 tests completed!\n",
      "Progress: Batch of 256 tests completed!\n",
      "Progress: Batch of 256 tests completed!\n",
      "Progress: Batch of 256 tests completed!\n",
      "Progress: Batch of 40 tests completed!\n",
      "----------------------------------------------------------------------------------------------------\n",
      "Sample 1150\n",
      "\n",
      "----------------------------------------------------------------------------------------------------\n",
      "Sample 1172\n",
      "sentence 1\n",
      "REF: the issue was priced after auction to yield from three point five percent in *** ******** **** nineteen eighty       seven to five point five percent in nineteen   ninety seven\n",
      "HYP: the issue was priced after auction to yield from three point five percent in one thousand nine  hundred    and eightyseven to five point five percent in      one thousand *****\n",
      "                                                                                    I        I    I        S      S           S                                      S        S     D\n",
      "\n",
      "----------------------------------------------------------------------------------------------------\n",
      "Sample 1251\n",
      "\n",
      "----------------------------------------------------------------------------------------------------\n",
      "Results saved to /fs01/home/omidv/ASR-Error-Correction/results/test_chime4.json\n"
     ]
    },
    {
     "name": "stderr",
     "output_type": "stream",
     "text": [
      "Some weights of RobertaModel were not initialized from the model checkpoint at roberta-large and are newly initialized: ['roberta.pooler.dense.bias', 'roberta.pooler.dense.weight']\n",
      "You should probably TRAIN this model on a down-stream task to be able to use it for predictions and inference.\n"
     ]
    },
    {
     "name": "stdout",
     "output_type": "stream",
     "text": [
      "{'WER': 0.14, 'METEOR': 0.909, 'BERT Precision': 0.847, 'BERT Recall': 0.851, 'BERT F1': 0.849}\n"
     ]
    }
   ],
   "source": [
    "results_table = await evaluate_model_parallel(chime_dataset, model, client, zero_shot_instruct3, chime_generation_config, chime_results_path)\n",
    "print(results_table)"
   ]
  },
  {
   "cell_type": "code",
   "execution_count": 29,
   "id": "convenient-cleaners",
   "metadata": {
    "scrolled": true
   },
   "outputs": [
    {
     "name": "stdout",
     "output_type": "stream",
     "text": [
      "Progress: Batch of 256 tests completed!\n",
      "Progress: Batch of 256 tests completed!\n",
      "Progress: Batch of 256 tests completed!\n",
      "Progress: Batch of 256 tests completed!\n",
      "Progress: Batch of 256 tests completed!\n",
      "Progress: Batch of 40 tests completed!\n",
      "----------------------------------------------------------------------------------------------------\n",
      "Sample 1210\n",
      "sentence 1\n",
      "REF: a spokesman said the company has about sixty million shares ** *** outstanding\n",
      "HYP: a spokesman said the company has about sixty million shares at san       diego\n",
      "                                                                  I   I           S\n",
      "\n",
      "----------------------------------------------------------------------------------------------------\n",
      "Sample 654\n",
      "sentence 1\n",
      "REF:  no one is making very much money on it acknowledges brian j kelly chairman of bell  atlantic is investment development unit\n",
      "HYP: now  it is making very much money on it acknowledges brian j kelly chairman of bell atlantics ** investment development unit\n",
      "       S   S                                                                                     S  D                            \n",
      "\n",
      "----------------------------------------------------------------------------------------------------\n",
      "Sample 878\n",
      "\n",
      "----------------------------------------------------------------------------------------------------\n",
      "Results saved to /fs01/home/omidv/ASR-Error-Correction/results/test_chime4.json\n"
     ]
    },
    {
     "name": "stderr",
     "output_type": "stream",
     "text": [
      "Some weights of RobertaModel were not initialized from the model checkpoint at roberta-large and are newly initialized: ['roberta.pooler.dense.bias', 'roberta.pooler.dense.weight']\n",
      "You should probably TRAIN this model on a down-stream task to be able to use it for predictions and inference.\n"
     ]
    },
    {
     "name": "stdout",
     "output_type": "stream",
     "text": [
      "{'WER': 0.107, 'METEOR': 0.924, 'BERT Precision': 0.885, 'BERT Recall': 0.88, 'BERT F1': 0.882}\n"
     ]
    }
   ],
   "source": [
    "results_table = await evaluate_model_parallel(chime_dataset, model, client, zero_shot_instruct3_closest, chime_generation_config, chime_results_path)\n",
    "print(results_table)"
   ]
  },
  {
   "cell_type": "code",
   "execution_count": 30,
   "id": "broadband-disney",
   "metadata": {
    "scrolled": true
   },
   "outputs": [
    {
     "name": "stdout",
     "output_type": "stream",
     "text": [
      "Progress: Batch of 256 tests completed!\n",
      "Progress: Batch of 256 tests completed!\n",
      "Progress: Batch of 256 tests completed!\n",
      "Progress: Batch of 256 tests completed!\n",
      "Progress: Batch of 256 tests completed!\n",
      "Progress: Batch of 40 tests completed!\n",
      "----------------------------------------------------------------------------------------------------\n",
      "Sample 1262\n",
      "sentence 1\n",
      "REF: he said the  company is goal is to have fifteen percent to twenty percent revenue growth to about three point two billion dollars for the year\n",
      "HYP: he said the companys ** goal is to have fifteen percent to twenty percent revenue growth to about three point two billion dollars per *** year\n",
      "                        S  D                                                                                                             S   D     \n",
      "\n",
      "----------------------------------------------------------------------------------------------------\n",
      "Sample 1173\n",
      "sentence 1\n",
      "REF: the unsold balance late yesterday was about    thirty six point three million dollars according to shearson lehman brothers the lead underwriter\n",
      "HYP: the unsold balance like yesterday was about thirtysix *** point three million dollars according to   shares ****** ******** *** **** ***********\n",
      "                           S                             S   D                                                 S      D        D   D    D           D\n",
      "\n",
      "----------------------------------------------------------------------------------------------------\n",
      "Sample 1016\n",
      "sentence 1\n",
      "REF: the rise in auto imports also reflects higher prices for imported cars\n",
      "HYP: the rise in auto imports must  reflect higher prices for imported cars\n",
      "                                 S        S                                \n",
      "\n",
      "----------------------------------------------------------------------------------------------------\n",
      "Results saved to /fs01/home/omidv/ASR-Error-Correction/results/test_chime4.json\n"
     ]
    },
    {
     "name": "stderr",
     "output_type": "stream",
     "text": [
      "Some weights of RobertaModel were not initialized from the model checkpoint at roberta-large and are newly initialized: ['roberta.pooler.dense.bias', 'roberta.pooler.dense.weight']\n",
      "You should probably TRAIN this model on a down-stream task to be able to use it for predictions and inference.\n"
     ]
    },
    {
     "name": "stdout",
     "output_type": "stream",
     "text": [
      "{'WER': 0.139, 'METEOR': 0.911, 'BERT Precision': 0.848, 'BERT Recall': 0.853, 'BERT F1': 0.851}\n"
     ]
    }
   ],
   "source": [
    "results_table = await evaluate_model_parallel(chime_dataset, model, client, zero_shot_instruct4, chime_generation_config, chime_results_path)\n",
    "print(results_table)"
   ]
  },
  {
   "cell_type": "code",
   "execution_count": 31,
   "id": "dominican-advocate",
   "metadata": {
    "scrolled": true
   },
   "outputs": [
    {
     "name": "stdout",
     "output_type": "stream",
     "text": [
      "Progress: Batch of 256 tests completed!\n",
      "Progress: Batch of 256 tests completed!\n",
      "Progress: Batch of 256 tests completed!\n",
      "Progress: Batch of 256 tests completed!\n",
      "Progress: Batch of 256 tests completed!\n",
      "Progress: Batch of 40 tests completed!\n",
      "----------------------------------------------------------------------------------------------------\n",
      "Sample 339\n",
      "sentence 1\n",
      "REF:     a p b g c spokeswoman declined ** comment\n",
      "HYP: apbgc * * * * spokeswoman declined to comment\n",
      "         S D D D D                       I        \n",
      "\n",
      "----------------------------------------------------------------------------------------------------\n",
      "Sample 301\n",
      "\n",
      "----------------------------------------------------------------------------------------------------\n",
      "Sample 295\n",
      "\n",
      "----------------------------------------------------------------------------------------------------\n",
      "Results saved to /fs01/home/omidv/ASR-Error-Correction/results/test_chime4.json\n"
     ]
    },
    {
     "name": "stderr",
     "output_type": "stream",
     "text": [
      "Some weights of RobertaModel were not initialized from the model checkpoint at roberta-large and are newly initialized: ['roberta.pooler.dense.bias', 'roberta.pooler.dense.weight']\n",
      "You should probably TRAIN this model on a down-stream task to be able to use it for predictions and inference.\n"
     ]
    },
    {
     "name": "stdout",
     "output_type": "stream",
     "text": [
      "{'WER': 0.106, 'METEOR': 0.924, 'BERT Precision': 0.886, 'BERT Recall': 0.882, 'BERT F1': 0.884}\n"
     ]
    }
   ],
   "source": [
    "results_table = await evaluate_model_parallel(chime_dataset, model, client, zero_shot_instruct4_closest, chime_generation_config, chime_results_path)\n",
    "print(results_table)"
   ]
  },
  {
   "cell_type": "code",
   "execution_count": 32,
   "id": "developed-indie",
   "metadata": {
    "scrolled": true
   },
   "outputs": [
    {
     "name": "stdout",
     "output_type": "stream",
     "text": [
      "Progress: Batch of 256 tests completed!\n",
      "Progress: Batch of 256 tests completed!\n",
      "Progress: Batch of 256 tests completed!\n",
      "Progress: Batch of 256 tests completed!\n",
      "Progress: Batch of 256 tests completed!\n",
      "Progress: Batch of 40 tests completed!\n",
      "----------------------------------------------------------------------------------------------------\n",
      "Sample 368\n",
      "sentence 1\n",
      "REF: he also said that the company for the first time was developing drugs specifically for the           over the counter consumer     health care market\n",
      "HYP: he also said that the company for the first time  is developing drugs specifically for the overthecounter *** ******* consumer healthcare **** market\n",
      "                                                        S                                                    S   D       D                   S    D       \n",
      "\n",
      "----------------------------------------------------------------------------------------------------\n",
      "Sample 1177\n",
      "sentence 1\n",
      "REF: citicorp had    twenty one point five billion dollars in capital at the end of last year\n",
      "HYP: citicorp had twentyone *** point five billion dollars in capital at the end of last year\n",
      "                          S   D                                                              \n",
      "\n",
      "----------------------------------------------------------------------------------------------------\n",
      "Sample 1107\n",
      "\n",
      "----------------------------------------------------------------------------------------------------\n",
      "Results saved to /fs01/home/omidv/ASR-Error-Correction/results/test_chime4.json\n"
     ]
    },
    {
     "name": "stderr",
     "output_type": "stream",
     "text": [
      "Some weights of RobertaModel were not initialized from the model checkpoint at roberta-large and are newly initialized: ['roberta.pooler.dense.bias', 'roberta.pooler.dense.weight']\n",
      "You should probably TRAIN this model on a down-stream task to be able to use it for predictions and inference.\n"
     ]
    },
    {
     "name": "stdout",
     "output_type": "stream",
     "text": [
      "{'WER': 0.202, 'METEOR': 0.869, 'BERT Precision': 0.794, 'BERT Recall': 0.804, 'BERT F1': 0.799}\n"
     ]
    }
   ],
   "source": [
    "results_table = await evaluate_model_parallel(chime_dataset, model, client, zero_shot_instruct5, chime_generation_config, chime_results_path)\n",
    "print(results_table)"
   ]
  },
  {
   "cell_type": "code",
   "execution_count": 33,
   "id": "fluid-northern",
   "metadata": {
    "scrolled": true
   },
   "outputs": [
    {
     "name": "stdout",
     "output_type": "stream",
     "text": [
      "Progress: Batch of 256 tests completed!\n",
      "Progress: Batch of 256 tests completed!\n",
      "Progress: Batch of 256 tests completed!\n",
      "Progress: Batch of 256 tests completed!\n",
      "Progress: Batch of 256 tests completed!\n",
      "Progress: Batch of 40 tests completed!\n",
      "----------------------------------------------------------------------------------------------------\n",
      "Sample 573\n",
      "sentence 1\n",
      "REF: we are not prepared to be advocates for the   k g b\n",
      "HYP: we are not prepared to be advocates for the kgb * *\n",
      "                                                   S D D\n",
      "\n",
      "----------------------------------------------------------------------------------------------------\n",
      "Sample 556\n",
      "\n",
      "----------------------------------------------------------------------------------------------------\n",
      "Sample 873\n",
      "sentence 1\n",
      "REF: state officials however say the airlines have indicated **** they will comply with most of the standards as long as competitors do\n",
      "HYP: state officials however say the airlines have indicated that they will comply with most of the standards as long as competitors do\n",
      "                                                                I                                                                      \n",
      "\n",
      "----------------------------------------------------------------------------------------------------\n",
      "Results saved to /fs01/home/omidv/ASR-Error-Correction/results/test_chime4.json\n"
     ]
    },
    {
     "name": "stderr",
     "output_type": "stream",
     "text": [
      "Some weights of RobertaModel were not initialized from the model checkpoint at roberta-large and are newly initialized: ['roberta.pooler.dense.bias', 'roberta.pooler.dense.weight']\n",
      "You should probably TRAIN this model on a down-stream task to be able to use it for predictions and inference.\n"
     ]
    },
    {
     "name": "stdout",
     "output_type": "stream",
     "text": [
      "{'WER': 0.108, 'METEOR': 0.923, 'BERT Precision': 0.884, 'BERT Recall': 0.88, 'BERT F1': 0.882}\n"
     ]
    }
   ],
   "source": [
    "results_table = await evaluate_model_parallel(chime_dataset, model, client, zero_shot_instruct5_closest, chime_generation_config, chime_results_path)\n",
    "print(results_table)"
   ]
  },
  {
   "cell_type": "code",
   "execution_count": 34,
   "id": "acoustic-greensboro",
   "metadata": {
    "scrolled": true
   },
   "outputs": [
    {
     "name": "stdout",
     "output_type": "stream",
     "text": [
      "Progress: Batch of 256 tests completed!\n",
      "Progress: Batch of 256 tests completed!\n",
      "Progress: Batch of 256 tests completed!\n",
      "Progress: Batch of 256 tests completed!\n",
      "Progress: Batch of 256 tests completed!\n",
      "Progress: Batch of 40 tests completed!\n",
      "----------------------------------------------------------------------------------------------------\n",
      "Sample 789\n",
      "\n",
      "----------------------------------------------------------------------------------------------------\n",
      "Sample 487\n",
      "sentence 1\n",
      "REF: as one of the most       acquisition hungry of major banks citicorp is often required by regulators to raise additional capital as a condition of making acquisitions\n",
      "HYP: as one of the most acquisitionhungry ****** ** major banks citicorp is often required by regulators to raise additional capital as a condition of making acquisitions\n",
      "                                        S      D  D                                                                                                                       \n",
      "\n",
      "----------------------------------------------------------------------------------------------------\n",
      "Sample 956\n",
      "sentence 1\n",
      "REF: i do not mean there could not be some improvements in the revenue act of nineteen    eighty six which took effect this month\n",
      "HYP: i do not mean there could not be some improvements in the revenue act of nineteen eightysix *** which took effect this month\n",
      "                                                                                               S   D                             \n",
      "\n",
      "----------------------------------------------------------------------------------------------------\n",
      "Results saved to /fs01/home/omidv/ASR-Error-Correction/results/test_chime4.json\n"
     ]
    },
    {
     "name": "stderr",
     "output_type": "stream",
     "text": [
      "Some weights of RobertaModel were not initialized from the model checkpoint at roberta-large and are newly initialized: ['roberta.pooler.dense.bias', 'roberta.pooler.dense.weight']\n",
      "You should probably TRAIN this model on a down-stream task to be able to use it for predictions and inference.\n"
     ]
    },
    {
     "name": "stdout",
     "output_type": "stream",
     "text": [
      "{'WER': 0.146, 'METEOR': 0.908, 'BERT Precision': 0.838, 'BERT Recall': 0.852, 'BERT F1': 0.845}\n"
     ]
    }
   ],
   "source": [
    "results_table = await evaluate_model_parallel(chime_dataset, model, client, zero_shot_instruct6, chime_generation_config, chime_results_path)\n",
    "print(results_table)"
   ]
  },
  {
   "cell_type": "code",
   "execution_count": 35,
   "id": "acting-homeless",
   "metadata": {
    "scrolled": true
   },
   "outputs": [
    {
     "name": "stdout",
     "output_type": "stream",
     "text": [
      "Progress: Batch of 256 tests completed!\n",
      "Progress: Batch of 256 tests completed!\n",
      "Progress: Batch of 256 tests completed!\n",
      "Progress: Batch of 256 tests completed!\n",
      "Progress: Batch of 256 tests completed!\n",
      "Progress: Batch of 40 tests completed!\n",
      "----------------------------------------------------------------------------------------------------\n",
      "Sample 913\n",
      "\n",
      "----------------------------------------------------------------------------------------------------\n",
      "Sample 669\n",
      "sentence 1\n",
      "REF:  a   p b g c spokeswoman declined comment\n",
      "HYP: ap bgc * * * spokeswoman declined comment\n",
      "      S   S D D D                             \n",
      "\n",
      "----------------------------------------------------------------------------------------------------\n",
      "Sample 1227\n",
      "sentence 1\n",
      "REF: the order issued late wednesday by judge diana murphy stems from a suit filed in federal court last month by the union representing the machinists\n",
      "HYP: the order issued late wednesday by judge diana murphy stems from a suit filed in federal court last month by the union representing the mcchinists\n",
      "                                                                                                                                                      S\n",
      "\n",
      "----------------------------------------------------------------------------------------------------\n",
      "Results saved to /fs01/home/omidv/ASR-Error-Correction/results/test_chime4.json\n"
     ]
    },
    {
     "name": "stderr",
     "output_type": "stream",
     "text": [
      "Some weights of RobertaModel were not initialized from the model checkpoint at roberta-large and are newly initialized: ['roberta.pooler.dense.bias', 'roberta.pooler.dense.weight']\n",
      "You should probably TRAIN this model on a down-stream task to be able to use it for predictions and inference.\n"
     ]
    },
    {
     "name": "stdout",
     "output_type": "stream",
     "text": [
      "{'WER': 0.109, 'METEOR': 0.922, 'BERT Precision': 0.882, 'BERT Recall': 0.879, 'BERT F1': 0.881}\n"
     ]
    }
   ],
   "source": [
    "results_table = await evaluate_model_parallel(chime_dataset, model, client, zero_shot_instruct6_closest, chime_generation_config, chime_results_path)\n",
    "print(results_table)"
   ]
  },
  {
   "cell_type": "code",
   "execution_count": 36,
   "id": "french-acceptance",
   "metadata": {
    "scrolled": true
   },
   "outputs": [
    {
     "name": "stdout",
     "output_type": "stream",
     "text": [
      "Progress: Batch of 256 tests completed!\n",
      "Progress: Batch of 256 tests completed!\n",
      "Progress: Batch of 256 tests completed!\n",
      "Progress: Batch of 256 tests completed!\n",
      "Progress: Batch of 256 tests completed!\n",
      "Progress: Batch of 40 tests completed!\n",
      "----------------------------------------------------------------------------------------------------\n",
      "Sample 225\n",
      "sentence 1\n",
      "REF: to make them directly comparable each index is based on the close of nineteen    sixty nine ******* *** *********  equaling one hundred\n",
      "HYP: to make them directly comparable each index is based on the close of      one thousand nine hundred and sixtynine equalling one hundred\n",
      "                                                                                 S        S            I   I         I         S            \n",
      "\n",
      "----------------------------------------------------------------------------------------------------\n",
      "Sample 1024\n",
      "sentence 1\n",
      "REF: many analysts cite an expected increase in aircraft orders as a big reason  for the anticipated june increase\n",
      "HYP: many analysts cite an expected increase in aircraft orders as a big reason they *** anticipated your increase\n",
      "                                                                                   S   D                S         \n",
      "\n",
      "----------------------------------------------------------------------------------------------------\n",
      "Sample 524\n",
      "\n",
      "----------------------------------------------------------------------------------------------------\n",
      "Results saved to /fs01/home/omidv/ASR-Error-Correction/results/test_chime4.json\n"
     ]
    },
    {
     "name": "stderr",
     "output_type": "stream",
     "text": [
      "Some weights of RobertaModel were not initialized from the model checkpoint at roberta-large and are newly initialized: ['roberta.pooler.dense.bias', 'roberta.pooler.dense.weight']\n",
      "You should probably TRAIN this model on a down-stream task to be able to use it for predictions and inference.\n"
     ]
    },
    {
     "name": "stdout",
     "output_type": "stream",
     "text": [
      "{'WER': 0.136, 'METEOR': 0.913, 'BERT Precision': 0.851, 'BERT Recall': 0.853, 'BERT F1': 0.852}\n"
     ]
    }
   ],
   "source": [
    "results_table = await evaluate_model_parallel(chime_dataset, model, client, zero_shot_instruct7, chime_generation_config, chime_results_path)\n",
    "print(results_table)"
   ]
  },
  {
   "cell_type": "code",
   "execution_count": 37,
   "id": "powerful-anger",
   "metadata": {
    "scrolled": true
   },
   "outputs": [
    {
     "name": "stdout",
     "output_type": "stream",
     "text": [
      "Progress: Batch of 256 tests completed!\n",
      "Progress: Batch of 256 tests completed!\n",
      "Progress: Batch of 256 tests completed!\n",
      "Progress: Batch of 256 tests completed!\n",
      "Progress: Batch of 256 tests completed!\n",
      "Progress: Batch of 40 tests completed!\n",
      "----------------------------------------------------------------------------------------------------\n",
      "Sample 478\n",
      "sentence 1\n",
      "REF: the companies are followed by at least three analysts and  had a minimum five cent change in actual earnings per share\n",
      "HYP: *** companies are followed by at least three analysts and have a minimum five cent change in actual earnings per share\n",
      "       D                                                          S                                                        \n",
      "\n",
      "----------------------------------------------------------------------------------------------------\n",
      "Sample 940\n",
      "\n",
      "----------------------------------------------------------------------------------------------------\n",
      "Sample 634\n",
      "\n",
      "----------------------------------------------------------------------------------------------------\n",
      "Results saved to /fs01/home/omidv/ASR-Error-Correction/results/test_chime4.json\n"
     ]
    },
    {
     "name": "stderr",
     "output_type": "stream",
     "text": [
      "Some weights of RobertaModel were not initialized from the model checkpoint at roberta-large and are newly initialized: ['roberta.pooler.dense.bias', 'roberta.pooler.dense.weight']\n",
      "You should probably TRAIN this model on a down-stream task to be able to use it for predictions and inference.\n"
     ]
    },
    {
     "name": "stdout",
     "output_type": "stream",
     "text": [
      "{'WER': 0.107, 'METEOR': 0.924, 'BERT Precision': 0.885, 'BERT Recall': 0.88, 'BERT F1': 0.882}\n"
     ]
    }
   ],
   "source": [
    "results_table = await evaluate_model_parallel(chime_dataset, model, client, zero_shot_instruct7_closest, chime_generation_config, chime_results_path)\n",
    "print(results_table)"
   ]
  },
  {
   "cell_type": "code",
   "execution_count": 38,
   "id": "swiss-interval",
   "metadata": {
    "scrolled": true
   },
   "outputs": [
    {
     "name": "stdout",
     "output_type": "stream",
     "text": [
      "Progress: Batch of 256 tests completed!\n",
      "Progress: Batch of 256 tests completed!\n",
      "Progress: Batch of 256 tests completed!\n",
      "Progress: Batch of 256 tests completed!\n",
      "Progress: Batch of 256 tests completed!\n",
      "Progress: Batch of 40 tests completed!\n",
      "----------------------------------------------------------------------------------------------------\n",
      "Sample 757\n",
      "sentence 1\n",
      "REF: the company said its european banking affiliate   safra republic plans to raise more than four hundred *** fifty million dollars through an international offering\n",
      "HYP: the company said its european banking affiliate saffron republic plans to raise more than four hundred and fifty million ******* through an international offering\n",
      "                                                           S                                                  I                     D                                  \n",
      "\n",
      "----------------------------------------------------------------------------------------------------\n",
      "Sample 609\n",
      "sentence 1\n",
      "REF: many analysts cite an expected increase in aircraft orders as a big reason  for        the anticipated june increase\n",
      "HYP: many analysts cite an expected increase in aircraft orders as a big reason they anticipate           a june increase\n",
      "                                                                                   S          S           S              \n",
      "\n",
      "----------------------------------------------------------------------------------------------------\n",
      "Sample 238\n",
      "sentence 1\n",
      "REF: the issue was priced after auction to yield from three point five percent in *** ******** **** nineteen eighty       seven to five point five percent in nineteen   ninety seven\n",
      "HYP: the issue was priced after auction to yield **** three point five percent in one thousand nine  hundred    and eightyseven to five point five percent in      one thousand *****\n",
      "                                                    D                               I        I    I        S      S           S                                      S        S     D\n",
      "\n",
      "----------------------------------------------------------------------------------------------------\n",
      "Results saved to /fs01/home/omidv/ASR-Error-Correction/results/test_chime4.json\n"
     ]
    },
    {
     "name": "stderr",
     "output_type": "stream",
     "text": [
      "Some weights of RobertaModel were not initialized from the model checkpoint at roberta-large and are newly initialized: ['roberta.pooler.dense.bias', 'roberta.pooler.dense.weight']\n",
      "You should probably TRAIN this model on a down-stream task to be able to use it for predictions and inference.\n"
     ]
    },
    {
     "name": "stdout",
     "output_type": "stream",
     "text": [
      "{'WER': 0.129, 'METEOR': 0.909, 'BERT Precision': 0.858, 'BERT Recall': 0.855, 'BERT F1': 0.856}\n"
     ]
    }
   ],
   "source": [
    "results_table = await evaluate_model_parallel(chime_dataset, model, client, zero_shot_instruct8, chime_generation_config, chime_results_path)\n",
    "print(results_table)"
   ]
  },
  {
   "cell_type": "code",
   "execution_count": 39,
   "id": "lesbian-courage",
   "metadata": {
    "scrolled": true
   },
   "outputs": [
    {
     "name": "stdout",
     "output_type": "stream",
     "text": [
      "Progress: Batch of 256 tests completed!\n",
      "Progress: Batch of 256 tests completed!\n",
      "Progress: Batch of 256 tests completed!\n",
      "Progress: Batch of 256 tests completed!\n",
      "Progress: Batch of 256 tests completed!\n",
      "Progress: Batch of 40 tests completed!\n",
      "----------------------------------------------------------------------------------------------------\n",
      "Sample 962\n",
      "sentence 1\n",
      "REF: washington national paid nineteen dollars a share for the two point six million united presidential shares it did not already own\n",
      "HYP: washington national paid nineteen ******* a share for the two point six billion ****** ************ ****** ** *** *** ******* ***\n",
      "                                             D                                     S      D            D      D  D   D   D       D   D\n",
      "\n",
      "----------------------------------------------------------------------------------------------------\n",
      "Sample 892\n",
      "sentence 1\n",
      "REF: however investment income which represents thirteen percent of the industry is revenue  rose eleven percent in the quarter reflecting gains from the rising stock market\n",
      "HYP: however investment income which represents thirteen percent of the industry is revenue grows eleven percent in the quarter reflecting gains from the rising stock market\n",
      "                                                                                                S                                                                            \n",
      "\n",
      "----------------------------------------------------------------------------------------------------\n",
      "Sample 323\n",
      "sentence 1\n",
      "REF: no one is making very much money on it acknowledges brian j kelly chairman of bell  atlantic is investment development unit\n",
      "HYP: no one is making very much money on it acknowledges brian j kelly chairman of bell atlantics ** investment development unit\n",
      "                                                                                                S  D                            \n",
      "\n",
      "----------------------------------------------------------------------------------------------------\n",
      "Results saved to /fs01/home/omidv/ASR-Error-Correction/results/test_chime4.json\n"
     ]
    },
    {
     "name": "stderr",
     "output_type": "stream",
     "text": [
      "Some weights of RobertaModel were not initialized from the model checkpoint at roberta-large and are newly initialized: ['roberta.pooler.dense.bias', 'roberta.pooler.dense.weight']\n",
      "You should probably TRAIN this model on a down-stream task to be able to use it for predictions and inference.\n"
     ]
    },
    {
     "name": "stdout",
     "output_type": "stream",
     "text": [
      "{'WER': 0.124, 'METEOR': 0.911, 'BERT Precision': 0.866, 'BERT Recall': 0.861, 'BERT F1': 0.863}\n"
     ]
    }
   ],
   "source": [
    "results_table = await evaluate_model_parallel(chime_dataset, model, client, zero_shot_instruct8_closest, chime_generation_config, chime_results_path)\n",
    "print(results_table)"
   ]
  },
  {
   "cell_type": "markdown",
   "id": "defensive-chart",
   "metadata": {},
   "source": [
    "## Playground of LLMs"
   ]
  },
  {
   "cell_type": "code",
   "execution_count": 4,
   "id": "departmental-partition",
   "metadata": {},
   "outputs": [],
   "source": [
    "base_url = \"https://kscope.vectorinstitute.ai/v1\"\n",
    "api_key = os.environ.get(\"CUSTOM_API_KEY\")\n",
    "client = openai.AsyncOpenAI(api_key=api_key, base_url=base_url)"
   ]
  },
  {
   "cell_type": "code",
   "execution_count": 5,
   "id": "artistic-ownership",
   "metadata": {
    "scrolled": true
   },
   "outputs": [
    {
     "name": "stdout",
     "output_type": "stream",
     "text": [
      "Hello! I am Gemma, an open-weights AI assistant. I'm a large language model, which means I've been trained on a massive amount of text data. This allows me to communicate and generate human-like text in response to a wide range of prompts and questions. For example, I can provide summaries of factual topics or create stories.\n",
      "\n",
      "Because I am open-weights, my weights are publicly available. This means anyone can access and study how I work, which promotes transparency and collaboration in the AI community.\n",
      "\n",
      "What can I do for you today?\n",
      "\n"
     ]
    }
   ],
   "source": [
    "model = \"gemma-2-9b-it\"\n",
    "await check_availability(client, model)"
   ]
  },
  {
   "cell_type": "code",
   "execution_count": 6,
   "id": "apparent-entity",
   "metadata": {
    "scrolled": true
   },
   "outputs": [
    {
     "name": "stdout",
     "output_type": "stream",
     "text": [
      "Progress: Batch of 256 tests completed!\n",
      "Progress: Batch of 256 tests completed!\n",
      "Progress: Batch of 256 tests completed!\n",
      "Progress: Batch of 256 tests completed!\n",
      "Progress: Batch of 256 tests completed!\n",
      "Progress: Batch of 40 tests completed!\n",
      "----------------------------------------------------------------------------------------------------\n",
      "Sample 1106\n",
      "sentence 1\n",
      "REF: in a dutch auction holders tender their shares at prices within the   stated range in this case between twenty eight dollars and thirty three dollars a share\n",
      "HYP: in a dutch auction holders tender their shares at prices within the standard range in this case between     28 ***** ******* and     33 ***** ******* a share\n",
      "                                                                                S                                 S     D       D          S     D       D        \n",
      "\n",
      "----------------------------------------------------------------------------------------------------\n",
      "Sample 1171\n",
      "sentence 1\n",
      "REF: the issue was priced after auction to yield from three point five percent in *** ******** **** nineteen eighty       seven to five point five percent in nineteen ninety seven\n",
      "HYP: the issue was priced after auction to yield from three point five percent in one thousand nine  hundred    and eightyseven to five point five percent in      one ****** *****\n",
      "                                                                                    I        I    I        S      S           S                                      S      D     D\n",
      "\n",
      "----------------------------------------------------------------------------------------------------\n",
      "Sample 1117\n",
      "\n",
      "----------------------------------------------------------------------------------------------------\n",
      "Results saved to /fs01/home/omidv/ASR-Error-Correction/results/test_chime4.json\n"
     ]
    },
    {
     "name": "stderr",
     "output_type": "stream",
     "text": [
      "Some weights of RobertaModel were not initialized from the model checkpoint at roberta-large and are newly initialized: ['roberta.pooler.dense.bias', 'roberta.pooler.dense.weight']\n",
      "You should probably TRAIN this model on a down-stream task to be able to use it for predictions and inference.\n"
     ]
    },
    {
     "name": "stdout",
     "output_type": "stream",
     "text": [
      "{'WER': 0.132, 'METEOR': 0.915, 'BERT Precision': 0.85, 'BERT Recall': 0.856, 'BERT F1': 0.853}\n"
     ]
    }
   ],
   "source": [
    "results_table = await evaluate_model_parallel(chime_dataset, model, client, zero_shot_instruct1, chime_generation_config, chime_results_path)\n",
    "print(results_table)"
   ]
  },
  {
   "cell_type": "code",
   "execution_count": 7,
   "id": "pleased-royal",
   "metadata": {
    "scrolled": true
   },
   "outputs": [
    {
     "name": "stdout",
     "output_type": "stream",
     "text": [
      "Progress: Batch of 256 tests completed!\n",
      "Progress: Batch of 256 tests completed!\n",
      "Progress: Batch of 256 tests completed!\n",
      "Progress: Batch of 256 tests completed!\n",
      "Progress: Batch of 256 tests completed!\n",
      "Progress: Batch of 40 tests completed!\n",
      "----------------------------------------------------------------------------------------------------\n",
      "Sample 870\n",
      "\n",
      "----------------------------------------------------------------------------------------------------\n",
      "Sample 255\n",
      "\n",
      "----------------------------------------------------------------------------------------------------\n",
      "Sample 632\n",
      "\n",
      "----------------------------------------------------------------------------------------------------\n",
      "Results saved to /fs01/home/omidv/ASR-Error-Correction/results/test_chime4.json\n"
     ]
    },
    {
     "name": "stderr",
     "output_type": "stream",
     "text": [
      "Some weights of RobertaModel were not initialized from the model checkpoint at roberta-large and are newly initialized: ['roberta.pooler.dense.bias', 'roberta.pooler.dense.weight']\n",
      "You should probably TRAIN this model on a down-stream task to be able to use it for predictions and inference.\n"
     ]
    },
    {
     "name": "stdout",
     "output_type": "stream",
     "text": [
      "{'WER': 0.108, 'METEOR': 0.923, 'BERT Precision': 0.882, 'BERT Recall': 0.879, 'BERT F1': 0.88}\n"
     ]
    }
   ],
   "source": [
    "results_table = await evaluate_model_parallel(chime_dataset, model, client, zero_shot_instruct1_closest, chime_generation_config, chime_results_path)\n",
    "print(results_table)"
   ]
  },
  {
   "cell_type": "code",
   "execution_count": 8,
   "id": "efficient-training",
   "metadata": {
    "scrolled": true
   },
   "outputs": [
    {
     "name": "stdout",
     "output_type": "stream",
     "text": [
      "Progress: Batch of 256 tests completed!\n",
      "Progress: Batch of 256 tests completed!\n",
      "Progress: Batch of 256 tests completed!\n",
      "Progress: Batch of 256 tests completed!\n",
      "Progress: Batch of 256 tests completed!\n",
      "Progress: Batch of 40 tests completed!\n",
      "----------------------------------------------------------------------------------------------------\n",
      "Sample 1297\n",
      "sentence 1\n",
      "REF: the underwriting group has a    thirty day option to acquire an additional six hundred thousand shares at eight dollars each\n",
      "HYP: the underwriting group has a thirtyday *** option to acquire an additional six hundred thousand shares at     8 ******* each\n",
      "                                          S   D                                                                    S       D     \n",
      "\n",
      "----------------------------------------------------------------------------------------------------\n",
      "Sample 128\n",
      "\n",
      "----------------------------------------------------------------------------------------------------\n",
      "Sample 2\n",
      "\n",
      "----------------------------------------------------------------------------------------------------\n",
      "Results saved to /fs01/home/omidv/ASR-Error-Correction/results/test_chime4.json\n"
     ]
    },
    {
     "name": "stderr",
     "output_type": "stream",
     "text": [
      "Some weights of RobertaModel were not initialized from the model checkpoint at roberta-large and are newly initialized: ['roberta.pooler.dense.bias', 'roberta.pooler.dense.weight']\n",
      "You should probably TRAIN this model on a down-stream task to be able to use it for predictions and inference.\n"
     ]
    },
    {
     "name": "stdout",
     "output_type": "stream",
     "text": [
      "{'WER': 0.161, 'METEOR': 0.901, 'BERT Precision': 0.82, 'BERT Recall': 0.843, 'BERT F1': 0.831}\n"
     ]
    }
   ],
   "source": [
    "results_table = await evaluate_model_parallel(chime_dataset, model, client, zero_shot_instruct2, chime_generation_config, chime_results_path)\n",
    "print(results_table)"
   ]
  },
  {
   "cell_type": "code",
   "execution_count": 9,
   "id": "spare-manual",
   "metadata": {
    "scrolled": true
   },
   "outputs": [
    {
     "name": "stdout",
     "output_type": "stream",
     "text": [
      "Progress: Batch of 256 tests completed!\n",
      "Progress: Batch of 256 tests completed!\n",
      "Progress: Batch of 256 tests completed!\n",
      "Progress: Batch of 256 tests completed!\n",
      "Progress: Batch of 256 tests completed!\n",
      "Progress: Batch of 40 tests completed!\n",
      "----------------------------------------------------------------------------------------------------\n",
      "Sample 1188\n",
      "sentence 1\n",
      "REF: no one is making very much money on it acknowledges brian j kelly chairman of **** bell atlantic is investment development unit\n",
      "HYP: no one is making very much money on it acknowledges brian j kelly chairman of bill  and atlantic is investment development unit\n",
      "                                                                                      I    S                                        \n",
      "\n",
      "----------------------------------------------------------------------------------------------------\n",
      "Sample 1202\n",
      "sentence 1\n",
      "REF:   a print media campaign will begin the following day\n",
      "HYP: the print media campaign will begin the following day\n",
      "       S                                                  \n",
      "\n",
      "----------------------------------------------------------------------------------------------------\n",
      "Sample 184\n",
      "\n",
      "----------------------------------------------------------------------------------------------------\n",
      "Results saved to /fs01/home/omidv/ASR-Error-Correction/results/test_chime4.json\n"
     ]
    },
    {
     "name": "stderr",
     "output_type": "stream",
     "text": [
      "Some weights of RobertaModel were not initialized from the model checkpoint at roberta-large and are newly initialized: ['roberta.pooler.dense.bias', 'roberta.pooler.dense.weight']\n",
      "You should probably TRAIN this model on a down-stream task to be able to use it for predictions and inference.\n"
     ]
    },
    {
     "name": "stdout",
     "output_type": "stream",
     "text": [
      "{'WER': 0.108, 'METEOR': 0.924, 'BERT Precision': 0.881, 'BERT Recall': 0.879, 'BERT F1': 0.88}\n"
     ]
    }
   ],
   "source": [
    "results_table = await evaluate_model_parallel(chime_dataset, model, client, zero_shot_instruct2_closest, chime_generation_config, chime_results_path)\n",
    "print(results_table)"
   ]
  },
  {
   "cell_type": "code",
   "execution_count": 10,
   "id": "approximate-taxation",
   "metadata": {
    "scrolled": true
   },
   "outputs": [
    {
     "name": "stdout",
     "output_type": "stream",
     "text": [
      "Progress: Batch of 256 tests completed!\n",
      "Progress: Batch of 256 tests completed!\n",
      "Progress: Batch of 256 tests completed!\n",
      "Progress: Batch of 256 tests completed!\n",
      "Progress: Batch of 256 tests completed!\n",
      "Progress: Batch of 40 tests completed!\n",
      "----------------------------------------------------------------------------------------------------\n",
      "Sample 714\n",
      "\n",
      "----------------------------------------------------------------------------------------------------\n",
      "Sample 750\n",
      "\n",
      "----------------------------------------------------------------------------------------------------\n",
      "Sample 383\n",
      "\n",
      "----------------------------------------------------------------------------------------------------\n",
      "Results saved to /fs01/home/omidv/ASR-Error-Correction/results/test_chime4.json\n"
     ]
    },
    {
     "name": "stderr",
     "output_type": "stream",
     "text": [
      "Some weights of RobertaModel were not initialized from the model checkpoint at roberta-large and are newly initialized: ['roberta.pooler.dense.bias', 'roberta.pooler.dense.weight']\n",
      "You should probably TRAIN this model on a down-stream task to be able to use it for predictions and inference.\n"
     ]
    },
    {
     "name": "stdout",
     "output_type": "stream",
     "text": [
      "{'WER': 0.149, 'METEOR': 0.906, 'BERT Precision': 0.835, 'BERT Recall': 0.847, 'BERT F1': 0.841}\n"
     ]
    }
   ],
   "source": [
    "results_table = await evaluate_model_parallel(chime_dataset, model, client, zero_shot_instruct3, chime_generation_config, chime_results_path)\n",
    "print(results_table)"
   ]
  },
  {
   "cell_type": "code",
   "execution_count": 11,
   "id": "verified-minimum",
   "metadata": {
    "scrolled": true
   },
   "outputs": [
    {
     "name": "stdout",
     "output_type": "stream",
     "text": [
      "Progress: Batch of 256 tests completed!\n",
      "Progress: Batch of 256 tests completed!\n",
      "Progress: Batch of 256 tests completed!\n",
      "Progress: Batch of 256 tests completed!\n",
      "Progress: Batch of 256 tests completed!\n",
      "Progress: Batch of 40 tests completed!\n",
      "----------------------------------------------------------------------------------------------------\n",
      "Sample 722\n",
      "sentence 1\n",
      "REF: ***** grand auto slid three to fifteen and one ***** eighth on the american stock exchange\n",
      "HYP: brand   hot    o slid three to fifteen  at one point  eight on the american stock exchange\n",
      "         I     S    S                         S         I      S                               \n",
      "\n",
      "----------------------------------------------------------------------------------------------------\n",
      "Sample 665\n",
      "\n",
      "----------------------------------------------------------------------------------------------------\n",
      "Sample 1275\n",
      "\n",
      "----------------------------------------------------------------------------------------------------\n",
      "Results saved to /fs01/home/omidv/ASR-Error-Correction/results/test_chime4.json\n"
     ]
    },
    {
     "name": "stderr",
     "output_type": "stream",
     "text": [
      "Some weights of RobertaModel were not initialized from the model checkpoint at roberta-large and are newly initialized: ['roberta.pooler.dense.bias', 'roberta.pooler.dense.weight']\n",
      "You should probably TRAIN this model on a down-stream task to be able to use it for predictions and inference.\n"
     ]
    },
    {
     "name": "stdout",
     "output_type": "stream",
     "text": [
      "{'WER': 0.108, 'METEOR': 0.923, 'BERT Precision': 0.882, 'BERT Recall': 0.879, 'BERT F1': 0.88}\n"
     ]
    }
   ],
   "source": [
    "results_table = await evaluate_model_parallel(chime_dataset, model, client, zero_shot_instruct3_closest, chime_generation_config, chime_results_path)\n",
    "print(results_table)"
   ]
  },
  {
   "cell_type": "code",
   "execution_count": 12,
   "id": "chubby-reservoir",
   "metadata": {
    "scrolled": true
   },
   "outputs": [
    {
     "name": "stdout",
     "output_type": "stream",
     "text": [
      "Progress: Batch of 256 tests completed!\n",
      "Progress: Batch of 256 tests completed!\n",
      "Progress: Batch of 256 tests completed!\n",
      "Progress: Batch of 256 tests completed!\n",
      "Progress: Batch of 256 tests completed!\n",
      "Progress: Batch of 40 tests completed!\n",
      "----------------------------------------------------------------------------------------------------\n",
      "Sample 633\n",
      "sentence 1\n",
      "REF: it had fourteen point five million common shares outstanding before the issue\n",
      "HYP: it had fourteen  plus five million common shares outstanding before the issue\n",
      "                         S                                                        \n",
      "\n",
      "----------------------------------------------------------------------------------------------------\n",
      "Sample 1033\n",
      "sentence 1\n",
      "REF: and then there is the explanation of why   teradyne is growth in japan is slow despite fifteen years of effort\n",
      "HYP: and then there is the explanation of why pteridines ** growth in japan is slow despite fifteen years of effort\n",
      "                                                       S  D                                                        \n",
      "\n",
      "----------------------------------------------------------------------------------------------------\n",
      "Sample 1024\n",
      "sentence 1\n",
      "REF: many analysts cite an expected increase in aircraft orders as a big reason  for  the anticipated june increase\n",
      "HYP: many analysts cite an expected increase in aircraft orders as a big reason they have anticipated your increase\n",
      "                                                                                   S    S                S         \n",
      "\n",
      "----------------------------------------------------------------------------------------------------\n",
      "Results saved to /fs01/home/omidv/ASR-Error-Correction/results/test_chime4.json\n"
     ]
    },
    {
     "name": "stderr",
     "output_type": "stream",
     "text": [
      "Some weights of RobertaModel were not initialized from the model checkpoint at roberta-large and are newly initialized: ['roberta.pooler.dense.bias', 'roberta.pooler.dense.weight']\n",
      "You should probably TRAIN this model on a down-stream task to be able to use it for predictions and inference.\n"
     ]
    },
    {
     "name": "stdout",
     "output_type": "stream",
     "text": [
      "{'WER': 0.149, 'METEOR': 0.904, 'BERT Precision': 0.833, 'BERT Recall': 0.845, 'BERT F1': 0.839}\n"
     ]
    }
   ],
   "source": [
    "results_table = await evaluate_model_parallel(chime_dataset, model, client, zero_shot_instruct4, chime_generation_config, chime_results_path)\n",
    "print(results_table)"
   ]
  },
  {
   "cell_type": "code",
   "execution_count": 13,
   "id": "consistent-coverage",
   "metadata": {
    "scrolled": true
   },
   "outputs": [
    {
     "name": "stdout",
     "output_type": "stream",
     "text": [
      "Progress: Batch of 256 tests completed!\n",
      "Progress: Batch of 256 tests completed!\n",
      "Progress: Batch of 256 tests completed!\n",
      "Progress: Batch of 256 tests completed!\n",
      "Progress: Batch of 256 tests completed!\n",
      "Progress: Batch of 40 tests completed!\n",
      "----------------------------------------------------------------------------------------------------\n",
      "Sample 81\n",
      "sentence 1\n",
      "REF: volume was modest as three hundred twenty       six point seven million shares changed hands compared with three hundred ninety       six point five million friday\n",
      "HYP: volume was modest as three hundred    and twentysix point seven million shares changed hands compared   to three hundred    and ninetysix point five million friday\n",
      "                                             S         S                                                      S                    S         S                          \n",
      "\n",
      "----------------------------------------------------------------------------------------------------\n",
      "Sample 1260\n",
      "\n",
      "----------------------------------------------------------------------------------------------------\n",
      "Sample 1072\n",
      "\n",
      "----------------------------------------------------------------------------------------------------\n",
      "Results saved to /fs01/home/omidv/ASR-Error-Correction/results/test_chime4.json\n"
     ]
    },
    {
     "name": "stderr",
     "output_type": "stream",
     "text": [
      "Some weights of RobertaModel were not initialized from the model checkpoint at roberta-large and are newly initialized: ['roberta.pooler.dense.bias', 'roberta.pooler.dense.weight']\n",
      "You should probably TRAIN this model on a down-stream task to be able to use it for predictions and inference.\n"
     ]
    },
    {
     "name": "stdout",
     "output_type": "stream",
     "text": [
      "{'WER': 0.107, 'METEOR': 0.924, 'BERT Precision': 0.882, 'BERT Recall': 0.879, 'BERT F1': 0.88}\n"
     ]
    }
   ],
   "source": [
    "results_table = await evaluate_model_parallel(chime_dataset, model, client, zero_shot_instruct4_closest, chime_generation_config, chime_results_path)\n",
    "print(results_table)"
   ]
  },
  {
   "cell_type": "code",
   "execution_count": 14,
   "id": "regional-milan",
   "metadata": {
    "scrolled": true
   },
   "outputs": [
    {
     "name": "stdout",
     "output_type": "stream",
     "text": [
      "Progress: Batch of 256 tests completed!\n",
      "Progress: Batch of 256 tests completed!\n",
      "Progress: Batch of 256 tests completed!\n",
      "Progress: Batch of 256 tests completed!\n",
      "Progress: Batch of 256 tests completed!\n",
      "Progress: Batch of 40 tests completed!\n",
      "----------------------------------------------------------------------------------------------------\n",
      "Sample 67\n",
      "sentence 1\n",
      "REF: under tokyo trading rules the maximum    one day drop for sony is five hundred yen about three dollars and fifty cents\n",
      "HYP: under tokyo trading rules the maximum oneday *** drop for sony is five hundred yen about   350 ******* *** ***** *****\n",
      "                                                S   D                                             S       D   D     D     D\n",
      "\n",
      "----------------------------------------------------------------------------------------------------\n",
      "Sample 1160\n",
      "sentence 1\n",
      "REF: companies listed ** *** below reported quarterly profit substantially different from the average of analysts estimates\n",
      "HYP: companies listed in the   lab   report quarterly profit substantially different from the average of analysts estimates\n",
      "                       I   I     S        S                                                                                \n",
      "\n",
      "----------------------------------------------------------------------------------------------------\n",
      "Sample 2\n",
      "\n",
      "----------------------------------------------------------------------------------------------------\n",
      "Results saved to /fs01/home/omidv/ASR-Error-Correction/results/test_chime4.json\n"
     ]
    },
    {
     "name": "stderr",
     "output_type": "stream",
     "text": [
      "Some weights of RobertaModel were not initialized from the model checkpoint at roberta-large and are newly initialized: ['roberta.pooler.dense.bias', 'roberta.pooler.dense.weight']\n",
      "You should probably TRAIN this model on a down-stream task to be able to use it for predictions and inference.\n"
     ]
    },
    {
     "name": "stdout",
     "output_type": "stream",
     "text": [
      "{'WER': 0.161, 'METEOR': 0.899, 'BERT Precision': 0.82, 'BERT Recall': 0.841, 'BERT F1': 0.83}\n"
     ]
    }
   ],
   "source": [
    "results_table = await evaluate_model_parallel(chime_dataset, model, client, zero_shot_instruct5, chime_generation_config, chime_results_path)\n",
    "print(results_table)"
   ]
  },
  {
   "cell_type": "code",
   "execution_count": 15,
   "id": "supreme-honolulu",
   "metadata": {
    "scrolled": true
   },
   "outputs": [
    {
     "name": "stdout",
     "output_type": "stream",
     "text": [
      "Progress: Batch of 256 tests completed!\n",
      "Progress: Batch of 256 tests completed!\n",
      "Progress: Batch of 256 tests completed!\n",
      "Progress: Batch of 256 tests completed!\n",
      "Progress: Batch of 256 tests completed!\n",
      "Progress: Batch of 40 tests completed!\n",
      "----------------------------------------------------------------------------------------------------\n",
      "Sample 673\n",
      "\n",
      "----------------------------------------------------------------------------------------------------\n",
      "Sample 398\n",
      "\n",
      "----------------------------------------------------------------------------------------------------\n",
      "Sample 1214\n",
      "\n",
      "----------------------------------------------------------------------------------------------------\n",
      "Results saved to /fs01/home/omidv/ASR-Error-Correction/results/test_chime4.json\n"
     ]
    },
    {
     "name": "stderr",
     "output_type": "stream",
     "text": [
      "Some weights of RobertaModel were not initialized from the model checkpoint at roberta-large and are newly initialized: ['roberta.pooler.dense.bias', 'roberta.pooler.dense.weight']\n",
      "You should probably TRAIN this model on a down-stream task to be able to use it for predictions and inference.\n"
     ]
    },
    {
     "name": "stdout",
     "output_type": "stream",
     "text": [
      "{'WER': 0.108, 'METEOR': 0.924, 'BERT Precision': 0.882, 'BERT Recall': 0.879, 'BERT F1': 0.881}\n"
     ]
    }
   ],
   "source": [
    "results_table = await evaluate_model_parallel(chime_dataset, model, client, zero_shot_instruct5_closest, chime_generation_config, chime_results_path)\n",
    "print(results_table)"
   ]
  },
  {
   "cell_type": "code",
   "execution_count": 16,
   "id": "violent-mercury",
   "metadata": {
    "scrolled": true
   },
   "outputs": [
    {
     "name": "stdout",
     "output_type": "stream",
     "text": [
      "Progress: Batch of 256 tests completed!\n",
      "Progress: Batch of 256 tests completed!\n",
      "Progress: Batch of 256 tests completed!\n",
      "Progress: Batch of 256 tests completed!\n",
      "Progress: Batch of 256 tests completed!\n",
      "Progress: Batch of 40 tests completed!\n",
      "----------------------------------------------------------------------------------------------------\n",
      "Sample 583\n",
      "sentence 1\n",
      "REF: the unsold balance late yesterday was about    thirty six point three million dollars according to shearson lehman brothers the lead underwriter\n",
      "HYP: the unsold balance late yesterday was about thirtysix *** point three million dollars according to shearson lehman brothers the lead underwriter\n",
      "                                                         S   D                                                                                       \n",
      "\n",
      "----------------------------------------------------------------------------------------------------\n",
      "Sample 1296\n",
      "sentence 1\n",
      "REF: they were sold to underwriters led by prudential bache securities incorporated\n",
      "HYP: they were sold to underwriters led by prudential bosch securities          inc\n",
      "                                                          S                       S\n",
      "\n",
      "----------------------------------------------------------------------------------------------------\n",
      "Sample 180\n",
      "\n",
      "----------------------------------------------------------------------------------------------------\n",
      "Results saved to /fs01/home/omidv/ASR-Error-Correction/results/test_chime4.json\n"
     ]
    },
    {
     "name": "stderr",
     "output_type": "stream",
     "text": [
      "Some weights of RobertaModel were not initialized from the model checkpoint at roberta-large and are newly initialized: ['roberta.pooler.dense.bias', 'roberta.pooler.dense.weight']\n",
      "You should probably TRAIN this model on a down-stream task to be able to use it for predictions and inference.\n"
     ]
    },
    {
     "name": "stdout",
     "output_type": "stream",
     "text": [
      "{'WER': 0.15, 'METEOR': 0.907, 'BERT Precision': 0.831, 'BERT Recall': 0.85, 'BERT F1': 0.84}\n"
     ]
    }
   ],
   "source": [
    "results_table = await evaluate_model_parallel(chime_dataset, model, client, zero_shot_instruct6, chime_generation_config, chime_results_path)\n",
    "print(results_table)"
   ]
  },
  {
   "cell_type": "code",
   "execution_count": 17,
   "id": "polyphonic-directory",
   "metadata": {
    "scrolled": true
   },
   "outputs": [
    {
     "name": "stdout",
     "output_type": "stream",
     "text": [
      "Progress: Batch of 256 tests completed!\n",
      "Progress: Batch of 256 tests completed!\n",
      "Progress: Batch of 256 tests completed!\n",
      "Progress: Batch of 256 tests completed!\n",
      "Progress: Batch of 256 tests completed!\n",
      "Progress: Batch of 40 tests completed!\n",
      "----------------------------------------------------------------------------------------------------\n",
      "Sample 331\n",
      "sentence 1\n",
      "REF: at   n e c the need for international managers will keep rising\n",
      "HYP: at mec * * the need for international managers will keep rising\n",
      "          S D D                                                     \n",
      "\n",
      "----------------------------------------------------------------------------------------------------\n",
      "Sample 455\n",
      "\n",
      "----------------------------------------------------------------------------------------------------\n",
      "Sample 1153\n",
      "\n",
      "----------------------------------------------------------------------------------------------------\n",
      "Results saved to /fs01/home/omidv/ASR-Error-Correction/results/test_chime4.json\n"
     ]
    },
    {
     "name": "stderr",
     "output_type": "stream",
     "text": [
      "Some weights of RobertaModel were not initialized from the model checkpoint at roberta-large and are newly initialized: ['roberta.pooler.dense.bias', 'roberta.pooler.dense.weight']\n",
      "You should probably TRAIN this model on a down-stream task to be able to use it for predictions and inference.\n"
     ]
    },
    {
     "name": "stdout",
     "output_type": "stream",
     "text": [
      "{'WER': 0.109, 'METEOR': 0.923, 'BERT Precision': 0.881, 'BERT Recall': 0.879, 'BERT F1': 0.88}\n"
     ]
    }
   ],
   "source": [
    "results_table = await evaluate_model_parallel(chime_dataset, model, client, zero_shot_instruct6_closest, chime_generation_config, chime_results_path)\n",
    "print(results_table)"
   ]
  },
  {
   "cell_type": "code",
   "execution_count": 18,
   "id": "sudden-welding",
   "metadata": {
    "scrolled": true
   },
   "outputs": [
    {
     "name": "stdout",
     "output_type": "stream",
     "text": [
      "Progress: Batch of 256 tests completed!\n",
      "Progress: Batch of 256 tests completed!\n",
      "Progress: Batch of 256 tests completed!\n",
      "Progress: Batch of 256 tests completed!\n",
      "Progress: Batch of 256 tests completed!\n",
      "Progress: Batch of 40 tests completed!\n",
      "----------------------------------------------------------------------------------------------------\n",
      "Sample 459\n",
      "sentence 1\n",
      "REF: nonetheless the union has moved the experiment to richmond virginia and has received inquiries from other unions about its tactics\n",
      "HYP: nonetheless the union has  made the experiment to richmond virginia and has received inquiries from other unions about its tactics\n",
      "                                   S                                                                                                   \n",
      "\n",
      "----------------------------------------------------------------------------------------------------\n",
      "Sample 262\n",
      "sentence 1\n",
      "REF: the may slump reported june    twenty second came as a big surprise to most analysts and helped trigger a powerful bond rally that day\n",
      "HYP: the may slump reported june twentytwo ****** came as a big surprise to most analysts and helped trigger a powerful bond rally that day\n",
      "                                         S      D                                                                                          \n",
      "\n",
      "----------------------------------------------------------------------------------------------------\n",
      "Sample 265\n",
      "\n",
      "----------------------------------------------------------------------------------------------------\n",
      "Results saved to /fs01/home/omidv/ASR-Error-Correction/results/test_chime4.json\n"
     ]
    },
    {
     "name": "stderr",
     "output_type": "stream",
     "text": [
      "Some weights of RobertaModel were not initialized from the model checkpoint at roberta-large and are newly initialized: ['roberta.pooler.dense.bias', 'roberta.pooler.dense.weight']\n",
      "You should probably TRAIN this model on a down-stream task to be able to use it for predictions and inference.\n"
     ]
    },
    {
     "name": "stdout",
     "output_type": "stream",
     "text": [
      "{'WER': 0.131, 'METEOR': 0.915, 'BERT Precision': 0.85, 'BERT Recall': 0.858, 'BERT F1': 0.854}\n"
     ]
    }
   ],
   "source": [
    "results_table = await evaluate_model_parallel(chime_dataset, model, client, zero_shot_instruct7, chime_generation_config, chime_results_path)\n",
    "print(results_table)"
   ]
  },
  {
   "cell_type": "code",
   "execution_count": 19,
   "id": "mathematical-nomination",
   "metadata": {
    "scrolled": true
   },
   "outputs": [
    {
     "name": "stdout",
     "output_type": "stream",
     "text": [
      "Progress: Batch of 256 tests completed!\n",
      "Progress: Batch of 256 tests completed!\n",
      "Progress: Batch of 256 tests completed!\n",
      "Progress: Batch of 256 tests completed!\n",
      "Progress: Batch of 256 tests completed!\n",
      "Progress: Batch of 40 tests completed!\n",
      "----------------------------------------------------------------------------------------------------\n",
      "Sample 408\n",
      "sentence 1\n",
      "REF: he said such products would be marketed by other companies with experience in that business\n",
      "HYP: he said such products  will be marketed by other companies with experience in that business\n",
      "                               S                                                                \n",
      "\n",
      "----------------------------------------------------------------------------------------------------\n",
      "Sample 344\n",
      "\n",
      "----------------------------------------------------------------------------------------------------\n",
      "Sample 40\n",
      "\n",
      "----------------------------------------------------------------------------------------------------\n",
      "Results saved to /fs01/home/omidv/ASR-Error-Correction/results/test_chime4.json\n"
     ]
    },
    {
     "name": "stderr",
     "output_type": "stream",
     "text": [
      "Some weights of RobertaModel were not initialized from the model checkpoint at roberta-large and are newly initialized: ['roberta.pooler.dense.bias', 'roberta.pooler.dense.weight']\n",
      "You should probably TRAIN this model on a down-stream task to be able to use it for predictions and inference.\n"
     ]
    },
    {
     "name": "stdout",
     "output_type": "stream",
     "text": [
      "{'WER': 0.108, 'METEOR': 0.924, 'BERT Precision': 0.881, 'BERT Recall': 0.879, 'BERT F1': 0.88}\n"
     ]
    }
   ],
   "source": [
    "results_table = await evaluate_model_parallel(chime_dataset, model, client, zero_shot_instruct7_closest, chime_generation_config, chime_results_path)\n",
    "print(results_table)"
   ]
  },
  {
   "cell_type": "code",
   "execution_count": 20,
   "id": "underlying-start",
   "metadata": {
    "scrolled": true
   },
   "outputs": [
    {
     "name": "stdout",
     "output_type": "stream",
     "text": [
      "Progress: Batch of 256 tests completed!\n",
      "Progress: Batch of 256 tests completed!\n",
      "Progress: Batch of 256 tests completed!\n",
      "Progress: Batch of 256 tests completed!\n",
      "Progress: Batch of 256 tests completed!\n",
      "Progress: Batch of 40 tests completed!\n",
      "----------------------------------------------------------------------------------------------------\n",
      "Sample 257\n",
      "sentence 1\n",
      "REF: among men    fifty six percent said the  u s was doing too little in space exploration only a quarter of women agreed\n",
      "HYP: among men fiftysix *** percent said the us * was doing too little in space exploration only a quarter of women agreed\n",
      "                      S   D                   S D                                                                         \n",
      "\n",
      "----------------------------------------------------------------------------------------------------\n",
      "Sample 872\n",
      "\n",
      "----------------------------------------------------------------------------------------------------\n",
      "Sample 1144\n",
      "sentence 1\n",
      "REF: the new company ashland coal incorporated is listed on the new york stock exchange\n",
      "HYP: the new company ashland   co          inc is listed on the new york stock exchange\n",
      "                                S            S                                         \n",
      "\n",
      "----------------------------------------------------------------------------------------------------\n",
      "Results saved to /fs01/home/omidv/ASR-Error-Correction/results/test_chime4.json\n"
     ]
    },
    {
     "name": "stderr",
     "output_type": "stream",
     "text": [
      "Some weights of RobertaModel were not initialized from the model checkpoint at roberta-large and are newly initialized: ['roberta.pooler.dense.bias', 'roberta.pooler.dense.weight']\n",
      "You should probably TRAIN this model on a down-stream task to be able to use it for predictions and inference.\n"
     ]
    },
    {
     "name": "stdout",
     "output_type": "stream",
     "text": [
      "{'WER': 0.117, 'METEOR': 0.92, 'BERT Precision': 0.869, 'BERT Recall': 0.87, 'BERT F1': 0.869}\n"
     ]
    }
   ],
   "source": [
    "results_table = await evaluate_model_parallel(chime_dataset, model, client, zero_shot_instruct8, chime_generation_config, chime_results_path)\n",
    "print(results_table)"
   ]
  },
  {
   "cell_type": "code",
   "execution_count": 21,
   "id": "aware-inside",
   "metadata": {
    "scrolled": true
   },
   "outputs": [
    {
     "name": "stdout",
     "output_type": "stream",
     "text": [
      "Progress: Batch of 256 tests completed!\n",
      "Progress: Batch of 256 tests completed!\n",
      "Progress: Batch of 256 tests completed!\n",
      "Progress: Batch of 256 tests completed!\n",
      "Progress: Batch of 256 tests completed!\n",
      "Progress: Batch of 40 tests completed!\n",
      "----------------------------------------------------------------------------------------------------\n",
      "Sample 872\n",
      "\n",
      "----------------------------------------------------------------------------------------------------\n",
      "Sample 211\n",
      "sentence 1\n",
      "REF: *** neither side would disclose terms\n",
      "HYP: the   other side would disclose terms\n",
      "       I       S                          \n",
      "\n",
      "----------------------------------------------------------------------------------------------------\n",
      "Sample 232\n",
      "sentence 1\n",
      "REF: we are not prepared to be advocates for the   k g b\n",
      "HYP: we are not prepared to be advocates for the kgb * *\n",
      "                                                   S D D\n",
      "\n",
      "----------------------------------------------------------------------------------------------------\n",
      "Results saved to /fs01/home/omidv/ASR-Error-Correction/results/test_chime4.json\n"
     ]
    },
    {
     "name": "stderr",
     "output_type": "stream",
     "text": [
      "Some weights of RobertaModel were not initialized from the model checkpoint at roberta-large and are newly initialized: ['roberta.pooler.dense.bias', 'roberta.pooler.dense.weight']\n",
      "You should probably TRAIN this model on a down-stream task to be able to use it for predictions and inference.\n"
     ]
    },
    {
     "name": "stdout",
     "output_type": "stream",
     "text": [
      "{'WER': 0.111, 'METEOR': 0.921, 'BERT Precision': 0.881, 'BERT Recall': 0.877, 'BERT F1': 0.879}\n"
     ]
    }
   ],
   "source": [
    "results_table = await evaluate_model_parallel(chime_dataset, model, client, zero_shot_instruct8_closest, chime_generation_config, chime_results_path)\n",
    "print(results_table)"
   ]
  }
 ],
 "metadata": {
  "kernelspec": {
   "display_name": "kscope",
   "language": "python",
   "name": "kscope"
  },
  "language_info": {
   "codemirror_mode": {
    "name": "ipython",
    "version": 3
   },
   "file_extension": ".py",
   "mimetype": "text/x-python",
   "name": "python",
   "nbconvert_exporter": "python",
   "pygments_lexer": "ipython3",
   "version": "3.12.0"
  }
 },
 "nbformat": 4,
 "nbformat_minor": 5
}
