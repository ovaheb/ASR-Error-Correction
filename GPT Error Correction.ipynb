{
 "cells": [
  {
   "cell_type": "markdown",
   "id": "written-fountain",
   "metadata": {},
   "source": [
    "## Environment Setup"
   ]
  },
  {
   "cell_type": "code",
   "execution_count": 22,
   "id": "simplified-swing",
   "metadata": {},
   "outputs": [
    {
     "data": {
      "text/plain": [
       "True"
      ]
     },
     "execution_count": 22,
     "metadata": {},
     "output_type": "execute_result"
    }
   ],
   "source": [
    "from codes.evaluation import *\n",
    "from codes.configs import *\n",
    "load_dotenv() # Load the environment variables"
   ]
  },
  {
   "cell_type": "code",
   "execution_count": 23,
   "id": "individual-brunei",
   "metadata": {},
   "outputs": [],
   "source": [
    "api_key = os.environ.get(\"OPENAI_API_KEY\")\n",
    "client = openai.AsyncOpenAI(api_key=api_key)"
   ]
  },
  {
   "cell_type": "code",
   "execution_count": 24,
   "id": "cutting-scratch",
   "metadata": {},
   "outputs": [],
   "source": [
    "df = pd.read_json(\"/fs01/home/omidv/ASR-Error-Correction/data/test_cv.json\")\n",
    "cv_results_path = \"/fs01/home/omidv/ASR-Error-Correction/results/test_cv.json\"\n",
    "cv_dataset = Dataset.from_pandas(df)\n",
    "df = pd.read_json(\"/fs01/home/omidv/ASR-Error-Correction/data/test_lrs2.json\")\n",
    "lrs_results_path = \"/fs01/home/omidv/ASR-Error-Correction/results/test_lrs2.json\"\n",
    "lrs_dataset = Dataset.from_pandas(df)\n",
    "df = pd.read_json(\"/fs01/home/omidv/ASR-Error-Correction/data/test_chime4.json\")\n",
    "chime_results_path = \"/fs01/home/omidv/ASR-Error-Correction/results/test_chime4.json\"\n",
    "chime_dataset = Dataset.from_pandas(df)"
   ]
  },
  {
   "cell_type": "markdown",
   "id": "missing-curve",
   "metadata": {},
   "source": [
    "# GPT 4o mini"
   ]
  },
  {
   "cell_type": "code",
   "execution_count": 22,
   "id": "moving-control",
   "metadata": {},
   "outputs": [],
   "source": [
    "model = \"gpt-4o-mini\"\n",
    "await check_availability(client, model)"
   ]
  },
  {
   "cell_type": "code",
   "execution_count": 23,
   "id": "acoustic-wells",
   "metadata": {},
   "outputs": [
    {
     "name": "stdout",
     "output_type": "stream",
     "text": [
      "Dataset({\n",
      "    features: ['input', 'output', 'input1', 'input2'],\n",
      "    num_rows: 2000\n",
      "})\n",
      "Evaluating Zero-shot Unconstrained:\n",
      "Progress: Batch of 256 tests completed!\n",
      "Progress: Batch of 256 tests completed!\n",
      "Progress: Batch of 256 tests completed!\n",
      "Progress: Batch of 256 tests completed!\n",
      "Progress: Batch of 256 tests completed!\n",
      "Progress: Batch of 256 tests completed!\n",
      "Progress: Batch of 256 tests completed!\n",
      "Progress: Batch of 208 tests completed!\n",
      "----------------------------------------------------------------------------------------------------\n",
      "Sample 850\n",
      "Target: the mainland south of the gulf may have substantial diamond and uranium deposits\n",
      "Pred:   the mainland south of the gulf may have substantial diamond and uranium deposits\n",
      "----------------------------------------------------------------------------------------------------\n",
      "Sample 1124\n",
      "Target: use of electronic test equipment is essential to any serious work on electronics systems\n",
      "Pred:   the use of electronic test equipment is essential to any serious work on electronic systems\n",
      "----------------------------------------------------------------------------------------------------\n",
      "Sample 518\n",
      "Target: meanwhile connor gets a room at a motel for holtz and himself\n",
      "Pred:   meanwhile connor gets the room at the hotel for holtz and himself\n",
      "----------------------------------------------------------------------------------------------------\n",
      "Results saved to /fs01/home/omidv/ASR-Error-Correction/results/test_cv.json\n",
      "Evaluating Zero-shot Constrained:\n",
      "Progress: Batch of 256 tests completed!\n",
      "Progress: Batch of 256 tests completed!\n",
      "Progress: Batch of 256 tests completed!\n",
      "Progress: Batch of 256 tests completed!\n",
      "Progress: Batch of 256 tests completed!\n",
      "Progress: Batch of 256 tests completed!\n",
      "Progress: Batch of 256 tests completed!\n",
      "Progress: Batch of 208 tests completed!\n",
      "----------------------------------------------------------------------------------------------------\n",
      "Sample 185\n",
      "Target: it is commonly used interchangeably with the terms political islam or islamic fundamentalism\n",
      "Pred:   it is commonly used interchangeably with terms political islam or islamic fundamentalism\n",
      "----------------------------------------------------------------------------------------------------\n",
      "Sample 1439\n",
      "Target: swifts creek follows the australian tradition of a love of sport\n",
      "Pred:   swift is creek follows the australian tradition of love of sport\n",
      "----------------------------------------------------------------------------------------------------\n",
      "Sample 1153\n",
      "Target: xiao baojuan immediately had jiang shi and jiang you arrested and executed\n",
      "Pred:   jiao baozhuon immediately had ziyang xi and ziyang yu arrested and executed\n",
      "----------------------------------------------------------------------------------------------------\n",
      "Results saved to /fs01/home/omidv/ASR-Error-Correction/results/test_cv.json\n",
      "Evaluating Zero-shot Closest:\n",
      "Progress: Batch of 256 tests completed!\n",
      "Progress: Batch of 256 tests completed!\n",
      "Progress: Batch of 256 tests completed!\n",
      "Progress: Batch of 256 tests completed!\n",
      "Progress: Batch of 256 tests completed!\n",
      "Progress: Batch of 256 tests completed!\n",
      "Progress: Batch of 256 tests completed!\n",
      "Progress: Batch of 208 tests completed!\n",
      "----------------------------------------------------------------------------------------------------\n",
      "Sample 359\n",
      "Target: this paved the way for many divisions heading north\n",
      "Pred:   this paved the way for many divisions heading north\n",
      "----------------------------------------------------------------------------------------------------\n",
      "Sample 1175\n",
      "Target: often all domain controllers are also global catalog servers\n",
      "Pred:   often all domain controllers are also global catalog servers\n",
      "----------------------------------------------------------------------------------------------------\n",
      "Sample 1091\n",
      "Target: the old terminal has been renovated in accordance with its original design\n",
      "Pred:   the old terminal has been renovated in accordance with its original design\n",
      "----------------------------------------------------------------------------------------------------\n",
      "Results saved to /fs01/home/omidv/ASR-Error-Correction/results/test_cv.json\n",
      "Evaluating Oracle:\n",
      "Progress: Batch of 256 tests completed!\n",
      "Progress: Batch of 256 tests completed!\n",
      "Progress: Batch of 256 tests completed!\n",
      "Progress: Batch of 256 tests completed!\n",
      "Progress: Batch of 256 tests completed!\n",
      "Progress: Batch of 256 tests completed!\n",
      "Progress: Batch of 256 tests completed!\n",
      "Progress: Batch of 208 tests completed!\n",
      "----------------------------------------------------------------------------------------------------\n",
      "Sample 983\n",
      "Target: agriculture is also undertaken on a significant scale within the basin\n",
      "Pred:   agriculture is also undertaken on a significant scale within the basin\n",
      "----------------------------------------------------------------------------------------------------\n",
      "Sample 840\n",
      "Target: this product does not permit roaming outside the channel islands\n",
      "Pred:   this product does not permit roaming outside the channel islands\n",
      "----------------------------------------------------------------------------------------------------\n",
      "Sample 485\n",
      "Target: many turko persian states were founded in modern day eastern turkey iran iraq turkmenistan and uzbekistan\n",
      "Pred:   many turkopersian states were founded in modern day eastern turkey iran iraq turkmenistan and uzbekistan\n",
      "----------------------------------------------------------------------------------------------------\n",
      "Results saved to /fs01/home/omidv/ASR-Error-Correction/results/test_cv.json\n",
      "Evaluating Top 1:\n",
      "Progress: Batch of 256 tests completed!\n",
      "Progress: Batch of 256 tests completed!\n",
      "Progress: Batch of 256 tests completed!\n",
      "Progress: Batch of 256 tests completed!\n",
      "Progress: Batch of 256 tests completed!\n",
      "Progress: Batch of 256 tests completed!\n",
      "Progress: Batch of 256 tests completed!\n",
      "Progress: Batch of 208 tests completed!\n",
      "----------------------------------------------------------------------------------------------------\n",
      "Sample 1755\n",
      "Target: the brimfield public library was established by the dog tax\n",
      "Pred:   the brimfield public library was established by the dogtax\n",
      "----------------------------------------------------------------------------------------------------\n",
      "Sample 959\n",
      "Target: today the city hall serves as the headquarters of the penang island city council\n",
      "Pred:   today the city hall serves as the headquarters of the penahang island city council\n",
      "----------------------------------------------------------------------------------------------------\n",
      "Sample 1267\n",
      "Target: designing a road bridge over the boyne was not an easy task\n",
      "Pred:   designing a road bridge over the bourne was not an easy task\n",
      "----------------------------------------------------------------------------------------------------\n",
      "Results saved to /fs01/home/omidv/ASR-Error-Correction/results/test_cv.json\n",
      "Benchmark saved to /fs01/home/omidv/ASR-Error-Correction/results/test_cv_gpt-4o-mini.csv\n",
      "                     WER  METEOR  BERT Precision  BERT Recall  BERT F1\n",
      "Top 1              0.157   0.865           0.783        0.795    0.789\n",
      "Oracle             0.114   0.898           0.828        0.840    0.834\n",
      "Zero-shot Uncon    0.141   0.885           0.811        0.830    0.820\n",
      "Zero-shot Constr   0.145   0.875           0.800        0.814    0.807\n",
      "Zero-shot Closest  0.140   0.880           0.808        0.822    0.815\n"
     ]
    }
   ],
   "source": [
    "results_table = await run_evaluation(cv_dataset, model, client, cv_generation_config, cv_results_path)\n",
    "print(results_table)"
   ]
  },
  {
   "cell_type": "code",
   "execution_count": 24,
   "id": "macro-lightning",
   "metadata": {},
   "outputs": [
    {
     "name": "stdout",
     "output_type": "stream",
     "text": [
      "Dataset({\n",
      "    features: ['input', 'output', 'input1', 'input2'],\n",
      "    num_rows: 2259\n",
      "})\n",
      "Evaluating Zero-shot Unconstrained:\n",
      "Progress: Batch of 256 tests completed!\n",
      "Progress: Batch of 256 tests completed!\n",
      "Progress: Batch of 256 tests completed!\n",
      "Progress: Batch of 256 tests completed!\n",
      "Progress: Batch of 256 tests completed!\n",
      "Progress: Batch of 256 tests completed!\n",
      "Progress: Batch of 256 tests completed!\n",
      "Progress: Batch of 256 tests completed!\n",
      "Progress: Batch of 211 tests completed!\n",
      "----------------------------------------------------------------------------------------------------\n",
      "Sample 1799\n",
      "Target: the motifs were chinese\n",
      "Pred:   the motifs were chinese\n",
      "----------------------------------------------------------------------------------------------------\n",
      "Sample 1239\n",
      "Target: they have still got them\n",
      "Pred:   they have still got them\n",
      "----------------------------------------------------------------------------------------------------\n",
      "Sample 1742\n",
      "Target: about the cities\n",
      "Pred:   hear about the cities of\n",
      "----------------------------------------------------------------------------------------------------\n",
      "Results saved to /fs01/home/omidv/ASR-Error-Correction/results/test_lrs2.json\n",
      "Evaluating Zero-shot Constrained:\n",
      "Progress: Batch of 256 tests completed!\n",
      "Progress: Batch of 256 tests completed!\n",
      "Progress: Batch of 256 tests completed!\n",
      "Progress: Batch of 256 tests completed!\n",
      "Progress: Batch of 256 tests completed!\n",
      "Progress: Batch of 256 tests completed!\n",
      "Progress: Batch of 256 tests completed!\n",
      "Progress: Batch of 256 tests completed!\n",
      "Progress: Batch of 211 tests completed!\n",
      "----------------------------------------------------------------------------------------------------\n",
      "Sample 1257\n",
      "Target: you have not seen it yet\n",
      "Pred:   you have not seen it yet\n",
      "----------------------------------------------------------------------------------------------------\n",
      "Sample 1686\n",
      "Target: i will go down to the behavior\n",
      "Pred:   i am going down to the wildwood\n",
      "----------------------------------------------------------------------------------------------------\n",
      "Sample 601\n",
      "Target: with the imminent threat of attack from germany\n",
      "Pred:   with the imminent threat of attack from germany\n",
      "----------------------------------------------------------------------------------------------------\n",
      "Results saved to /fs01/home/omidv/ASR-Error-Correction/results/test_lrs2.json\n",
      "Evaluating Zero-shot Closest:\n",
      "Progress: Batch of 256 tests completed!\n",
      "Progress: Batch of 256 tests completed!\n",
      "Progress: Batch of 256 tests completed!\n",
      "Progress: Batch of 256 tests completed!\n",
      "Progress: Batch of 256 tests completed!\n",
      "Progress: Batch of 256 tests completed!\n",
      "Progress: Batch of 256 tests completed!\n",
      "Progress: Batch of 256 tests completed!\n",
      "Progress: Batch of 211 tests completed!\n",
      "----------------------------------------------------------------------------------------------------\n",
      "Sample 1453\n",
      "Target: during the tudor period\n",
      "Pred:   during the tudor period\n",
      "----------------------------------------------------------------------------------------------------\n",
      "Sample 1770\n",
      "Target: that is the slightly more romantic side of it\n",
      "Pred:   that is the slightly more romantic side of it\n",
      "----------------------------------------------------------------------------------------------------\n",
      "Sample 54\n",
      "Target: but i have not got a clue\n",
      "Pred:   but i have not got a clue\n",
      "----------------------------------------------------------------------------------------------------\n",
      "Results saved to /fs01/home/omidv/ASR-Error-Correction/results/test_lrs2.json\n",
      "Evaluating Oracle:\n",
      "Progress: Batch of 256 tests completed!\n",
      "Progress: Batch of 256 tests completed!\n",
      "Progress: Batch of 256 tests completed!\n",
      "Progress: Batch of 256 tests completed!\n",
      "Progress: Batch of 256 tests completed!\n",
      "Progress: Batch of 256 tests completed!\n",
      "Progress: Batch of 256 tests completed!\n",
      "Progress: Batch of 256 tests completed!\n",
      "Progress: Batch of 211 tests completed!\n",
      "----------------------------------------------------------------------------------------------------\n",
      "Sample 617\n",
      "Target: just like the formula one driver who won the two thousand and twelve world championship\n",
      "Pred:   just like the formula one driver who won the two thousand and twelve world championship\n",
      "----------------------------------------------------------------------------------------------------\n",
      "Sample 1331\n",
      "Target: i used to say to him\n",
      "Pred:   i used to say to him look\n",
      "----------------------------------------------------------------------------------------------------\n",
      "Sample 1056\n",
      "Target: maybe it is a case of bungalo yes\n",
      "Pred:   so maybe it is a case of bungalow yes\n",
      "----------------------------------------------------------------------------------------------------\n",
      "Results saved to /fs01/home/omidv/ASR-Error-Correction/results/test_lrs2.json\n",
      "Evaluating Top 1:\n",
      "Progress: Batch of 256 tests completed!\n",
      "Progress: Batch of 256 tests completed!\n",
      "Progress: Batch of 256 tests completed!\n",
      "Progress: Batch of 256 tests completed!\n",
      "Progress: Batch of 256 tests completed!\n",
      "Progress: Batch of 256 tests completed!\n",
      "Progress: Batch of 256 tests completed!\n",
      "Progress: Batch of 256 tests completed!\n",
      "Progress: Batch of 211 tests completed!\n",
      "----------------------------------------------------------------------------------------------------\n",
      "Sample 1799\n",
      "Target: the motifs were chinese\n",
      "Pred:   the motifs were chinese\n",
      "----------------------------------------------------------------------------------------------------\n",
      "Sample 379\n",
      "Target: it will not appeal to everybody\n",
      "Pred:   it will not appeal to everybody\n",
      "----------------------------------------------------------------------------------------------------\n",
      "Sample 766\n",
      "Target: one called saint john is walton\n",
      "Pred:   one quarter saint john is walton\n",
      "----------------------------------------------------------------------------------------------------\n",
      "Results saved to /fs01/home/omidv/ASR-Error-Correction/results/test_lrs2.json\n",
      "Benchmark saved to /fs01/home/omidv/ASR-Error-Correction/results/test_lrs2_gpt-4o-mini.csv\n",
      "                     WER  METEOR  BERT Precision  BERT Recall  BERT F1\n",
      "Top 1              0.127   0.895           0.875        0.853    0.864\n",
      "Oracle             0.068   0.940           0.929        0.918    0.924\n",
      "Zero-shot Uncon    0.130   0.900           0.881        0.859    0.870\n",
      "Zero-shot Constr   0.125   0.901           0.884        0.860    0.872\n",
      "Zero-shot Closest  0.125   0.903           0.885        0.861    0.873\n"
     ]
    }
   ],
   "source": [
    "results_table = await run_evaluation(lrs_dataset, model, client, lrs_generation_config, lrs_results_path)\n",
    "print(results_table)"
   ]
  },
  {
   "cell_type": "code",
   "execution_count": 25,
   "id": "attended-berkeley",
   "metadata": {},
   "outputs": [
    {
     "name": "stdout",
     "output_type": "stream",
     "text": [
      "Dataset({\n",
      "    features: ['input', 'output', 'input1', 'input2'],\n",
      "    num_rows: 1320\n",
      "})\n",
      "Evaluating Zero-shot Unconstrained:\n",
      "Progress: Batch of 256 tests completed!\n",
      "Progress: Batch of 256 tests completed!\n",
      "Progress: Batch of 256 tests completed!\n",
      "Progress: Batch of 256 tests completed!\n",
      "Progress: Batch of 256 tests completed!\n",
      "Progress: Batch of 40 tests completed!\n",
      "----------------------------------------------------------------------------------------------------\n",
      "Sample 281\n",
      "Target: mister robertson says he would only be attracted by a nineteen multiple if he thought the projected earnings growth rate was eighteen percent to twenty percent\n",
      "Pred:   mister robertson says he would only be attracted by a nineteen multiple if he thought the projected earnings growth rate was eighteen percent to twenty percent\n",
      "----------------------------------------------------------------------------------------------------\n",
      "Sample 875\n",
      "Target: lately computer retailing has been tough on everybody\n",
      "Pred:   lately computer retailing has been tough on everybody\n",
      "----------------------------------------------------------------------------------------------------\n",
      "Sample 905\n",
      "Target: and both mortgaged their homes to secure the loans they needed to start the business\n",
      "Pred:   and both mortgaged their homes to secure the loans they needed to start the business\n",
      "----------------------------------------------------------------------------------------------------\n",
      "Results saved to /fs01/home/omidv/ASR-Error-Correction/results/test_chime4.json\n",
      "Evaluating Zero-shot Constrained:\n",
      "Progress: Batch of 256 tests completed!\n",
      "Progress: Batch of 256 tests completed!\n",
      "Progress: Batch of 256 tests completed!\n",
      "Progress: Batch of 256 tests completed!\n",
      "Progress: Batch of 256 tests completed!\n",
      "Progress: Batch of 40 tests completed!\n",
      "----------------------------------------------------------------------------------------------------\n",
      "Sample 87\n",
      "Target: about three point five billion dollars of securities are affected\n",
      "Pred:   about three point five billion dollars of securities are affected\n",
      "----------------------------------------------------------------------------------------------------\n",
      "Sample 298\n",
      "Target: that was certainly true last week\n",
      "Pred:   that was certainly true last week\n",
      "----------------------------------------------------------------------------------------------------\n",
      "Sample 1000\n",
      "Target: despite the july decline durable goods orders remained seven point seven percent above the year earlier level\n",
      "Pred:   despite the july decline durable goods orders remain seven point seven percent above the year earlier than ever\n",
      "----------------------------------------------------------------------------------------------------\n",
      "Results saved to /fs01/home/omidv/ASR-Error-Correction/results/test_chime4.json\n",
      "Evaluating Zero-shot Closest:\n",
      "Progress: Batch of 256 tests completed!\n",
      "Progress: Batch of 256 tests completed!\n",
      "Progress: Batch of 256 tests completed!\n",
      "Progress: Batch of 256 tests completed!\n",
      "Progress: Batch of 256 tests completed!\n",
      "Progress: Batch of 40 tests completed!\n",
      "----------------------------------------------------------------------------------------------------\n",
      "Sample 355\n",
      "Target: commerce department officials noted however that auto imports usually rise in october as dealers fill their inventories with new models\n",
      "Pred:   commerce department officials noted however that auto imports usually rise in october as dealers fill their inventories with new models\n",
      "----------------------------------------------------------------------------------------------------\n",
      "Sample 1139\n",
      "Target: the following officers directors and large stockholders of companies reported changes in holdings under the securities exchange act of nineteen thirty four\n",
      "Pred:   following officers directors and large stakeholders of companies reported changes in holdings under the securities exchange act of one thousand nine hundred and thirtyfour\n",
      "----------------------------------------------------------------------------------------------------\n",
      "Sample 1308\n",
      "Target: but while the fed stands pat it is coming under increasing attack from both sides\n",
      "Pred:   but while the fed stands pat it is coming under increasing attack from both sides\n",
      "----------------------------------------------------------------------------------------------------\n",
      "Results saved to /fs01/home/omidv/ASR-Error-Correction/results/test_chime4.json\n",
      "Evaluating Oracle:\n",
      "Progress: Batch of 256 tests completed!\n",
      "Progress: Batch of 256 tests completed!\n",
      "Progress: Batch of 256 tests completed!\n",
      "Progress: Batch of 256 tests completed!\n",
      "Progress: Batch of 256 tests completed!\n",
      "Progress: Batch of 40 tests completed!\n",
      "----------------------------------------------------------------------------------------------------\n",
      "Sample 169\n",
      "Target: however investment income which represents thirteen percent of the industry is revenues rose eleven percent in the quarter reflecting gains from the rising stock market\n",
      "Pred:   however investment income which represents thirteen percent of the industry is revenues rose eleven percent in the quarter reflecting gains from the rising stock market\n",
      "----------------------------------------------------------------------------------------------------\n",
      "Sample 529\n",
      "Target: their business is not just a job but their investment\n",
      "Pred:   their business is not just a job but their investment\n",
      "----------------------------------------------------------------------------------------------------\n",
      "Sample 164\n",
      "Target: volume was eighteen million one hundred ninety thousand shares compared with ten million five hundred fifty thousand monday\n",
      "Pred:   the volume was eighteen million one hundred and ninety thousand shares compared with ten million five hundred and fifty thousand one time\n",
      "----------------------------------------------------------------------------------------------------\n",
      "Results saved to /fs01/home/omidv/ASR-Error-Correction/results/test_chime4.json\n",
      "Evaluating Top 1:\n",
      "Progress: Batch of 256 tests completed!\n",
      "Progress: Batch of 256 tests completed!\n",
      "Progress: Batch of 256 tests completed!\n",
      "Progress: Batch of 256 tests completed!\n",
      "Progress: Batch of 256 tests completed!\n",
      "Progress: Batch of 40 tests completed!\n",
      "----------------------------------------------------------------------------------------------------\n",
      "Sample 1030\n",
      "Target: first commodity appealed the expulsion and fine to the c f t c\n",
      "Pred:   first commodity appealed the expulsion and fine to the cftc\n",
      "----------------------------------------------------------------------------------------------------\n",
      "Sample 1318\n",
      "Target: shearson lehman hutton incorporated is index of long term treasury bonds stayed in a very small range yesterday finishing very close to wednesday is closing level\n",
      "Pred:   shearson lehman hutton incorporated is index of long term treasury bonds stayed in the very small range yesterday finishing very close to wednesday is closing level\n",
      "----------------------------------------------------------------------------------------------------\n",
      "Sample 314\n",
      "Target: the shares closed at eighteen dollars and twenty five cents up twenty five cents on the new york stock exchange composite tape\n",
      "Pred:   the share closed at eighteen point two five up twentyfive cents on the new york stock exchange composite tape\n",
      "----------------------------------------------------------------------------------------------------\n",
      "Results saved to /fs01/home/omidv/ASR-Error-Correction/results/test_chime4.json\n",
      "Benchmark saved to /fs01/home/omidv/ASR-Error-Correction/results/test_chime4_gpt-4o-mini.csv\n",
      "                     WER  METEOR  BERT Precision  BERT Recall  BERT F1\n",
      "Top 1              0.111   0.920           0.876        0.873    0.875\n",
      "Oracle             0.085   0.938           0.903        0.898    0.900\n",
      "Zero-shot Uncon    0.115   0.924           0.872        0.873    0.873\n",
      "Zero-shot Constr   0.109   0.922           0.877        0.873    0.875\n",
      "Zero-shot Closest  0.108   0.923           0.884        0.880    0.882\n"
     ]
    }
   ],
   "source": [
    "results_table = await run_evaluation(chime_dataset, model, client, chime_generation_config, chime_results_path)\n",
    "print(results_table)"
   ]
  },
  {
   "cell_type": "markdown",
   "id": "israeli-imperial",
   "metadata": {},
   "source": [
    "# GPT 4o"
   ]
  },
  {
   "cell_type": "code",
   "execution_count": 15,
   "id": "external-rocket",
   "metadata": {},
   "outputs": [
    {
     "name": "stdout",
     "output_type": "stream",
     "text": [
      "Hello! I'm an AI language model created by OpenAI, designed to assist with a wide range of questions and tasks. How can I help you today?\n"
     ]
    }
   ],
   "source": [
    "model = \"gpt-4o\"\n",
    "await check_availability(client, model)"
   ]
  },
  {
   "cell_type": "code",
   "execution_count": 12,
   "id": "latest-verification",
   "metadata": {},
   "outputs": [
    {
     "name": "stdout",
     "output_type": "stream",
     "text": [
      "Evaluating Zero-shot Unconstrained:\n",
      "Progress: Batch of 256 tests completed!\n",
      "Progress: Batch of 256 tests completed!\n",
      "Progress: Batch of 256 tests completed!\n",
      "Progress: Batch of 256 tests completed!\n",
      "Progress: Batch of 256 tests completed!\n",
      "Progress: Batch of 256 tests completed!\n",
      "Progress: Batch of 256 tests completed!\n",
      "Progress: Batch of 208 tests completed!\n",
      "----------------------------------------------------------------------------------------------------\n",
      "Sample 1045\n",
      "sentence 1\n",
      "REF: the  island is economy is driven almost solely by tourism\n",
      "HYP: the islands ** economy is driven almost solely by tourism\n",
      "               S  D                                           \n",
      "\n",
      "----------------------------------------------------------------------------------------------------\n",
      "Sample 835\n",
      "\n",
      "----------------------------------------------------------------------------------------------------\n",
      "Sample 1769\n",
      "\n",
      "----------------------------------------------------------------------------------------------------\n",
      "Results saved to /fs01/home/omidv/ASR-Error-Correction/results/test_cv.json\n"
     ]
    },
    {
     "name": "stderr",
     "output_type": "stream",
     "text": [
      "Some weights of RobertaModel were not initialized from the model checkpoint at roberta-large and are newly initialized: ['roberta.pooler.dense.bias', 'roberta.pooler.dense.weight']\n",
      "You should probably TRAIN this model on a down-stream task to be able to use it for predictions and inference.\n"
     ]
    },
    {
     "name": "stdout",
     "output_type": "stream",
     "text": [
      "Evaluating Zero-shot Constrained:\n",
      "Progress: Batch of 256 tests completed!\n",
      "Progress: Batch of 256 tests completed!\n",
      "Progress: Batch of 256 tests completed!\n",
      "Progress: Batch of 256 tests completed!\n",
      "Progress: Batch of 256 tests completed!\n",
      "Progress: Batch of 256 tests completed!\n",
      "Progress: Batch of 256 tests completed!\n",
      "Progress: Batch of 208 tests completed!\n",
      "----------------------------------------------------------------------------------------------------\n",
      "Sample 1632\n",
      "\n",
      "----------------------------------------------------------------------------------------------------\n",
      "Sample 1392\n",
      "sentence 1\n",
      "REF: the     gowns in use in oxford can be divided into two basic shapes\n",
      "HYP: the cornstice ** use in absurd can be divided into two basic shapes\n",
      "                 S  D             S                                     \n",
      "\n",
      "----------------------------------------------------------------------------------------------------\n",
      "Sample 339\n",
      "sentence 1\n",
      "REF: with the exception of the full dress *** doctors gowns all durham gowns are black\n",
      "HYP: with the exception of the full dress and doctors gowns all durham gowns are black\n",
      "                                            I                                         \n",
      "\n",
      "----------------------------------------------------------------------------------------------------\n",
      "Results saved to /fs01/home/omidv/ASR-Error-Correction/results/test_cv.json\n"
     ]
    },
    {
     "name": "stderr",
     "output_type": "stream",
     "text": [
      "Some weights of RobertaModel were not initialized from the model checkpoint at roberta-large and are newly initialized: ['roberta.pooler.dense.bias', 'roberta.pooler.dense.weight']\n",
      "You should probably TRAIN this model on a down-stream task to be able to use it for predictions and inference.\n"
     ]
    },
    {
     "name": "stdout",
     "output_type": "stream",
     "text": [
      "Evaluating Zero-shot Closest:\n",
      "Progress: Batch of 256 tests completed!\n",
      "Progress: Batch of 256 tests completed!\n",
      "Progress: Batch of 256 tests completed!\n",
      "Progress: Batch of 256 tests completed!\n",
      "Progress: Batch of 256 tests completed!\n",
      "Progress: Batch of 256 tests completed!\n",
      "Progress: Batch of 256 tests completed!\n",
      "Progress: Batch of 208 tests completed!\n",
      "----------------------------------------------------------------------------------------------------\n",
      "Sample 1081\n",
      "sentence 1\n",
      "REF: the record is by s kleivkaas\n",
      "HYP: the record is by s clivecast\n",
      "                                S\n",
      "\n",
      "----------------------------------------------------------------------------------------------------\n",
      "Sample 412\n",
      "sentence 1\n",
      "REF: south central featured many guest stars including jennifer lopez shar jackson and maia campbell\n",
      "HYP: south central featured many guest stars including jennifer lopez char jackson and maya campbell\n",
      "                                                                         S                S         \n",
      "\n",
      "----------------------------------------------------------------------------------------------------\n",
      "Sample 1903\n",
      "\n",
      "----------------------------------------------------------------------------------------------------\n",
      "Results saved to /fs01/home/omidv/ASR-Error-Correction/results/test_cv.json\n"
     ]
    },
    {
     "name": "stderr",
     "output_type": "stream",
     "text": [
      "Some weights of RobertaModel were not initialized from the model checkpoint at roberta-large and are newly initialized: ['roberta.pooler.dense.bias', 'roberta.pooler.dense.weight']\n",
      "You should probably TRAIN this model on a down-stream task to be able to use it for predictions and inference.\n"
     ]
    },
    {
     "name": "stdout",
     "output_type": "stream",
     "text": [
      "Evaluating Oracle:\n",
      "Progress: Batch of 256 tests completed!\n",
      "Progress: Batch of 256 tests completed!\n",
      "Progress: Batch of 256 tests completed!\n",
      "Progress: Batch of 256 tests completed!\n",
      "Progress: Batch of 256 tests completed!\n",
      "Progress: Batch of 256 tests completed!\n",
      "Progress: Batch of 256 tests completed!\n",
      "Progress: Batch of 208 tests completed!\n",
      "----------------------------------------------------------------------------------------------------\n",
      "Sample 895\n",
      "sentence 1\n",
      "REF: adams and his wife andenika have four children\n",
      "HYP: adams and his wife andenica have four children\n",
      "                               S                   \n",
      "\n",
      "----------------------------------------------------------------------------------------------------\n",
      "Sample 1121\n",
      "sentence 1\n",
      "REF:  pelaez involved himself actively in various civic and professional societies\n",
      "HYP: peleirs involved himself actively in various civic and professional societies\n",
      "           S                                                                      \n",
      "\n",
      "----------------------------------------------------------------------------------------------------\n",
      "Sample 320\n",
      "\n",
      "----------------------------------------------------------------------------------------------------\n",
      "Results saved to /fs01/home/omidv/ASR-Error-Correction/results/test_cv.json\n"
     ]
    },
    {
     "name": "stderr",
     "output_type": "stream",
     "text": [
      "Some weights of RobertaModel were not initialized from the model checkpoint at roberta-large and are newly initialized: ['roberta.pooler.dense.bias', 'roberta.pooler.dense.weight']\n",
      "You should probably TRAIN this model on a down-stream task to be able to use it for predictions and inference.\n"
     ]
    },
    {
     "name": "stdout",
     "output_type": "stream",
     "text": [
      "Evaluating Top 1:\n",
      "Progress: Batch of 256 tests completed!\n",
      "Progress: Batch of 256 tests completed!\n",
      "Progress: Batch of 256 tests completed!\n",
      "Progress: Batch of 256 tests completed!\n",
      "Progress: Batch of 256 tests completed!\n",
      "Progress: Batch of 256 tests completed!\n",
      "Progress: Batch of 256 tests completed!\n",
      "Progress: Batch of 208 tests completed!\n",
      "----------------------------------------------------------------------------------------------------\n",
      "Sample 436\n",
      "\n",
      "----------------------------------------------------------------------------------------------------\n",
      "Sample 125\n",
      "sentence 1\n",
      "REF: from there   it heads south east along the ***** southern edge of the ****** baviaanskloof\n",
      "HYP: from  that head ***** south east along the south      and edge of the bavian       skaluth\n",
      "              S    S     D                          I        S                  I             S\n",
      "\n",
      "----------------------------------------------------------------------------------------------------\n",
      "Sample 1716\n",
      "\n",
      "----------------------------------------------------------------------------------------------------\n",
      "Results saved to /fs01/home/omidv/ASR-Error-Correction/results/test_cv.json\n"
     ]
    },
    {
     "name": "stderr",
     "output_type": "stream",
     "text": [
      "Some weights of RobertaModel were not initialized from the model checkpoint at roberta-large and are newly initialized: ['roberta.pooler.dense.bias', 'roberta.pooler.dense.weight']\n",
      "You should probably TRAIN this model on a down-stream task to be able to use it for predictions and inference.\n"
     ]
    },
    {
     "name": "stdout",
     "output_type": "stream",
     "text": [
      "Benchmark saved to /fs01/home/omidv/ASR-Error-Correction/results/test_cv_gpt-4o.csv\n",
      "                     WER  METEOR  BERT Precision  BERT Recall  BERT F1\n",
      "Top 1              0.157   0.865           0.783        0.795    0.789\n",
      "Oracle             0.114   0.898           0.828        0.840    0.834\n",
      "Zero-shot Uncon    0.123   0.899           0.837        0.852    0.845\n",
      "Zero-shot Constr   0.137   0.883           0.812        0.826    0.819\n",
      "Zero-shot Closest  0.135   0.884           0.814        0.827    0.821\n"
     ]
    }
   ],
   "source": [
    "results_table = await run_evaluation(cv_dataset, model, client, cv_generation_config, cv_results_path)\n",
    "print(results_table)"
   ]
  },
  {
   "cell_type": "code",
   "execution_count": 13,
   "id": "ordinary-yeast",
   "metadata": {},
   "outputs": [
    {
     "name": "stdout",
     "output_type": "stream",
     "text": [
      "Evaluating Zero-shot Unconstrained:\n",
      "Progress: Batch of 256 tests completed!\n",
      "Progress: Batch of 256 tests completed!\n",
      "Progress: Batch of 256 tests completed!\n",
      "Progress: Batch of 256 tests completed!\n",
      "Progress: Batch of 256 tests completed!\n",
      "Progress: Batch of 256 tests completed!\n",
      "Progress: Batch of 256 tests completed!\n",
      "Progress: Batch of 256 tests completed!\n",
      "Progress: Batch of 211 tests completed!\n",
      "----------------------------------------------------------------------------------------------------\n",
      "Sample 2036\n",
      "\n",
      "----------------------------------------------------------------------------------------------------\n",
      "Sample 1059\n",
      "\n",
      "----------------------------------------------------------------------------------------------------\n",
      "Sample 2043\n",
      "sentence 1\n",
      "REF: and thomas and i are definitely on the same wavelength\n",
      "HYP: *** thomas and i are definitely ** the same wavelength\n",
      "       D                              D                    \n",
      "\n",
      "----------------------------------------------------------------------------------------------------\n",
      "Results saved to /fs01/home/omidv/ASR-Error-Correction/results/test_lrs2.json\n"
     ]
    },
    {
     "name": "stderr",
     "output_type": "stream",
     "text": [
      "Some weights of RobertaModel were not initialized from the model checkpoint at roberta-large and are newly initialized: ['roberta.pooler.dense.bias', 'roberta.pooler.dense.weight']\n",
      "You should probably TRAIN this model on a down-stream task to be able to use it for predictions and inference.\n"
     ]
    },
    {
     "name": "stdout",
     "output_type": "stream",
     "text": [
      "Evaluating Zero-shot Constrained:\n",
      "Progress: Batch of 256 tests completed!\n",
      "Progress: Batch of 256 tests completed!\n",
      "Progress: Batch of 256 tests completed!\n",
      "Progress: Batch of 256 tests completed!\n",
      "Progress: Batch of 256 tests completed!\n",
      "Progress: Batch of 256 tests completed!\n",
      "Progress: Batch of 256 tests completed!\n",
      "Progress: Batch of 256 tests completed!\n",
      "Progress: Batch of 211 tests completed!\n",
      "----------------------------------------------------------------------------------------------------\n",
      "Sample 524\n",
      "\n",
      "----------------------------------------------------------------------------------------------------\n",
      "Sample 1707\n",
      "\n",
      "----------------------------------------------------------------------------------------------------\n",
      "Sample 1583\n",
      "sentence 1\n",
      "REF: there is also the sort of ivory that we have all got you know\n",
      "HYP: there is also the sort of ivory that we have all got *** ****\n",
      "                                                            D    D\n",
      "\n",
      "----------------------------------------------------------------------------------------------------\n",
      "Results saved to /fs01/home/omidv/ASR-Error-Correction/results/test_lrs2.json\n"
     ]
    },
    {
     "name": "stderr",
     "output_type": "stream",
     "text": [
      "Some weights of RobertaModel were not initialized from the model checkpoint at roberta-large and are newly initialized: ['roberta.pooler.dense.bias', 'roberta.pooler.dense.weight']\n",
      "You should probably TRAIN this model on a down-stream task to be able to use it for predictions and inference.\n"
     ]
    },
    {
     "name": "stdout",
     "output_type": "stream",
     "text": [
      "Evaluating Zero-shot Closest:\n",
      "Progress: Batch of 256 tests completed!\n",
      "Progress: Batch of 256 tests completed!\n",
      "Progress: Batch of 256 tests completed!\n",
      "Progress: Batch of 256 tests completed!\n",
      "Progress: Batch of 256 tests completed!\n",
      "Progress: Batch of 256 tests completed!\n",
      "Progress: Batch of 256 tests completed!\n",
      "Progress: Batch of 256 tests completed!\n",
      "Progress: Batch of 211 tests completed!\n",
      "----------------------------------------------------------------------------------------------------\n",
      "Sample 650\n",
      "sentence 1\n",
      "REF: hatfield house in hertfordshire is ***\n",
      "HYP: hatfield house in hertfordshire is for\n",
      "                                          I\n",
      "\n",
      "----------------------------------------------------------------------------------------------------\n",
      "Sample 1653\n",
      "\n",
      "----------------------------------------------------------------------------------------------------\n",
      "Sample 1095\n",
      "sentence 1\n",
      "REF: now if we examine it **\n",
      "HYP: *** if we examine it we\n",
      "       D                   I\n",
      "\n",
      "----------------------------------------------------------------------------------------------------\n",
      "Results saved to /fs01/home/omidv/ASR-Error-Correction/results/test_lrs2.json\n"
     ]
    },
    {
     "name": "stderr",
     "output_type": "stream",
     "text": [
      "Some weights of RobertaModel were not initialized from the model checkpoint at roberta-large and are newly initialized: ['roberta.pooler.dense.bias', 'roberta.pooler.dense.weight']\n",
      "You should probably TRAIN this model on a down-stream task to be able to use it for predictions and inference.\n"
     ]
    },
    {
     "name": "stdout",
     "output_type": "stream",
     "text": [
      "Evaluating Oracle:\n",
      "Progress: Batch of 256 tests completed!\n",
      "Progress: Batch of 256 tests completed!\n",
      "Progress: Batch of 256 tests completed!\n",
      "Progress: Batch of 256 tests completed!\n",
      "Progress: Batch of 256 tests completed!\n",
      "Progress: Batch of 256 tests completed!\n",
      "Progress: Batch of 256 tests completed!\n",
      "Progress: Batch of 256 tests completed!\n",
      "Progress: Batch of 211 tests completed!\n",
      "----------------------------------------------------------------------------------------------------\n",
      "Sample 275\n",
      "sentence 1\n",
      "REF: jackie ashley and tina brown as well as the novelists helen fielding and zoe heller\n",
      "HYP: jackie ashley and tina brown as well as the  novelist helen fielding and zoe heller\n",
      "                                                         S                              \n",
      "\n",
      "----------------------------------------------------------------------------------------------------\n",
      "Sample 1731\n",
      "\n",
      "----------------------------------------------------------------------------------------------------\n",
      "Sample 698\n",
      "sentence 1\n",
      "REF: i think it is beautifully presented\n",
      "HYP: i think it is   beautiful presented\n",
      "                             S          \n",
      "\n",
      "----------------------------------------------------------------------------------------------------\n",
      "Results saved to /fs01/home/omidv/ASR-Error-Correction/results/test_lrs2.json\n"
     ]
    },
    {
     "name": "stderr",
     "output_type": "stream",
     "text": [
      "Some weights of RobertaModel were not initialized from the model checkpoint at roberta-large and are newly initialized: ['roberta.pooler.dense.bias', 'roberta.pooler.dense.weight']\n",
      "You should probably TRAIN this model on a down-stream task to be able to use it for predictions and inference.\n"
     ]
    },
    {
     "name": "stdout",
     "output_type": "stream",
     "text": [
      "Evaluating Top 1:\n",
      "Progress: Batch of 256 tests completed!\n",
      "Progress: Batch of 256 tests completed!\n",
      "Progress: Batch of 256 tests completed!\n",
      "Progress: Batch of 256 tests completed!\n",
      "Progress: Batch of 256 tests completed!\n",
      "Progress: Batch of 256 tests completed!\n",
      "Progress: Batch of 256 tests completed!\n",
      "Progress: Batch of 256 tests completed!\n",
      "Progress: Batch of 211 tests completed!\n",
      "----------------------------------------------------------------------------------------------------\n",
      "Sample 513\n",
      "sentence 1\n",
      "REF: it is not the tiber\n",
      "HYP: it is not the timer\n",
      "                       S\n",
      "\n",
      "----------------------------------------------------------------------------------------------------\n",
      "Sample 2011\n",
      "\n",
      "----------------------------------------------------------------------------------------------------\n",
      "Sample 607\n",
      "\n",
      "----------------------------------------------------------------------------------------------------\n",
      "Results saved to /fs01/home/omidv/ASR-Error-Correction/results/test_lrs2.json\n"
     ]
    },
    {
     "name": "stderr",
     "output_type": "stream",
     "text": [
      "Some weights of RobertaModel were not initialized from the model checkpoint at roberta-large and are newly initialized: ['roberta.pooler.dense.bias', 'roberta.pooler.dense.weight']\n",
      "You should probably TRAIN this model on a down-stream task to be able to use it for predictions and inference.\n"
     ]
    },
    {
     "name": "stdout",
     "output_type": "stream",
     "text": [
      "Benchmark saved to /fs01/home/omidv/ASR-Error-Correction/results/test_lrs2_gpt-4o.csv\n",
      "                     WER  METEOR  BERT Precision  BERT Recall  BERT F1\n",
      "Top 1              0.127   0.895           0.875        0.853    0.864\n",
      "Oracle             0.068   0.940           0.929        0.918    0.924\n",
      "Zero-shot Uncon    0.131   0.899           0.884        0.859    0.871\n",
      "Zero-shot Constr   0.126   0.902           0.884        0.861    0.872\n",
      "Zero-shot Closest  0.126   0.902           0.887        0.862    0.874\n"
     ]
    }
   ],
   "source": [
    "results_table = await run_evaluation(lrs_dataset, model, client, lrs_generation_config, lrs_results_path)\n",
    "print(results_table)"
   ]
  },
  {
   "cell_type": "code",
   "execution_count": 14,
   "id": "marked-discharge",
   "metadata": {},
   "outputs": [
    {
     "name": "stdout",
     "output_type": "stream",
     "text": [
      "Evaluating Zero-shot Unconstrained:\n",
      "Progress: Batch of 256 tests completed!\n",
      "Progress: Batch of 256 tests completed!\n",
      "Progress: Batch of 256 tests completed!\n",
      "Progress: Batch of 256 tests completed!\n",
      "Progress: Batch of 256 tests completed!\n",
      "Progress: Batch of 40 tests completed!\n",
      "----------------------------------------------------------------------------------------------------\n",
      "Sample 251\n",
      "sentence 1\n",
      "REF: assets more than doubled since then to one hundred *** sixty point four billion swiss francs one hundred *** fifteen point six billion dollars in *** ******** nineteen  eighty seven\n",
      "HYP: assets more than doubled since then to one hundred and sixty point four billion swiss francs one hundred and fifteen point six billion dollars in one thousand     nine hundred   and\n",
      "                                                          I                                                     I                                        I        I        S       S     S\n",
      "\n",
      "----------------------------------------------------------------------------------------------------\n",
      "Sample 376\n",
      "\n",
      "----------------------------------------------------------------------------------------------------\n",
      "Sample 1262\n",
      "sentence 1\n",
      "REF: he said the  company is goal is to have fifteen percent to twenty percent revenue growth to about three point two billion dollars for the year\n",
      "HYP: he said the companys ** goal is to have fifteen percent to twenty percent revenue growth to about three point two billion dollars per *** year\n",
      "                        S  D                                                                                                             S   D     \n",
      "\n",
      "----------------------------------------------------------------------------------------------------\n",
      "Results saved to /fs01/home/omidv/ASR-Error-Correction/results/test_chime4.json\n"
     ]
    },
    {
     "name": "stderr",
     "output_type": "stream",
     "text": [
      "Some weights of RobertaModel were not initialized from the model checkpoint at roberta-large and are newly initialized: ['roberta.pooler.dense.bias', 'roberta.pooler.dense.weight']\n",
      "You should probably TRAIN this model on a down-stream task to be able to use it for predictions and inference.\n"
     ]
    },
    {
     "name": "stdout",
     "output_type": "stream",
     "text": [
      "Evaluating Zero-shot Constrained:\n",
      "Progress: Batch of 256 tests completed!\n",
      "Progress: Batch of 256 tests completed!\n",
      "Progress: Batch of 256 tests completed!\n",
      "Progress: Batch of 256 tests completed!\n",
      "Progress: Batch of 256 tests completed!\n",
      "Progress: Batch of 40 tests completed!\n",
      "----------------------------------------------------------------------------------------------------\n",
      "Sample 110\n",
      "sentence 1\n",
      "REF: local membership jumped    twenty two percent but the union has already lost      twenty eight of the      seventy three new members\n",
      "HYP: local membership jumped twentytwo *** percent but the union has already lost twentyeight ***** of the seventythree ***** new members\n",
      "                                     S   D                                                  S     D                   S     D            \n",
      "\n",
      "----------------------------------------------------------------------------------------------------\n",
      "Sample 1272\n",
      "sentence 1\n",
      "REF: among men    forty one percent supported boosting the space exploration budget compared with nineteen percent of women\n",
      "HYP: among men fortyone *** percent supported boosting the space exploration budget compared with nineteen percent of women\n",
      "                      S   D                                                                                                \n",
      "\n",
      "----------------------------------------------------------------------------------------------------\n",
      "Sample 772\n",
      "sentence 1\n",
      "REF:    m i c c said it intends to pay the dividend arrears on july      thirty first to stock of record *** july second\n",
      "HYP: micc * * * said it intends to pay the dividend arrears on july thirtyonest ***** to stock of record for july  twond\n",
      "        S D D D                                                               S     D                      I           S\n",
      "\n",
      "----------------------------------------------------------------------------------------------------\n",
      "Results saved to /fs01/home/omidv/ASR-Error-Correction/results/test_chime4.json\n"
     ]
    },
    {
     "name": "stderr",
     "output_type": "stream",
     "text": [
      "Some weights of RobertaModel were not initialized from the model checkpoint at roberta-large and are newly initialized: ['roberta.pooler.dense.bias', 'roberta.pooler.dense.weight']\n",
      "You should probably TRAIN this model on a down-stream task to be able to use it for predictions and inference.\n"
     ]
    },
    {
     "name": "stdout",
     "output_type": "stream",
     "text": [
      "Evaluating Zero-shot Closest:\n",
      "Progress: Batch of 256 tests completed!\n",
      "Progress: Batch of 256 tests completed!\n",
      "Progress: Batch of 256 tests completed!\n",
      "Progress: Batch of 256 tests completed!\n",
      "Progress: Batch of 256 tests completed!\n",
      "Progress: Batch of 40 tests completed!\n",
      "----------------------------------------------------------------------------------------------------\n",
      "Sample 683\n",
      "sentence 1\n",
      "REF: the investor now owns      seventy three percent of the company\n",
      "HYP: the investor now owns seventythree ***** percent of the company\n",
      "                                      S     D                       \n",
      "\n",
      "----------------------------------------------------------------------------------------------------\n",
      "Sample 336\n",
      "\n",
      "----------------------------------------------------------------------------------------------------\n",
      "Sample 826\n",
      "sentence 1\n",
      "REF: after the third period ashland     is coal operations began a process of becoming an independent company\n",
      "HYP: after the third period ashland school **** operations began a process of becoming an independent company\n",
      "                                         S    D                                                              \n",
      "\n",
      "----------------------------------------------------------------------------------------------------\n",
      "Results saved to /fs01/home/omidv/ASR-Error-Correction/results/test_chime4.json\n"
     ]
    },
    {
     "name": "stderr",
     "output_type": "stream",
     "text": [
      "Some weights of RobertaModel were not initialized from the model checkpoint at roberta-large and are newly initialized: ['roberta.pooler.dense.bias', 'roberta.pooler.dense.weight']\n",
      "You should probably TRAIN this model on a down-stream task to be able to use it for predictions and inference.\n"
     ]
    },
    {
     "name": "stdout",
     "output_type": "stream",
     "text": [
      "Evaluating Oracle:\n",
      "Progress: Batch of 256 tests completed!\n",
      "Progress: Batch of 256 tests completed!\n",
      "Progress: Batch of 256 tests completed!\n",
      "Progress: Batch of 256 tests completed!\n",
      "Progress: Batch of 256 tests completed!\n",
      "Progress: Batch of 40 tests completed!\n",
      "----------------------------------------------------------------------------------------------------\n",
      "Sample 826\n",
      "sentence 1\n",
      "REF: after the third period ashland     is coal operations began a process of becoming an independent company\n",
      "HYP: after the third period ashland school **** operations began a process of becoming an independent company\n",
      "                                         S    D                                                              \n",
      "\n",
      "----------------------------------------------------------------------------------------------------\n",
      "Sample 1034\n",
      "\n",
      "----------------------------------------------------------------------------------------------------\n",
      "Sample 474\n",
      "\n",
      "----------------------------------------------------------------------------------------------------\n",
      "Results saved to /fs01/home/omidv/ASR-Error-Correction/results/test_chime4.json\n"
     ]
    },
    {
     "name": "stderr",
     "output_type": "stream",
     "text": [
      "Some weights of RobertaModel were not initialized from the model checkpoint at roberta-large and are newly initialized: ['roberta.pooler.dense.bias', 'roberta.pooler.dense.weight']\n",
      "You should probably TRAIN this model on a down-stream task to be able to use it for predictions and inference.\n"
     ]
    },
    {
     "name": "stdout",
     "output_type": "stream",
     "text": [
      "Evaluating Top 1:\n",
      "Progress: Batch of 256 tests completed!\n",
      "Progress: Batch of 256 tests completed!\n",
      "Progress: Batch of 256 tests completed!\n",
      "Progress: Batch of 256 tests completed!\n",
      "Progress: Batch of 256 tests completed!\n",
      "Progress: Batch of 40 tests completed!\n",
      "----------------------------------------------------------------------------------------------------\n",
      "Sample 650\n",
      "sentence 1\n",
      "REF: increasingly people who test positive join the support groups that have sprung up across the country in the past year\n",
      "HYP: increasingly people who test positive join *** support groups that have sprung up across the country in the past year\n",
      "                                                  D                                                                       \n",
      "\n",
      "----------------------------------------------------------------------------------------------------\n",
      "Sample 962\n",
      "sentence 1\n",
      "REF: washington national paid nineteen dollars a share for the two point six million united presidential shares it did not already own\n",
      "HYP: washington national paid nineteen ******* a share for the two point six million ****** ************ ****** ** *** *** ******* ***\n",
      "                                             D                                            D            D      D  D   D   D       D   D\n",
      "\n",
      "----------------------------------------------------------------------------------------------------\n",
      "Sample 325\n",
      "\n",
      "----------------------------------------------------------------------------------------------------\n",
      "Results saved to /fs01/home/omidv/ASR-Error-Correction/results/test_chime4.json\n"
     ]
    },
    {
     "name": "stderr",
     "output_type": "stream",
     "text": [
      "Some weights of RobertaModel were not initialized from the model checkpoint at roberta-large and are newly initialized: ['roberta.pooler.dense.bias', 'roberta.pooler.dense.weight']\n",
      "You should probably TRAIN this model on a down-stream task to be able to use it for predictions and inference.\n"
     ]
    },
    {
     "name": "stdout",
     "output_type": "stream",
     "text": [
      "Benchmark saved to /fs01/home/omidv/ASR-Error-Correction/results/test_chime4_gpt-4o.csv\n",
      "                     WER  METEOR  BERT Precision  BERT Recall  BERT F1\n",
      "Top 1              0.111   0.920           0.876        0.873    0.875\n",
      "Oracle             0.085   0.938           0.903        0.898    0.900\n",
      "Zero-shot Uncon    0.115   0.925           0.869        0.874    0.871\n",
      "Zero-shot Constr   0.106   0.924           0.882        0.880    0.881\n",
      "Zero-shot Closest  0.106   0.924           0.885        0.882    0.883\n"
     ]
    }
   ],
   "source": [
    "results_table = await run_evaluation(chime_dataset, model, client, chime_generation_config, chime_results_path)\n",
    "print(results_table)"
   ]
  },
  {
   "cell_type": "markdown",
   "id": "defined-welcome",
   "metadata": {},
   "source": [
    "#  Playground"
   ]
  },
  {
   "cell_type": "code",
   "execution_count": 4,
   "id": "fixed-concrete",
   "metadata": {},
   "outputs": [
    {
     "name": "stdout",
     "output_type": "stream",
     "text": [
      "I’m an AI language model developed by OpenAI, designed to assist with a variety of tasks, including answering questions, providing information, and generating text on a wide range of topics. My goal is to be helpful, informative, and engaging. If you have any questions or need assistance, feel free to ask!\n"
     ]
    }
   ],
   "source": [
    "model = \"gpt-4o-mini\"\n",
    "await check_availability(client, model)"
   ]
  },
  {
   "cell_type": "markdown",
   "id": "handmade-indonesia",
   "metadata": {},
   "source": [
    "## CoT Task Activating"
   ]
  },
  {
   "cell_type": "code",
   "execution_count": null,
   "id": "beautiful-gender",
   "metadata": {},
   "outputs": [],
   "source": [
    "results_table = await evaluate_model_parallel(cv_dataset, model, client, CoT_task_activating, cv_generation_config, cv_results_path, experimental=True, few_shot=1, error_examples=cv_examples)\n",
    "print(results_table)"
   ]
  },
  {
   "cell_type": "markdown",
   "id": "viral-architect",
   "metadata": {},
   "source": [
    "## Few-shot GPT-4o mini"
   ]
  },
  {
   "cell_type": "code",
   "execution_count": 5,
   "id": "criminal-passenger",
   "metadata": {
    "scrolled": true
   },
   "outputs": [
    {
     "name": "stdout",
     "output_type": "stream",
     "text": [
      "Progress: Batch of 256 tests completed!\n",
      "Progress: Batch of 256 tests completed!\n",
      "Progress: Batch of 256 tests completed!\n",
      "Progress: Batch of 256 tests completed!\n",
      "Progress: Batch of 256 tests completed!\n",
      "Progress: Batch of 256 tests completed!\n",
      "Progress: Batch of 256 tests completed!\n",
      "Progress: Batch of 208 tests completed!\n",
      "----------------------------------------------------------------------------------------------------\n",
      "Sample 661\n",
      "sentence 1\n",
      "REF: it is situated south of the river clyde in the     south west of the city\n",
      "HYP: it is situated south of the river clyde in the southwest **** of the city\n",
      "                                                            S    D            \n",
      "\n",
      "----------------------------------------------------------------------------------------------------\n",
      "Sample 140\n",
      "\n",
      "----------------------------------------------------------------------------------------------------\n",
      "Sample 1194\n",
      "sentence 1\n",
      "REF: the head coach was  kippy brown\n",
      "HYP: the head coach was skippy brown\n",
      "                             S      \n",
      "\n",
      "----------------------------------------------------------------------------------------------------\n",
      "Results saved to /fs01/home/omidv/ASR-Error-Correction/results/test_cv.json\n"
     ]
    },
    {
     "name": "stderr",
     "output_type": "stream",
     "text": [
      "Some weights of RobertaModel were not initialized from the model checkpoint at roberta-large and are newly initialized: ['roberta.pooler.dense.bias', 'roberta.pooler.dense.weight']\n",
      "You should probably TRAIN this model on a down-stream task to be able to use it for predictions and inference.\n"
     ]
    },
    {
     "name": "stdout",
     "output_type": "stream",
     "text": [
      "{'WER': 0.144, 'METEOR': 0.882, 'BERT Precision': 0.813, 'BERT Recall': 0.83, 'BERT F1': 0.821}\n"
     ]
    }
   ],
   "source": [
    "results_table = await evaluate_model_parallel(cv_dataset, model, client, few_shot_unconstrained, cv_generation_config, cv_results_path, few_shot=1, error_examples=cv_examples)\n",
    "print(results_table)"
   ]
  },
  {
   "cell_type": "code",
   "execution_count": 6,
   "id": "mysterious-choir",
   "metadata": {
    "scrolled": true
   },
   "outputs": [
    {
     "name": "stdout",
     "output_type": "stream",
     "text": [
      "Progress: Batch of 256 tests completed!\n",
      "Progress: Batch of 256 tests completed!\n",
      "Progress: Batch of 256 tests completed!\n",
      "Progress: Batch of 256 tests completed!\n",
      "Progress: Batch of 256 tests completed!\n",
      "Progress: Batch of 256 tests completed!\n",
      "Progress: Batch of 256 tests completed!\n",
      "Progress: Batch of 208 tests completed!\n",
      "----------------------------------------------------------------------------------------------------\n",
      "Sample 1103\n",
      "sentence 1\n",
      "REF:  he went to italy with other students\n",
      "HYP: you went to italy with other students\n",
      "       S                                  \n",
      "\n",
      "----------------------------------------------------------------------------------------------------\n",
      "Sample 552\n",
      "sentence 1\n",
      "REF: it is connected with parkes  way by freeway style on ramps\n",
      "HYP: it is connected with  parts made ** freeway style on drums\n",
      "                               S    S  D                      S\n",
      "\n",
      "----------------------------------------------------------------------------------------------------\n",
      "Sample 1733\n",
      "\n",
      "----------------------------------------------------------------------------------------------------\n",
      "Results saved to /fs01/home/omidv/ASR-Error-Correction/results/test_cv.json\n"
     ]
    },
    {
     "name": "stderr",
     "output_type": "stream",
     "text": [
      "Some weights of RobertaModel were not initialized from the model checkpoint at roberta-large and are newly initialized: ['roberta.pooler.dense.bias', 'roberta.pooler.dense.weight']\n",
      "You should probably TRAIN this model on a down-stream task to be able to use it for predictions and inference.\n"
     ]
    },
    {
     "name": "stdout",
     "output_type": "stream",
     "text": [
      "{'WER': 0.144, 'METEOR': 0.883, 'BERT Precision': 0.814, 'BERT Recall': 0.833, 'BERT F1': 0.823}\n"
     ]
    }
   ],
   "source": [
    "results_table = await evaluate_model_parallel(cv_dataset, model, client, few_shot_unconstrained, cv_generation_config, cv_results_path, few_shot=3, error_examples=cv_examples)\n",
    "print(results_table)"
   ]
  },
  {
   "cell_type": "code",
   "execution_count": 7,
   "id": "sonic-difference",
   "metadata": {
    "scrolled": true
   },
   "outputs": [
    {
     "name": "stdout",
     "output_type": "stream",
     "text": [
      "Progress: Batch of 256 tests completed!\n",
      "Progress: Batch of 256 tests completed!\n",
      "Progress: Batch of 256 tests completed!\n",
      "Progress: Batch of 256 tests completed!\n",
      "Progress: Batch of 256 tests completed!\n",
      "Progress: Batch of 256 tests completed!\n",
      "Progress: Batch of 256 tests completed!\n",
      "Progress: Batch of 208 tests completed!\n",
      "----------------------------------------------------------------------------------------------------\n",
      "Sample 1909\n",
      "\n",
      "----------------------------------------------------------------------------------------------------\n",
      "Sample 1344\n",
      "sentence 1\n",
      "REF: he seems to have gone to rome on behalf of cnut at least once\n",
      "HYP: he seems to have gone to rome on behalf of kana at least once\n",
      "                                                   S              \n",
      "\n",
      "----------------------------------------------------------------------------------------------------\n",
      "Sample 1328\n",
      "\n",
      "----------------------------------------------------------------------------------------------------\n",
      "Results saved to /fs01/home/omidv/ASR-Error-Correction/results/test_cv.json\n"
     ]
    },
    {
     "name": "stderr",
     "output_type": "stream",
     "text": [
      "Some weights of RobertaModel were not initialized from the model checkpoint at roberta-large and are newly initialized: ['roberta.pooler.dense.bias', 'roberta.pooler.dense.weight']\n",
      "You should probably TRAIN this model on a down-stream task to be able to use it for predictions and inference.\n"
     ]
    },
    {
     "name": "stdout",
     "output_type": "stream",
     "text": [
      "{'WER': 0.143, 'METEOR': 0.884, 'BERT Precision': 0.815, 'BERT Recall': 0.832, 'BERT F1': 0.824}\n"
     ]
    }
   ],
   "source": [
    "results_table = await evaluate_model_parallel(cv_dataset, model, client, few_shot_unconstrained, cv_generation_config, cv_results_path, few_shot=5, error_examples=cv_examples)\n",
    "print(results_table)"
   ]
  },
  {
   "cell_type": "code",
   "execution_count": 8,
   "id": "assumed-ability",
   "metadata": {
    "scrolled": true
   },
   "outputs": [
    {
     "name": "stdout",
     "output_type": "stream",
     "text": [
      "Progress: Batch of 256 tests completed!\n",
      "Progress: Batch of 256 tests completed!\n",
      "Progress: Batch of 256 tests completed!\n",
      "Progress: Batch of 256 tests completed!\n",
      "Progress: Batch of 256 tests completed!\n",
      "Progress: Batch of 256 tests completed!\n",
      "Progress: Batch of 256 tests completed!\n",
      "Progress: Batch of 208 tests completed!\n",
      "----------------------------------------------------------------------------------------------------\n",
      "Sample 961\n",
      "\n",
      "----------------------------------------------------------------------------------------------------\n",
      "Sample 1494\n",
      "sentence 1\n",
      "REF: she is the middle of three daughters born to douglas and   angela chalke\n",
      "HYP: she is the middle of three daughters born to douglas and angelina  quack\n",
      "                                                                     S      S\n",
      "\n",
      "----------------------------------------------------------------------------------------------------\n",
      "Sample 143\n",
      "\n",
      "----------------------------------------------------------------------------------------------------\n",
      "Results saved to /fs01/home/omidv/ASR-Error-Correction/results/test_cv.json\n"
     ]
    },
    {
     "name": "stderr",
     "output_type": "stream",
     "text": [
      "Some weights of RobertaModel were not initialized from the model checkpoint at roberta-large and are newly initialized: ['roberta.pooler.dense.bias', 'roberta.pooler.dense.weight']\n",
      "You should probably TRAIN this model on a down-stream task to be able to use it for predictions and inference.\n"
     ]
    },
    {
     "name": "stdout",
     "output_type": "stream",
     "text": [
      "{'WER': 0.143, 'METEOR': 0.885, 'BERT Precision': 0.818, 'BERT Recall': 0.834, 'BERT F1': 0.826}\n"
     ]
    }
   ],
   "source": [
    "results_table = await evaluate_model_parallel(cv_dataset, model, client, few_shot_unconstrained, cv_generation_config, cv_results_path, few_shot=7, error_examples=cv_examples)\n",
    "print(results_table)"
   ]
  },
  {
   "cell_type": "code",
   "execution_count": 11,
   "id": "available-poster",
   "metadata": {
    "scrolled": true
   },
   "outputs": [
    {
     "name": "stdout",
     "output_type": "stream",
     "text": [
      "Progress: Batch of 256 tests completed!\n",
      "Progress: Batch of 256 tests completed!\n",
      "Progress: Batch of 256 tests completed!\n",
      "Progress: Batch of 256 tests completed!\n",
      "Progress: Batch of 256 tests completed!\n",
      "Progress: Batch of 256 tests completed!\n",
      "Progress: Batch of 256 tests completed!\n",
      "Progress: Batch of 208 tests completed!\n",
      "----------------------------------------------------------------------------------------------------\n",
      "Sample 1895\n",
      "sentence 1\n",
      "REF: he was replaced by   godbout as *** liberal leader and premier\n",
      "HYP: he was replaced by godbought as the liberal leader and premier\n",
      "                                S      I                           \n",
      "\n",
      "----------------------------------------------------------------------------------------------------\n",
      "Sample 175\n",
      "\n",
      "----------------------------------------------------------------------------------------------------\n",
      "Sample 353\n",
      "\n",
      "----------------------------------------------------------------------------------------------------\n",
      "Results saved to /fs01/home/omidv/ASR-Error-Correction/results/test_cv.json\n"
     ]
    },
    {
     "name": "stderr",
     "output_type": "stream",
     "text": [
      "Some weights of RobertaModel were not initialized from the model checkpoint at roberta-large and are newly initialized: ['roberta.pooler.dense.bias', 'roberta.pooler.dense.weight']\n",
      "You should probably TRAIN this model on a down-stream task to be able to use it for predictions and inference.\n"
     ]
    },
    {
     "name": "stdout",
     "output_type": "stream",
     "text": [
      "{'WER': 0.139, 'METEOR': 0.881, 'BERT Precision': 0.81, 'BERT Recall': 0.824, 'BERT F1': 0.817}\n"
     ]
    }
   ],
   "source": [
    "results_table = await evaluate_model_parallel(cv_dataset, model, client, few_shot_closest, cv_generation_config, cv_results_path, few_shot=1, error_examples=cv_examples)\n",
    "print(results_table)"
   ]
  },
  {
   "cell_type": "code",
   "execution_count": 12,
   "id": "accessory-anthony",
   "metadata": {
    "scrolled": true
   },
   "outputs": [
    {
     "name": "stdout",
     "output_type": "stream",
     "text": [
      "Progress: Batch of 256 tests completed!\n",
      "Progress: Batch of 256 tests completed!\n",
      "Progress: Batch of 256 tests completed!\n",
      "Progress: Batch of 256 tests completed!\n",
      "Progress: Batch of 256 tests completed!\n",
      "Progress: Batch of 256 tests completed!\n",
      "Progress: Batch of 256 tests completed!\n",
      "Progress: Batch of 208 tests completed!\n",
      "----------------------------------------------------------------------------------------------------\n",
      "Sample 1132\n",
      "\n",
      "----------------------------------------------------------------------------------------------------\n",
      "Sample 442\n",
      "\n",
      "----------------------------------------------------------------------------------------------------\n",
      "Sample 1824\n",
      "sentence 1\n",
      "REF: he contributed to cultural journals from his early youth\n",
      "HYP: he contributed to cultural journals from his early years\n",
      "                                                            S\n",
      "\n",
      "----------------------------------------------------------------------------------------------------\n",
      "Results saved to /fs01/home/omidv/ASR-Error-Correction/results/test_cv.json\n"
     ]
    },
    {
     "name": "stderr",
     "output_type": "stream",
     "text": [
      "Some weights of RobertaModel were not initialized from the model checkpoint at roberta-large and are newly initialized: ['roberta.pooler.dense.bias', 'roberta.pooler.dense.weight']\n",
      "You should probably TRAIN this model on a down-stream task to be able to use it for predictions and inference.\n"
     ]
    },
    {
     "name": "stdout",
     "output_type": "stream",
     "text": [
      "{'WER': 0.137, 'METEOR': 0.883, 'BERT Precision': 0.811, 'BERT Recall': 0.825, 'BERT F1': 0.818}\n"
     ]
    }
   ],
   "source": [
    "results_table = await evaluate_model_parallel(cv_dataset, model, client, few_shot_closest, cv_generation_config, cv_results_path, few_shot=3, error_examples=cv_examples)\n",
    "print(results_table)"
   ]
  },
  {
   "cell_type": "code",
   "execution_count": 13,
   "id": "north-wealth",
   "metadata": {
    "scrolled": true
   },
   "outputs": [
    {
     "name": "stdout",
     "output_type": "stream",
     "text": [
      "Progress: Batch of 256 tests completed!\n",
      "Progress: Batch of 256 tests completed!\n",
      "Progress: Batch of 256 tests completed!\n",
      "Progress: Batch of 256 tests completed!\n",
      "Progress: Batch of 256 tests completed!\n",
      "Progress: Batch of 256 tests completed!\n",
      "Progress: Batch of 256 tests completed!\n",
      "Progress: Batch of 208 tests completed!\n",
      "----------------------------------------------------------------------------------------------------\n",
      "Sample 74\n",
      "sentence 1\n",
      "REF:  bas  belder is married with three children\n",
      "HYP: bass builder is married with three children\n",
      "        S       S                               \n",
      "\n",
      "----------------------------------------------------------------------------------------------------\n",
      "Sample 1286\n",
      "sentence 1\n",
      "REF: **** ** authoring a notable dissenting opinion was from then judge samuel   alito\n",
      "HYP: what is    having a notable dissenting opinion was from then judge samuel alitouf\n",
      "        I  I         S                                                               S\n",
      "\n",
      "----------------------------------------------------------------------------------------------------\n",
      "Sample 992\n",
      "\n",
      "----------------------------------------------------------------------------------------------------\n",
      "Results saved to /fs01/home/omidv/ASR-Error-Correction/results/test_cv.json\n"
     ]
    },
    {
     "name": "stderr",
     "output_type": "stream",
     "text": [
      "Some weights of RobertaModel were not initialized from the model checkpoint at roberta-large and are newly initialized: ['roberta.pooler.dense.bias', 'roberta.pooler.dense.weight']\n",
      "You should probably TRAIN this model on a down-stream task to be able to use it for predictions and inference.\n"
     ]
    },
    {
     "name": "stdout",
     "output_type": "stream",
     "text": [
      "{'WER': 0.136, 'METEOR': 0.883, 'BERT Precision': 0.812, 'BERT Recall': 0.826, 'BERT F1': 0.819}\n"
     ]
    }
   ],
   "source": [
    "results_table = await evaluate_model_parallel(cv_dataset, model, client, few_shot_closest, cv_generation_config, cv_results_path, few_shot=5, error_examples=cv_examples)\n",
    "print(results_table)"
   ]
  },
  {
   "cell_type": "code",
   "execution_count": 14,
   "id": "enhanced-provision",
   "metadata": {
    "scrolled": true
   },
   "outputs": [
    {
     "name": "stdout",
     "output_type": "stream",
     "text": [
      "Progress: Batch of 256 tests completed!\n",
      "Progress: Batch of 256 tests completed!\n",
      "Progress: Batch of 256 tests completed!\n",
      "Progress: Batch of 256 tests completed!\n",
      "Progress: Batch of 256 tests completed!\n",
      "Progress: Batch of 256 tests completed!\n",
      "Progress: Batch of 256 tests completed!\n",
      "Progress: Batch of 208 tests completed!\n",
      "----------------------------------------------------------------------------------------------------\n",
      "Sample 1477\n",
      "\n",
      "----------------------------------------------------------------------------------------------------\n",
      "Sample 230\n",
      "sentence 1\n",
      "REF: tigger says it was all   a joke but nobody else feels that way\n",
      "HYP: tigger says it was all the joke but nobody else feels that way\n",
      "                              S                                    \n",
      "\n",
      "----------------------------------------------------------------------------------------------------\n",
      "Sample 1857\n",
      "\n",
      "----------------------------------------------------------------------------------------------------\n",
      "Results saved to /fs01/home/omidv/ASR-Error-Correction/results/test_cv.json\n"
     ]
    },
    {
     "name": "stderr",
     "output_type": "stream",
     "text": [
      "Some weights of RobertaModel were not initialized from the model checkpoint at roberta-large and are newly initialized: ['roberta.pooler.dense.bias', 'roberta.pooler.dense.weight']\n",
      "You should probably TRAIN this model on a down-stream task to be able to use it for predictions and inference.\n"
     ]
    },
    {
     "name": "stdout",
     "output_type": "stream",
     "text": [
      "{'WER': 0.137, 'METEOR': 0.883, 'BERT Precision': 0.813, 'BERT Recall': 0.827, 'BERT F1': 0.82}\n"
     ]
    }
   ],
   "source": [
    "results_table = await evaluate_model_parallel(cv_dataset, model, client, few_shot_closest, cv_generation_config, cv_results_path, few_shot=7, error_examples=cv_examples)\n",
    "print(results_table)"
   ]
  },
  {
   "cell_type": "markdown",
   "id": "elect-colon",
   "metadata": {},
   "source": [
    "## Few-shot GPT-4o"
   ]
  },
  {
   "cell_type": "code",
   "execution_count": 25,
   "id": "single-stanford",
   "metadata": {},
   "outputs": [
    {
     "name": "stdout",
     "output_type": "stream",
     "text": [
      "Hello! I'm an AI language model created by OpenAI. I'm here to assist you with a wide range of questions and tasks, from providing information and answering queries to helping with writing and brainstorming ideas. If you have any specific questions or need assistance, feel free to ask!\n"
     ]
    }
   ],
   "source": [
    "model = \"gpt-4o\"\n",
    "await check_availability(client, model)"
   ]
  },
  {
   "cell_type": "code",
   "execution_count": 20,
   "id": "alternate-girlfriend",
   "metadata": {
    "scrolled": true
   },
   "outputs": [
    {
     "name": "stdout",
     "output_type": "stream",
     "text": [
      "Progress: Batch of 256 tests completed!\n",
      "Progress: Batch of 256 tests completed!\n",
      "Progress: Batch of 256 tests completed!\n",
      "Progress: Batch of 256 tests completed!\n",
      "Progress: Batch of 256 tests completed!\n",
      "Progress: Batch of 256 tests completed!\n",
      "Progress: Batch of 256 tests completed!\n",
      "Progress: Batch of 208 tests completed!\n",
      "----------------------------------------------------------------------------------------------------\n",
      "Sample 751\n",
      "sentence 1\n",
      "REF: multiple authors agree that wage laborers suffered the highest mortality for all groups\n",
      "HYP: multiple authors agree that wage laborers suffered the highest mortality  of all groups\n",
      "                                                                                S           \n",
      "\n",
      "----------------------------------------------------------------------------------------------------\n",
      "Sample 298\n",
      "sentence 1\n",
      "REF: he ** seemed to ****** forget his ankle\n",
      "HYP: he is   seen to figure    out his ankle\n",
      "         I      S         I      S          \n",
      "\n",
      "----------------------------------------------------------------------------------------------------\n",
      "Sample 743\n",
      "sentence 1\n",
      "REF: the gold belt ** byway contains many roads\n",
      "HYP: the gold belt by   way contains many roads\n",
      "                    I     S                    \n",
      "\n",
      "----------------------------------------------------------------------------------------------------\n",
      "Results saved to /fs01/home/omidv/ASR-Error-Correction/results/test_cv.json\n"
     ]
    },
    {
     "name": "stderr",
     "output_type": "stream",
     "text": [
      "Some weights of RobertaModel were not initialized from the model checkpoint at roberta-large and are newly initialized: ['roberta.pooler.dense.bias', 'roberta.pooler.dense.weight']\n",
      "You should probably TRAIN this model on a down-stream task to be able to use it for predictions and inference.\n"
     ]
    },
    {
     "name": "stdout",
     "output_type": "stream",
     "text": [
      "{'WER': 0.121, 'METEOR': 0.903, 'BERT Precision': 0.844, 'BERT Recall': 0.857, 'BERT F1': 0.851}\n"
     ]
    }
   ],
   "source": [
    "results_table = await evaluate_model_parallel(cv_dataset, model, client, few_shot_unconstrained, cv_generation_config, cv_results_path, few_shot=3, error_examples=cv_examples)\n",
    "print(results_table)"
   ]
  },
  {
   "cell_type": "code",
   "execution_count": 21,
   "id": "finite-olive",
   "metadata": {
    "scrolled": true
   },
   "outputs": [
    {
     "name": "stdout",
     "output_type": "stream",
     "text": [
      "Progress: Batch of 256 tests completed!\n",
      "Progress: Batch of 256 tests completed!\n",
      "Progress: Batch of 256 tests completed!\n",
      "Progress: Batch of 256 tests completed!\n",
      "Progress: Batch of 256 tests completed!\n",
      "Progress: Batch of 256 tests completed!\n",
      "Progress: Batch of 256 tests completed!\n",
      "Progress: Batch of 208 tests completed!\n",
      "----------------------------------------------------------------------------------------------------\n",
      "Sample 1577\n",
      "sentence 1\n",
      "REF: the town is close to the equator\n",
      "HYP: the town is close to   a  quarry\n",
      "                            S       S\n",
      "\n",
      "----------------------------------------------------------------------------------------------------\n",
      "Sample 1766\n",
      "\n",
      "----------------------------------------------------------------------------------------------------\n",
      "Sample 1298\n",
      "\n",
      "----------------------------------------------------------------------------------------------------\n",
      "Results saved to /fs01/home/omidv/ASR-Error-Correction/results/test_cv.json\n"
     ]
    },
    {
     "name": "stderr",
     "output_type": "stream",
     "text": [
      "Some weights of RobertaModel were not initialized from the model checkpoint at roberta-large and are newly initialized: ['roberta.pooler.dense.bias', 'roberta.pooler.dense.weight']\n",
      "You should probably TRAIN this model on a down-stream task to be able to use it for predictions and inference.\n"
     ]
    },
    {
     "name": "stdout",
     "output_type": "stream",
     "text": [
      "{'WER': 0.119, 'METEOR': 0.905, 'BERT Precision': 0.847, 'BERT Recall': 0.86, 'BERT F1': 0.854}\n"
     ]
    }
   ],
   "source": [
    "results_table = await evaluate_model_parallel(cv_dataset, model, client, few_shot_unconstrained, cv_generation_config, cv_results_path, few_shot=5, error_examples=cv_examples)\n",
    "print(results_table)"
   ]
  },
  {
   "cell_type": "code",
   "execution_count": 17,
   "id": "modern-puppy",
   "metadata": {},
   "outputs": [
    {
     "name": "stdout",
     "output_type": "stream",
     "text": [
      "Progress: Batch of 256 tests completed!\n",
      "Progress: Batch of 256 tests completed!\n",
      "Progress: Batch of 256 tests completed!\n",
      "Progress: Batch of 256 tests completed!\n",
      "Progress: Batch of 256 tests completed!\n",
      "Progress: Batch of 256 tests completed!\n",
      "Progress: Batch of 256 tests completed!\n",
      "Progress: Batch of 208 tests completed!\n",
      "----------------------------------------------------------------------------------------------------\n",
      "Sample 1603\n",
      "\n",
      "----------------------------------------------------------------------------------------------------\n",
      "Sample 1683\n",
      "sentence 1\n",
      "REF: this area attracts significant numbers of tourists particularly to the skiing center at zawoja\n",
      "HYP: this area attracts significant numbers of tourists particularly to the skiing center ** zawoja\n",
      "                                                                                           D       \n",
      "\n",
      "----------------------------------------------------------------------------------------------------\n",
      "Sample 1057\n",
      "sentence 1\n",
      "REF: a major local employer is the   w     h sammis power plant\n",
      "HYP: a major local employer is the who semis ****** power plant\n",
      "                                     S     S      D            \n",
      "\n",
      "----------------------------------------------------------------------------------------------------\n",
      "Results saved to /fs01/home/omidv/ASR-Error-Correction/results/test_cv.json\n"
     ]
    },
    {
     "name": "stderr",
     "output_type": "stream",
     "text": [
      "Some weights of RobertaModel were not initialized from the model checkpoint at roberta-large and are newly initialized: ['roberta.pooler.dense.bias', 'roberta.pooler.dense.weight']\n",
      "You should probably TRAIN this model on a down-stream task to be able to use it for predictions and inference.\n"
     ]
    },
    {
     "name": "stdout",
     "output_type": "stream",
     "text": [
      "{'WER': 0.125, 'METEOR': 0.903, 'BERT Precision': 0.846, 'BERT Recall': 0.856, 'BERT F1': 0.851}\n"
     ]
    }
   ],
   "source": [
    "results_table = await evaluate_model_parallel(cv_dataset, model, client, few_shot_unconstrained, cv_generation_config, cv_results_path, few_shot=7, error_examples=cv_examples)\n",
    "print(results_table)"
   ]
  },
  {
   "cell_type": "code",
   "execution_count": 27,
   "id": "successful-pollution",
   "metadata": {
    "scrolled": true
   },
   "outputs": [
    {
     "name": "stdout",
     "output_type": "stream",
     "text": [
      "Progress: Batch of 256 tests completed!\n",
      "Progress: Batch of 256 tests completed!\n",
      "Progress: Batch of 256 tests completed!\n",
      "Progress: Batch of 256 tests completed!\n",
      "Progress: Batch of 256 tests completed!\n",
      "Progress: Batch of 256 tests completed!\n",
      "Progress: Batch of 256 tests completed!\n",
      "Progress: Batch of 208 tests completed!\n",
      "----------------------------------------------------------------------------------------------------\n",
      "Sample 1957\n",
      "sentence 1\n",
      "REF: he is married to novelist judy  astley\n",
      "HYP: he is married to novelist judy attsley\n",
      "                                          S\n",
      "\n",
      "----------------------------------------------------------------------------------------------------\n",
      "Sample 94\n",
      "\n",
      "----------------------------------------------------------------------------------------------------\n",
      "Sample 1115\n",
      "\n",
      "----------------------------------------------------------------------------------------------------\n",
      "Results saved to /fs01/home/omidv/ASR-Error-Correction/results/test_cv.json\n"
     ]
    },
    {
     "name": "stderr",
     "output_type": "stream",
     "text": [
      "Some weights of RobertaModel were not initialized from the model checkpoint at roberta-large and are newly initialized: ['roberta.pooler.dense.bias', 'roberta.pooler.dense.weight']\n",
      "You should probably TRAIN this model on a down-stream task to be able to use it for predictions and inference.\n"
     ]
    },
    {
     "name": "stdout",
     "output_type": "stream",
     "text": [
      "{'WER': 0.133, 'METEOR': 0.886, 'BERT Precision': 0.818, 'BERT Recall': 0.83, 'BERT F1': 0.824}\n"
     ]
    }
   ],
   "source": [
    "results_table = await evaluate_model_parallel(cv_dataset, model, client, few_shot_closest, cv_generation_config, cv_results_path, few_shot=5, error_examples=cv_examples)\n",
    "print(results_table)"
   ]
  },
  {
   "cell_type": "code",
   "execution_count": 19,
   "id": "chinese-earth",
   "metadata": {},
   "outputs": [
    {
     "name": "stdout",
     "output_type": "stream",
     "text": [
      "Progress: Batch of 256 tests completed!\n",
      "Progress: Batch of 256 tests completed!\n",
      "Progress: Batch of 256 tests completed!\n",
      "Progress: Batch of 256 tests completed!\n",
      "Progress: Batch of 256 tests completed!\n",
      "Progress: Batch of 256 tests completed!\n",
      "Progress: Batch of 256 tests completed!\n",
      "Progress: Batch of 208 tests completed!\n",
      "----------------------------------------------------------------------------------------------------\n",
      "Sample 609\n",
      "sentence 1\n",
      "REF: howe taught bridgman himself\n",
      "HYP: hoey   told brickman himself\n",
      "        S      S        S        \n",
      "\n",
      "----------------------------------------------------------------------------------------------------\n",
      "Sample 324\n",
      "\n",
      "----------------------------------------------------------------------------------------------------\n",
      "Sample 789\n",
      "sentence 1\n",
      "REF: the  song was released on the philips label\n",
      "HYP: the storm was released on the    page level\n",
      "             S                           S     S\n",
      "\n",
      "----------------------------------------------------------------------------------------------------\n",
      "Results saved to /fs01/home/omidv/ASR-Error-Correction/results/test_cv.json\n"
     ]
    },
    {
     "name": "stderr",
     "output_type": "stream",
     "text": [
      "Some weights of RobertaModel were not initialized from the model checkpoint at roberta-large and are newly initialized: ['roberta.pooler.dense.bias', 'roberta.pooler.dense.weight']\n",
      "You should probably TRAIN this model on a down-stream task to be able to use it for predictions and inference.\n"
     ]
    },
    {
     "name": "stdout",
     "output_type": "stream",
     "text": [
      "{'WER': 0.131, 'METEOR': 0.887, 'BERT Precision': 0.82, 'BERT Recall': 0.831, 'BERT F1': 0.825}\n"
     ]
    }
   ],
   "source": [
    "results_table = await evaluate_model_parallel(cv_dataset, model, client, few_shot_closest, cv_generation_config, cv_results_path, few_shot=7, error_examples=cv_examples)\n",
    "print(results_table)"
   ]
  }
 ],
 "metadata": {
  "kernelspec": {
   "display_name": "kscope",
   "language": "python",
   "name": "kscope"
  },
  "language_info": {
   "codemirror_mode": {
    "name": "ipython",
    "version": 3
   },
   "file_extension": ".py",
   "mimetype": "text/x-python",
   "name": "python",
   "nbconvert_exporter": "python",
   "pygments_lexer": "ipython3",
   "version": "3.12.0"
  }
 },
 "nbformat": 4,
 "nbformat_minor": 5
}
